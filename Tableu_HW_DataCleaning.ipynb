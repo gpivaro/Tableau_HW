{
 "cells": [
  {
   "cell_type": "markdown",
   "metadata": {},
   "source": [
    "# Tableau Homework - Citi Bike Analytics"
   ]
  },
  {
   "cell_type": "markdown",
   "metadata": {},
   "source": [
    "Since 2013, the Citi Bike Program has implemented a robust infrastructure for collecting data on the program's utilization. Through the team's efforts, each month bike data is collected, organized, and made public on the Citi Bike Data [webpage](https://www.citibikenyc.com/system-data)"
   ]
  },
  {
   "cell_type": "markdown",
   "metadata": {},
   "source": [
    "Task\n",
    "Your task in this assignment is to aggregate the data found in the Citi Bike Trip History Logs and find two unexpected phenomena.\n",
    "\n",
    "Design 2-5 visualizations for each discovered phenomena (4-10 total). You may work with a timespan of your choosing. Optionally, you may merge multiple datasets from different periods."
   ]
  },
  {
   "cell_type": "markdown",
   "metadata": {},
   "source": [
    "### Import Dependencies"
   ]
  },
  {
   "cell_type": "code",
   "execution_count": 1,
   "metadata": {},
   "outputs": [],
   "source": [
    "import os\n",
    "import pandas as pd"
   ]
  },
  {
   "cell_type": "markdown",
   "metadata": {},
   "source": [
    "### Import and clean the data"
   ]
  },
  {
   "cell_type": "code",
   "execution_count": 2,
   "metadata": {},
   "outputs": [
    {
     "name": "stdout",
     "output_type": "stream",
     "text": [
      "JC-2018-2020\\JC-202011-citibike-tripdata.csv\n"
     ]
    }
   ],
   "source": [
    "directory = \"JC-2018-2020\"\n",
    "filepath = os.path.join(directory,\"JC-202011-citibike-tripdata.csv\")\n",
    "print(filepath)"
   ]
  },
  {
   "cell_type": "code",
   "execution_count": 3,
   "metadata": {},
   "outputs": [],
   "source": [
    "# df = pd.read_csv(filepath)"
   ]
  },
  {
   "cell_type": "code",
   "execution_count": 4,
   "metadata": {},
   "outputs": [],
   "source": [
    "# Get list of files on the directory\n",
    "files_list = [];\n",
    "for filename in os.listdir(directory):\n",
    "    if filename.endswith(\".csv\"):\n",
    "        files_list.append(os.path.join(filename))\n",
    "\n",
    "    else:\n",
    "        continue"
   ]
  },
  {
   "cell_type": "code",
   "execution_count": 5,
   "metadata": {},
   "outputs": [],
   "source": [
    "df_merged = pd.DataFrame({'A' : []})"
   ]
  },
  {
   "cell_type": "code",
   "execution_count": 6,
   "metadata": {},
   "outputs": [],
   "source": [
    "n = 0\n",
    "for file in files_list:\n",
    "    if n == 0:\n",
    "        filepath = os.path.join(directory,file)\n",
    "        df_merged = pd.read_csv(filepath)\n",
    "    else:\n",
    "        filepath = os.path.join(directory,file)\n",
    "        df = pd.read_csv(filepath)\n",
    "        df_merged = pd.merge(df, df_merged, how='outer')\n",
    "    \n",
    "    n += 1"
   ]
  },
  {
   "cell_type": "code",
   "execution_count": 7,
   "metadata": {},
   "outputs": [
    {
     "data": {
      "text/html": [
       "<div>\n",
       "<style scoped>\n",
       "    .dataframe tbody tr th:only-of-type {\n",
       "        vertical-align: middle;\n",
       "    }\n",
       "\n",
       "    .dataframe tbody tr th {\n",
       "        vertical-align: top;\n",
       "    }\n",
       "\n",
       "    .dataframe thead th {\n",
       "        text-align: right;\n",
       "    }\n",
       "</style>\n",
       "<table border=\"1\" class=\"dataframe\">\n",
       "  <thead>\n",
       "    <tr style=\"text-align: right;\">\n",
       "      <th></th>\n",
       "      <th>tripduration</th>\n",
       "      <th>starttime</th>\n",
       "      <th>stoptime</th>\n",
       "      <th>start station id</th>\n",
       "      <th>start station name</th>\n",
       "      <th>start station latitude</th>\n",
       "      <th>start station longitude</th>\n",
       "      <th>end station id</th>\n",
       "      <th>end station name</th>\n",
       "      <th>end station latitude</th>\n",
       "      <th>end station longitude</th>\n",
       "      <th>bikeid</th>\n",
       "      <th>usertype</th>\n",
       "      <th>birth year</th>\n",
       "      <th>gender</th>\n",
       "      <th>starttime.1</th>\n",
       "    </tr>\n",
       "  </thead>\n",
       "  <tbody>\n",
       "    <tr>\n",
       "      <th>0</th>\n",
       "      <td>756</td>\n",
       "      <td>2020-11-01 00:11:32.6250</td>\n",
       "      <td>2020-11-01 00:24:09.5850</td>\n",
       "      <td>3275</td>\n",
       "      <td>Columbus Drive</td>\n",
       "      <td>40.718355</td>\n",
       "      <td>-74.038914</td>\n",
       "      <td>3225</td>\n",
       "      <td>Baldwin at Montgomery</td>\n",
       "      <td>40.723659</td>\n",
       "      <td>-74.064194</td>\n",
       "      <td>42436</td>\n",
       "      <td>Subscriber</td>\n",
       "      <td>1984.0</td>\n",
       "      <td>1</td>\n",
       "      <td>NaN</td>\n",
       "    </tr>\n",
       "    <tr>\n",
       "      <th>1</th>\n",
       "      <td>584</td>\n",
       "      <td>2020-11-01 00:14:20.4820</td>\n",
       "      <td>2020-11-01 00:24:04.7820</td>\n",
       "      <td>3681</td>\n",
       "      <td>Grand St</td>\n",
       "      <td>40.715178</td>\n",
       "      <td>-74.037683</td>\n",
       "      <td>3209</td>\n",
       "      <td>Brunswick St</td>\n",
       "      <td>40.724176</td>\n",
       "      <td>-74.050656</td>\n",
       "      <td>46532</td>\n",
       "      <td>Customer</td>\n",
       "      <td>1969.0</td>\n",
       "      <td>0</td>\n",
       "      <td>NaN</td>\n",
       "    </tr>\n",
       "    <tr>\n",
       "      <th>2</th>\n",
       "      <td>403</td>\n",
       "      <td>2020-11-01 00:22:55.8820</td>\n",
       "      <td>2020-11-01 00:29:39.0950</td>\n",
       "      <td>3203</td>\n",
       "      <td>Hamilton Park</td>\n",
       "      <td>40.727596</td>\n",
       "      <td>-74.044247</td>\n",
       "      <td>3483</td>\n",
       "      <td>Montgomery St</td>\n",
       "      <td>40.719420</td>\n",
       "      <td>-74.050990</td>\n",
       "      <td>35139</td>\n",
       "      <td>Subscriber</td>\n",
       "      <td>1980.0</td>\n",
       "      <td>1</td>\n",
       "      <td>NaN</td>\n",
       "    </tr>\n",
       "    <tr>\n",
       "      <th>3</th>\n",
       "      <td>498</td>\n",
       "      <td>2020-11-01 00:41:37.4270</td>\n",
       "      <td>2020-11-01 00:49:55.7010</td>\n",
       "      <td>3268</td>\n",
       "      <td>Lafayette Park</td>\n",
       "      <td>40.713464</td>\n",
       "      <td>-74.062859</td>\n",
       "      <td>3213</td>\n",
       "      <td>Van Vorst Park</td>\n",
       "      <td>40.718489</td>\n",
       "      <td>-74.047727</td>\n",
       "      <td>46539</td>\n",
       "      <td>Customer</td>\n",
       "      <td>1969.0</td>\n",
       "      <td>0</td>\n",
       "      <td>NaN</td>\n",
       "    </tr>\n",
       "    <tr>\n",
       "      <th>4</th>\n",
       "      <td>151</td>\n",
       "      <td>2020-11-01 00:53:21.2340</td>\n",
       "      <td>2020-11-01 00:55:52.8060</td>\n",
       "      <td>3185</td>\n",
       "      <td>City Hall</td>\n",
       "      <td>40.717733</td>\n",
       "      <td>-74.043845</td>\n",
       "      <td>3276</td>\n",
       "      <td>Marin Light Rail</td>\n",
       "      <td>40.714584</td>\n",
       "      <td>-74.042817</td>\n",
       "      <td>44388</td>\n",
       "      <td>Subscriber</td>\n",
       "      <td>1986.0</td>\n",
       "      <td>1</td>\n",
       "      <td>NaN</td>\n",
       "    </tr>\n",
       "    <tr>\n",
       "      <th>...</th>\n",
       "      <td>...</td>\n",
       "      <td>...</td>\n",
       "      <td>...</td>\n",
       "      <td>...</td>\n",
       "      <td>...</td>\n",
       "      <td>...</td>\n",
       "      <td>...</td>\n",
       "      <td>...</td>\n",
       "      <td>...</td>\n",
       "      <td>...</td>\n",
       "      <td>...</td>\n",
       "      <td>...</td>\n",
       "      <td>...</td>\n",
       "      <td>...</td>\n",
       "      <td>...</td>\n",
       "      <td>...</td>\n",
       "    </tr>\n",
       "    <tr>\n",
       "      <th>2164293</th>\n",
       "      <td>358</td>\n",
       "      <td>2017-12-31 20:25:06</td>\n",
       "      <td>2017-12-31 20:31:04</td>\n",
       "      <td>3278</td>\n",
       "      <td>Monmouth and 6th</td>\n",
       "      <td>40.725685</td>\n",
       "      <td>-74.048790</td>\n",
       "      <td>3185</td>\n",
       "      <td>City Hall</td>\n",
       "      <td>40.717732</td>\n",
       "      <td>-74.043845</td>\n",
       "      <td>31938</td>\n",
       "      <td>Subscriber</td>\n",
       "      <td>1987.0</td>\n",
       "      <td>2</td>\n",
       "      <td>2017-12-31 20:25:06</td>\n",
       "    </tr>\n",
       "    <tr>\n",
       "      <th>2164294</th>\n",
       "      <td>354</td>\n",
       "      <td>2017-12-31 20:25:06</td>\n",
       "      <td>2017-12-31 20:31:01</td>\n",
       "      <td>3278</td>\n",
       "      <td>Monmouth and 6th</td>\n",
       "      <td>40.725685</td>\n",
       "      <td>-74.048790</td>\n",
       "      <td>3185</td>\n",
       "      <td>City Hall</td>\n",
       "      <td>40.717732</td>\n",
       "      <td>-74.043845</td>\n",
       "      <td>29604</td>\n",
       "      <td>Subscriber</td>\n",
       "      <td>1986.0</td>\n",
       "      <td>1</td>\n",
       "      <td>2017-12-31 20:25:06</td>\n",
       "    </tr>\n",
       "    <tr>\n",
       "      <th>2164295</th>\n",
       "      <td>345</td>\n",
       "      <td>2017-12-31 21:06:52</td>\n",
       "      <td>2017-12-31 21:12:38</td>\n",
       "      <td>3639</td>\n",
       "      <td>Harborside</td>\n",
       "      <td>40.719252</td>\n",
       "      <td>-74.034234</td>\n",
       "      <td>3202</td>\n",
       "      <td>Newport PATH</td>\n",
       "      <td>40.727224</td>\n",
       "      <td>-74.033759</td>\n",
       "      <td>31762</td>\n",
       "      <td>Subscriber</td>\n",
       "      <td>1991.0</td>\n",
       "      <td>1</td>\n",
       "      <td>2017-12-31 21:06:52</td>\n",
       "    </tr>\n",
       "    <tr>\n",
       "      <th>2164296</th>\n",
       "      <td>972</td>\n",
       "      <td>2017-12-31 21:54:12</td>\n",
       "      <td>2017-12-31 22:10:25</td>\n",
       "      <td>3191</td>\n",
       "      <td>Union St</td>\n",
       "      <td>40.718211</td>\n",
       "      <td>-74.083639</td>\n",
       "      <td>3186</td>\n",
       "      <td>Grove St PATH</td>\n",
       "      <td>40.719586</td>\n",
       "      <td>-74.043117</td>\n",
       "      <td>29644</td>\n",
       "      <td>Subscriber</td>\n",
       "      <td>1987.0</td>\n",
       "      <td>2</td>\n",
       "      <td>2017-12-31 21:54:12</td>\n",
       "    </tr>\n",
       "    <tr>\n",
       "      <th>2164297</th>\n",
       "      <td>93</td>\n",
       "      <td>2017-12-31 22:55:10</td>\n",
       "      <td>2017-12-31 22:56:43</td>\n",
       "      <td>3186</td>\n",
       "      <td>Grove St PATH</td>\n",
       "      <td>40.719586</td>\n",
       "      <td>-74.043117</td>\n",
       "      <td>3185</td>\n",
       "      <td>City Hall</td>\n",
       "      <td>40.717732</td>\n",
       "      <td>-74.043845</td>\n",
       "      <td>31920</td>\n",
       "      <td>Subscriber</td>\n",
       "      <td>1957.0</td>\n",
       "      <td>1</td>\n",
       "      <td>2017-12-31 22:55:10</td>\n",
       "    </tr>\n",
       "  </tbody>\n",
       "</table>\n",
       "<p>2164298 rows × 16 columns</p>\n",
       "</div>"
      ],
      "text/plain": [
       "         tripduration                 starttime                  stoptime  \\\n",
       "0                 756  2020-11-01 00:11:32.6250  2020-11-01 00:24:09.5850   \n",
       "1                 584  2020-11-01 00:14:20.4820  2020-11-01 00:24:04.7820   \n",
       "2                 403  2020-11-01 00:22:55.8820  2020-11-01 00:29:39.0950   \n",
       "3                 498  2020-11-01 00:41:37.4270  2020-11-01 00:49:55.7010   \n",
       "4                 151  2020-11-01 00:53:21.2340  2020-11-01 00:55:52.8060   \n",
       "...               ...                       ...                       ...   \n",
       "2164293           358       2017-12-31 20:25:06       2017-12-31 20:31:04   \n",
       "2164294           354       2017-12-31 20:25:06       2017-12-31 20:31:01   \n",
       "2164295           345       2017-12-31 21:06:52       2017-12-31 21:12:38   \n",
       "2164296           972       2017-12-31 21:54:12       2017-12-31 22:10:25   \n",
       "2164297            93       2017-12-31 22:55:10       2017-12-31 22:56:43   \n",
       "\n",
       "         start station id start station name  start station latitude  \\\n",
       "0                    3275     Columbus Drive               40.718355   \n",
       "1                    3681           Grand St               40.715178   \n",
       "2                    3203      Hamilton Park               40.727596   \n",
       "3                    3268     Lafayette Park               40.713464   \n",
       "4                    3185          City Hall               40.717733   \n",
       "...                   ...                ...                     ...   \n",
       "2164293              3278   Monmouth and 6th               40.725685   \n",
       "2164294              3278   Monmouth and 6th               40.725685   \n",
       "2164295              3639         Harborside               40.719252   \n",
       "2164296              3191           Union St               40.718211   \n",
       "2164297              3186      Grove St PATH               40.719586   \n",
       "\n",
       "         start station longitude  end station id       end station name  \\\n",
       "0                     -74.038914            3225  Baldwin at Montgomery   \n",
       "1                     -74.037683            3209           Brunswick St   \n",
       "2                     -74.044247            3483          Montgomery St   \n",
       "3                     -74.062859            3213         Van Vorst Park   \n",
       "4                     -74.043845            3276       Marin Light Rail   \n",
       "...                          ...             ...                    ...   \n",
       "2164293               -74.048790            3185              City Hall   \n",
       "2164294               -74.048790            3185              City Hall   \n",
       "2164295               -74.034234            3202           Newport PATH   \n",
       "2164296               -74.083639            3186          Grove St PATH   \n",
       "2164297               -74.043117            3185              City Hall   \n",
       "\n",
       "         end station latitude  end station longitude  bikeid    usertype  \\\n",
       "0                   40.723659             -74.064194   42436  Subscriber   \n",
       "1                   40.724176             -74.050656   46532    Customer   \n",
       "2                   40.719420             -74.050990   35139  Subscriber   \n",
       "3                   40.718489             -74.047727   46539    Customer   \n",
       "4                   40.714584             -74.042817   44388  Subscriber   \n",
       "...                       ...                    ...     ...         ...   \n",
       "2164293             40.717732             -74.043845   31938  Subscriber   \n",
       "2164294             40.717732             -74.043845   29604  Subscriber   \n",
       "2164295             40.727224             -74.033759   31762  Subscriber   \n",
       "2164296             40.719586             -74.043117   29644  Subscriber   \n",
       "2164297             40.717732             -74.043845   31920  Subscriber   \n",
       "\n",
       "         birth year  gender          starttime.1  \n",
       "0            1984.0       1                  NaN  \n",
       "1            1969.0       0                  NaN  \n",
       "2            1980.0       1                  NaN  \n",
       "3            1969.0       0                  NaN  \n",
       "4            1986.0       1                  NaN  \n",
       "...             ...     ...                  ...  \n",
       "2164293      1987.0       2  2017-12-31 20:25:06  \n",
       "2164294      1986.0       1  2017-12-31 20:25:06  \n",
       "2164295      1991.0       1  2017-12-31 21:06:52  \n",
       "2164296      1987.0       2  2017-12-31 21:54:12  \n",
       "2164297      1957.0       1  2017-12-31 22:55:10  \n",
       "\n",
       "[2164298 rows x 16 columns]"
      ]
     },
     "execution_count": 7,
     "metadata": {},
     "output_type": "execute_result"
    }
   ],
   "source": [
    "df_merged"
   ]
  },
  {
   "cell_type": "code",
   "execution_count": 8,
   "metadata": {},
   "outputs": [
    {
     "data": {
      "text/plain": [
       "tripduration                     0\n",
       "starttime                        0\n",
       "stoptime                         0\n",
       "start station id                 0\n",
       "start station name               0\n",
       "start station latitude           0\n",
       "start station longitude          0\n",
       "end station id                   0\n",
       "end station name                 0\n",
       "end station latitude             0\n",
       "end station longitude            0\n",
       "bikeid                           0\n",
       "usertype                         0\n",
       "birth year                     676\n",
       "gender                           0\n",
       "starttime.1                1077904\n",
       "dtype: int64"
      ]
     },
     "execution_count": 8,
     "metadata": {},
     "output_type": "execute_result"
    }
   ],
   "source": [
    "df_merged.isnull().sum()"
   ]
  },
  {
   "cell_type": "code",
   "execution_count": 9,
   "metadata": {},
   "outputs": [
    {
     "data": {
      "text/plain": [
       "True"
      ]
     },
     "execution_count": 9,
     "metadata": {},
     "output_type": "execute_result"
    }
   ],
   "source": [
    "df_merged.isnull().values.any()"
   ]
  },
  {
   "cell_type": "code",
   "execution_count": 10,
   "metadata": {},
   "outputs": [],
   "source": [
    "# df_merged.to_csv(os.path.join(directory,\"JC-2017-2020-merged.csv\"))"
   ]
  },
  {
   "cell_type": "code",
   "execution_count": 11,
   "metadata": {},
   "outputs": [
    {
     "data": {
      "text/html": [
       "<div>\n",
       "<style scoped>\n",
       "    .dataframe tbody tr th:only-of-type {\n",
       "        vertical-align: middle;\n",
       "    }\n",
       "\n",
       "    .dataframe tbody tr th {\n",
       "        vertical-align: top;\n",
       "    }\n",
       "\n",
       "    .dataframe thead th {\n",
       "        text-align: right;\n",
       "    }\n",
       "</style>\n",
       "<table border=\"1\" class=\"dataframe\">\n",
       "  <thead>\n",
       "    <tr style=\"text-align: right;\">\n",
       "      <th></th>\n",
       "      <th>tripduration</th>\n",
       "      <th>starttime</th>\n",
       "      <th>stoptime</th>\n",
       "      <th>start station id</th>\n",
       "      <th>start station name</th>\n",
       "      <th>start station latitude</th>\n",
       "      <th>start station longitude</th>\n",
       "      <th>end station id</th>\n",
       "      <th>end station name</th>\n",
       "      <th>end station latitude</th>\n",
       "      <th>end station longitude</th>\n",
       "      <th>bikeid</th>\n",
       "      <th>usertype</th>\n",
       "      <th>birth year</th>\n",
       "      <th>gender</th>\n",
       "      <th>starttime.1</th>\n",
       "    </tr>\n",
       "  </thead>\n",
       "  <tbody>\n",
       "  </tbody>\n",
       "</table>\n",
       "</div>"
      ],
      "text/plain": [
       "Empty DataFrame\n",
       "Columns: [tripduration, starttime, stoptime, start station id, start station name, start station latitude, start station longitude, end station id, end station name, end station latitude, end station longitude, bikeid, usertype, birth year, gender, starttime.1]\n",
       "Index: []"
      ]
     },
     "execution_count": 11,
     "metadata": {},
     "output_type": "execute_result"
    }
   ],
   "source": [
    "nanlist = df_merged[df_merged['starttime'].isnull()]\n",
    "nanlist"
   ]
  },
  {
   "cell_type": "code",
   "execution_count": 12,
   "metadata": {},
   "outputs": [
    {
     "data": {
      "text/plain": [
       "count     2164298\n",
       "unique          1\n",
       "top         False\n",
       "freq      2164298\n",
       "Name: starttime, dtype: object"
      ]
     },
     "execution_count": 12,
     "metadata": {},
     "output_type": "execute_result"
    }
   ],
   "source": [
    "# creating bool series True for NaN values  \n",
    "bool_series = pd.isnull(df_merged['starttime'])  \n",
    "    \n",
    "bool_series.describe()"
   ]
  },
  {
   "cell_type": "code",
   "execution_count": 13,
   "metadata": {},
   "outputs": [
    {
     "data": {
      "text/plain": [
       "1969.0    196399\n",
       "1988.0    115454\n",
       "1989.0    111354\n",
       "1987.0    105018\n",
       "1986.0    102072\n",
       "           ...  \n",
       "1943.0         4\n",
       "1938.0         2\n",
       "1920.0         2\n",
       "1905.0         2\n",
       "1901.0         2\n",
       "Name: birth year, Length: 79, dtype: int64"
      ]
     },
     "execution_count": 13,
     "metadata": {},
     "output_type": "execute_result"
    }
   ],
   "source": [
    "df_merged['birth year'].value_counts()"
   ]
  },
  {
   "cell_type": "code",
   "execution_count": 14,
   "metadata": {},
   "outputs": [
    {
     "data": {
      "text/plain": [
       "<matplotlib.axes._subplots.AxesSubplot at 0x1f00a10d1f0>"
      ]
     },
     "execution_count": 14,
     "metadata": {},
     "output_type": "execute_result"
    },
    {
     "data": {
      "image/png": "[encoded data removed]",
      "text/plain": [
       "<Figure size 432x288 with 1 Axes>"
      ]
     },
     "metadata": {
      "needs_background": "light"
     },
     "output_type": "display_data"
    }
   ],
   "source": [
    "df_merged['birth year'].hist(bins=50)"
   ]
  },
  {
   "cell_type": "code",
   "execution_count": 15,
   "metadata": {
    "scrolled": false
   },
   "outputs": [
    {
     "data": {
      "text/html": [
       "<div>\n",
       "<style scoped>\n",
       "    .dataframe tbody tr th:only-of-type {\n",
       "        vertical-align: middle;\n",
       "    }\n",
       "\n",
       "    .dataframe tbody tr th {\n",
       "        vertical-align: top;\n",
       "    }\n",
       "\n",
       "    .dataframe thead th {\n",
       "        text-align: right;\n",
       "    }\n",
       "</style>\n",
       "<table border=\"1\" class=\"dataframe\">\n",
       "  <thead>\n",
       "    <tr style=\"text-align: right;\">\n",
       "      <th></th>\n",
       "      <th>tripduration</th>\n",
       "      <th>starttime</th>\n",
       "      <th>stoptime</th>\n",
       "      <th>start station id</th>\n",
       "      <th>start station name</th>\n",
       "      <th>start station latitude</th>\n",
       "      <th>start station longitude</th>\n",
       "      <th>end station id</th>\n",
       "      <th>end station name</th>\n",
       "      <th>end station latitude</th>\n",
       "      <th>end station longitude</th>\n",
       "      <th>bikeid</th>\n",
       "      <th>usertype</th>\n",
       "      <th>birth year</th>\n",
       "      <th>gender</th>\n",
       "      <th>starttime.1</th>\n",
       "    </tr>\n",
       "  </thead>\n",
       "  <tbody>\n",
       "    <tr>\n",
       "      <th>1</th>\n",
       "      <td>584</td>\n",
       "      <td>2020-11-01 00:14:20.4820</td>\n",
       "      <td>2020-11-01 00:24:04.7820</td>\n",
       "      <td>3681</td>\n",
       "      <td>Grand St</td>\n",
       "      <td>40.715178</td>\n",
       "      <td>-74.037683</td>\n",
       "      <td>3209</td>\n",
       "      <td>Brunswick St</td>\n",
       "      <td>40.724176</td>\n",
       "      <td>-74.050656</td>\n",
       "      <td>46532</td>\n",
       "      <td>Customer</td>\n",
       "      <td>1969.0</td>\n",
       "      <td>0</td>\n",
       "      <td>NaN</td>\n",
       "    </tr>\n",
       "    <tr>\n",
       "      <th>3</th>\n",
       "      <td>498</td>\n",
       "      <td>2020-11-01 00:41:37.4270</td>\n",
       "      <td>2020-11-01 00:49:55.7010</td>\n",
       "      <td>3268</td>\n",
       "      <td>Lafayette Park</td>\n",
       "      <td>40.713464</td>\n",
       "      <td>-74.062859</td>\n",
       "      <td>3213</td>\n",
       "      <td>Van Vorst Park</td>\n",
       "      <td>40.718489</td>\n",
       "      <td>-74.047727</td>\n",
       "      <td>46539</td>\n",
       "      <td>Customer</td>\n",
       "      <td>1969.0</td>\n",
       "      <td>0</td>\n",
       "      <td>NaN</td>\n",
       "    </tr>\n",
       "    <tr>\n",
       "      <th>9</th>\n",
       "      <td>645</td>\n",
       "      <td>2020-11-01 01:11:27.9150</td>\n",
       "      <td>2020-11-01 01:22:13.4440</td>\n",
       "      <td>3206</td>\n",
       "      <td>Hilltop</td>\n",
       "      <td>40.731169</td>\n",
       "      <td>-74.057574</td>\n",
       "      <td>3187</td>\n",
       "      <td>Warren St</td>\n",
       "      <td>40.721124</td>\n",
       "      <td>-74.038051</td>\n",
       "      <td>42590</td>\n",
       "      <td>Customer</td>\n",
       "      <td>1969.0</td>\n",
       "      <td>0</td>\n",
       "      <td>NaN</td>\n",
       "    </tr>\n",
       "    <tr>\n",
       "      <th>10</th>\n",
       "      <td>533</td>\n",
       "      <td>2020-11-01 01:17:46.1040</td>\n",
       "      <td>2020-11-01 01:26:39.5220</td>\n",
       "      <td>3194</td>\n",
       "      <td>McGinley Square</td>\n",
       "      <td>40.725340</td>\n",
       "      <td>-74.067622</td>\n",
       "      <td>3694</td>\n",
       "      <td>Jackson Square</td>\n",
       "      <td>40.711130</td>\n",
       "      <td>-74.078900</td>\n",
       "      <td>42465</td>\n",
       "      <td>Subscriber</td>\n",
       "      <td>1969.0</td>\n",
       "      <td>1</td>\n",
       "      <td>NaN</td>\n",
       "    </tr>\n",
       "    <tr>\n",
       "      <th>14</th>\n",
       "      <td>1032</td>\n",
       "      <td>2020-11-01 02:14:05.7170</td>\n",
       "      <td>2020-11-01 02:31:18.4820</td>\n",
       "      <td>3213</td>\n",
       "      <td>Van Vorst Park</td>\n",
       "      <td>40.718489</td>\n",
       "      <td>-74.047727</td>\n",
       "      <td>3277</td>\n",
       "      <td>Communipaw &amp; Berry Lane</td>\n",
       "      <td>40.714358</td>\n",
       "      <td>-74.066611</td>\n",
       "      <td>42157</td>\n",
       "      <td>Customer</td>\n",
       "      <td>1969.0</td>\n",
       "      <td>0</td>\n",
       "      <td>NaN</td>\n",
       "    </tr>\n",
       "    <tr>\n",
       "      <th>...</th>\n",
       "      <td>...</td>\n",
       "      <td>...</td>\n",
       "      <td>...</td>\n",
       "      <td>...</td>\n",
       "      <td>...</td>\n",
       "      <td>...</td>\n",
       "      <td>...</td>\n",
       "      <td>...</td>\n",
       "      <td>...</td>\n",
       "      <td>...</td>\n",
       "      <td>...</td>\n",
       "      <td>...</td>\n",
       "      <td>...</td>\n",
       "      <td>...</td>\n",
       "      <td>...</td>\n",
       "      <td>...</td>\n",
       "    </tr>\n",
       "    <tr>\n",
       "      <th>2163464</th>\n",
       "      <td>403</td>\n",
       "      <td>2017-12-22 14:17:26</td>\n",
       "      <td>2017-12-22 14:24:09</td>\n",
       "      <td>3202</td>\n",
       "      <td>Newport PATH</td>\n",
       "      <td>40.727224</td>\n",
       "      <td>-74.033759</td>\n",
       "      <td>3211</td>\n",
       "      <td>Newark Ave</td>\n",
       "      <td>40.721525</td>\n",
       "      <td>-74.046305</td>\n",
       "      <td>29622</td>\n",
       "      <td>Subscriber</td>\n",
       "      <td>1969.0</td>\n",
       "      <td>1</td>\n",
       "      <td>2017-12-22 14:17:26</td>\n",
       "    </tr>\n",
       "    <tr>\n",
       "      <th>2163646</th>\n",
       "      <td>320</td>\n",
       "      <td>2017-12-23 16:54:51</td>\n",
       "      <td>2017-12-23 17:00:11</td>\n",
       "      <td>3203</td>\n",
       "      <td>Hamilton Park</td>\n",
       "      <td>40.727596</td>\n",
       "      <td>-74.044247</td>\n",
       "      <td>3202</td>\n",
       "      <td>Newport PATH</td>\n",
       "      <td>40.727224</td>\n",
       "      <td>-74.033759</td>\n",
       "      <td>31722</td>\n",
       "      <td>Subscriber</td>\n",
       "      <td>1969.0</td>\n",
       "      <td>1</td>\n",
       "      <td>2017-12-23 16:54:51</td>\n",
       "    </tr>\n",
       "    <tr>\n",
       "      <th>2163839</th>\n",
       "      <td>472</td>\n",
       "      <td>2017-12-26 13:11:08</td>\n",
       "      <td>2017-12-26 13:19:01</td>\n",
       "      <td>3202</td>\n",
       "      <td>Newport PATH</td>\n",
       "      <td>40.727224</td>\n",
       "      <td>-74.033759</td>\n",
       "      <td>3186</td>\n",
       "      <td>Grove St PATH</td>\n",
       "      <td>40.719586</td>\n",
       "      <td>-74.043117</td>\n",
       "      <td>31767</td>\n",
       "      <td>Subscriber</td>\n",
       "      <td>1969.0</td>\n",
       "      <td>1</td>\n",
       "      <td>2017-12-26 13:11:08</td>\n",
       "    </tr>\n",
       "    <tr>\n",
       "      <th>2163843</th>\n",
       "      <td>310</td>\n",
       "      <td>2017-12-26 13:34:55</td>\n",
       "      <td>2017-12-26 13:40:05</td>\n",
       "      <td>3202</td>\n",
       "      <td>Newport PATH</td>\n",
       "      <td>40.727224</td>\n",
       "      <td>-74.033759</td>\n",
       "      <td>3183</td>\n",
       "      <td>Exchange Place</td>\n",
       "      <td>40.716247</td>\n",
       "      <td>-74.033459</td>\n",
       "      <td>29640</td>\n",
       "      <td>Subscriber</td>\n",
       "      <td>1969.0</td>\n",
       "      <td>1</td>\n",
       "      <td>2017-12-26 13:34:55</td>\n",
       "    </tr>\n",
       "    <tr>\n",
       "      <th>2163850</th>\n",
       "      <td>401</td>\n",
       "      <td>2017-12-26 14:50:36</td>\n",
       "      <td>2017-12-26 14:57:18</td>\n",
       "      <td>3183</td>\n",
       "      <td>Exchange Place</td>\n",
       "      <td>40.716247</td>\n",
       "      <td>-74.033459</td>\n",
       "      <td>3202</td>\n",
       "      <td>Newport PATH</td>\n",
       "      <td>40.727224</td>\n",
       "      <td>-74.033759</td>\n",
       "      <td>31861</td>\n",
       "      <td>Subscriber</td>\n",
       "      <td>1969.0</td>\n",
       "      <td>1</td>\n",
       "      <td>2017-12-26 14:50:36</td>\n",
       "    </tr>\n",
       "  </tbody>\n",
       "</table>\n",
       "<p>196399 rows × 16 columns</p>\n",
       "</div>"
      ],
      "text/plain": [
       "         tripduration                 starttime                  stoptime  \\\n",
       "1                 584  2020-11-01 00:14:20.4820  2020-11-01 00:24:04.7820   \n",
       "3                 498  2020-11-01 00:41:37.4270  2020-11-01 00:49:55.7010   \n",
       "9                 645  2020-11-01 01:11:27.9150  2020-11-01 01:22:13.4440   \n",
       "10                533  2020-11-01 01:17:46.1040  2020-11-01 01:26:39.5220   \n",
       "14               1032  2020-11-01 02:14:05.7170  2020-11-01 02:31:18.4820   \n",
       "...               ...                       ...                       ...   \n",
       "2163464           403       2017-12-22 14:17:26       2017-12-22 14:24:09   \n",
       "2163646           320       2017-12-23 16:54:51       2017-12-23 17:00:11   \n",
       "2163839           472       2017-12-26 13:11:08       2017-12-26 13:19:01   \n",
       "2163843           310       2017-12-26 13:34:55       2017-12-26 13:40:05   \n",
       "2163850           401       2017-12-26 14:50:36       2017-12-26 14:57:18   \n",
       "\n",
       "         start station id start station name  start station latitude  \\\n",
       "1                    3681           Grand St               40.715178   \n",
       "3                    3268     Lafayette Park               40.713464   \n",
       "9                    3206            Hilltop               40.731169   \n",
       "10                   3194    McGinley Square               40.725340   \n",
       "14                   3213     Van Vorst Park               40.718489   \n",
       "...                   ...                ...                     ...   \n",
       "2163464              3202       Newport PATH               40.727224   \n",
       "2163646              3203      Hamilton Park               40.727596   \n",
       "2163839              3202       Newport PATH               40.727224   \n",
       "2163843              3202       Newport PATH               40.727224   \n",
       "2163850              3183     Exchange Place               40.716247   \n",
       "\n",
       "         start station longitude  end station id         end station name  \\\n",
       "1                     -74.037683            3209             Brunswick St   \n",
       "3                     -74.062859            3213           Van Vorst Park   \n",
       "9                     -74.057574            3187                Warren St   \n",
       "10                    -74.067622            3694           Jackson Square   \n",
       "14                    -74.047727            3277  Communipaw & Berry Lane   \n",
       "...                          ...             ...                      ...   \n",
       "2163464               -74.033759            3211               Newark Ave   \n",
       "2163646               -74.044247            3202             Newport PATH   \n",
       "2163839               -74.033759            3186            Grove St PATH   \n",
       "2163843               -74.033759            3183           Exchange Place   \n",
       "2163850               -74.033459            3202             Newport PATH   \n",
       "\n",
       "         end station latitude  end station longitude  bikeid    usertype  \\\n",
       "1                   40.724176             -74.050656   46532    Customer   \n",
       "3                   40.718489             -74.047727   46539    Customer   \n",
       "9                   40.721124             -74.038051   42590    Customer   \n",
       "10                  40.711130             -74.078900   42465  Subscriber   \n",
       "14                  40.714358             -74.066611   42157    Customer   \n",
       "...                       ...                    ...     ...         ...   \n",
       "2163464             40.721525             -74.046305   29622  Subscriber   \n",
       "2163646             40.727224             -74.033759   31722  Subscriber   \n",
       "2163839             40.719586             -74.043117   31767  Subscriber   \n",
       "2163843             40.716247             -74.033459   29640  Subscriber   \n",
       "2163850             40.727224             -74.033759   31861  Subscriber   \n",
       "\n",
       "         birth year  gender          starttime.1  \n",
       "1            1969.0       0                  NaN  \n",
       "3            1969.0       0                  NaN  \n",
       "9            1969.0       0                  NaN  \n",
       "10           1969.0       1                  NaN  \n",
       "14           1969.0       0                  NaN  \n",
       "...             ...     ...                  ...  \n",
       "2163464      1969.0       1  2017-12-22 14:17:26  \n",
       "2163646      1969.0       1  2017-12-23 16:54:51  \n",
       "2163839      1969.0       1  2017-12-26 13:11:08  \n",
       "2163843      1969.0       1  2017-12-26 13:34:55  \n",
       "2163850      1969.0       1  2017-12-26 14:50:36  \n",
       "\n",
       "[196399 rows x 16 columns]"
      ]
     },
     "execution_count": 15,
     "metadata": {},
     "output_type": "execute_result"
    }
   ],
   "source": [
    "df_merged[df_merged['birth year'] == 1969]"
   ]
  },
  {
   "cell_type": "markdown",
   "metadata": {},
   "source": [
    "### Analytics"
   ]
  },
  {
   "cell_type": "markdown",
   "metadata": {},
   "source": [
    "* How many trips have been recorded total during the chosen period?"
   ]
  },
  {
   "cell_type": "code",
   "execution_count": 16,
   "metadata": {},
   "outputs": [
    {
     "name": "stdout",
     "output_type": "stream",
     "text": [
      "How many trips have been recorded total during the chosen period? \n",
      "R:2164298\n"
     ]
    }
   ],
   "source": [
    "# How many trips have been recorded total during the chosen period?\n",
    "total_trips = df_merged['tripduration'].count()\n",
    "print(f\"How many trips have been recorded total during the chosen period? \\nR:{total_trips}\")"
   ]
  },
  {
   "cell_type": "markdown",
   "metadata": {},
   "source": [
    "<hr style=\"border-top: 3px solid gray;\">"
   ]
  },
  {
   "cell_type": "markdown",
   "metadata": {},
   "source": [
    "* By what percentage has total ridership grown?"
   ]
  },
  {
   "cell_type": "code",
   "execution_count": 17,
   "metadata": {},
   "outputs": [],
   "source": [
    "df_merged.index = pd.to_datetime(df_merged['starttime'],format='%Y-%m-%d')\n",
    "df_grouped_starttime = df_merged.groupby(by=[ df_merged.index.year])\n",
    "# df_grouped_starttime = df_merged.groupby(by=[ df_merged.index.year, df_merged.index.month])"
   ]
  },
  {
   "cell_type": "code",
   "execution_count": 18,
   "metadata": {},
   "outputs": [
    {
     "data": {
      "text/html": [
       "<div>\n",
       "<style scoped>\n",
       "    .dataframe tbody tr th:only-of-type {\n",
       "        vertical-align: middle;\n",
       "    }\n",
       "\n",
       "    .dataframe tbody tr th {\n",
       "        vertical-align: top;\n",
       "    }\n",
       "\n",
       "    .dataframe thead th {\n",
       "        text-align: right;\n",
       "    }\n",
       "</style>\n",
       "<table border=\"1\" class=\"dataframe\">\n",
       "  <thead>\n",
       "    <tr style=\"text-align: right;\">\n",
       "      <th></th>\n",
       "      <th>tripduration</th>\n",
       "      <th>starttime</th>\n",
       "      <th>stoptime</th>\n",
       "      <th>start station id</th>\n",
       "      <th>start station name</th>\n",
       "      <th>start station latitude</th>\n",
       "      <th>start station longitude</th>\n",
       "      <th>end station id</th>\n",
       "      <th>end station name</th>\n",
       "      <th>end station latitude</th>\n",
       "      <th>end station longitude</th>\n",
       "      <th>bikeid</th>\n",
       "      <th>usertype</th>\n",
       "      <th>birth year</th>\n",
       "      <th>gender</th>\n",
       "      <th>starttime.1</th>\n",
       "    </tr>\n",
       "    <tr>\n",
       "      <th>starttime</th>\n",
       "      <th></th>\n",
       "      <th></th>\n",
       "      <th></th>\n",
       "      <th></th>\n",
       "      <th></th>\n",
       "      <th></th>\n",
       "      <th></th>\n",
       "      <th></th>\n",
       "      <th></th>\n",
       "      <th></th>\n",
       "      <th></th>\n",
       "      <th></th>\n",
       "      <th></th>\n",
       "      <th></th>\n",
       "      <th></th>\n",
       "      <th></th>\n",
       "    </tr>\n",
       "  </thead>\n",
       "  <tbody>\n",
       "    <tr>\n",
       "      <th>2017</th>\n",
       "      <td>23306</td>\n",
       "      <td>23306</td>\n",
       "      <td>23306</td>\n",
       "      <td>23306</td>\n",
       "      <td>23306</td>\n",
       "      <td>23306</td>\n",
       "      <td>23306</td>\n",
       "      <td>23306</td>\n",
       "      <td>23306</td>\n",
       "      <td>23306</td>\n",
       "      <td>23306</td>\n",
       "      <td>23306</td>\n",
       "      <td>23306</td>\n",
       "      <td>22630</td>\n",
       "      <td>23306</td>\n",
       "      <td>15898</td>\n",
       "    </tr>\n",
       "    <tr>\n",
       "      <th>2018</th>\n",
       "      <td>707784</td>\n",
       "      <td>707784</td>\n",
       "      <td>707784</td>\n",
       "      <td>707784</td>\n",
       "      <td>707784</td>\n",
       "      <td>707784</td>\n",
       "      <td>707784</td>\n",
       "      <td>707784</td>\n",
       "      <td>707784</td>\n",
       "      <td>707784</td>\n",
       "      <td>707784</td>\n",
       "      <td>707784</td>\n",
       "      <td>707784</td>\n",
       "      <td>707784</td>\n",
       "      <td>707784</td>\n",
       "      <td>353892</td>\n",
       "    </tr>\n",
       "    <tr>\n",
       "      <th>2019</th>\n",
       "      <td>809894</td>\n",
       "      <td>809894</td>\n",
       "      <td>809894</td>\n",
       "      <td>809894</td>\n",
       "      <td>809894</td>\n",
       "      <td>809894</td>\n",
       "      <td>809894</td>\n",
       "      <td>809894</td>\n",
       "      <td>809894</td>\n",
       "      <td>809894</td>\n",
       "      <td>809894</td>\n",
       "      <td>809894</td>\n",
       "      <td>809894</td>\n",
       "      <td>809894</td>\n",
       "      <td>809894</td>\n",
       "      <td>404947</td>\n",
       "    </tr>\n",
       "    <tr>\n",
       "      <th>2020</th>\n",
       "      <td>623314</td>\n",
       "      <td>623314</td>\n",
       "      <td>623314</td>\n",
       "      <td>623314</td>\n",
       "      <td>623314</td>\n",
       "      <td>623314</td>\n",
       "      <td>623314</td>\n",
       "      <td>623314</td>\n",
       "      <td>623314</td>\n",
       "      <td>623314</td>\n",
       "      <td>623314</td>\n",
       "      <td>623314</td>\n",
       "      <td>623314</td>\n",
       "      <td>623314</td>\n",
       "      <td>623314</td>\n",
       "      <td>311657</td>\n",
       "    </tr>\n",
       "  </tbody>\n",
       "</table>\n",
       "</div>"
      ],
      "text/plain": [
       "           tripduration  starttime  stoptime  start station id  \\\n",
       "starttime                                                        \n",
       "2017              23306      23306     23306             23306   \n",
       "2018             707784     707784    707784            707784   \n",
       "2019             809894     809894    809894            809894   \n",
       "2020             623314     623314    623314            623314   \n",
       "\n",
       "           start station name  start station latitude  \\\n",
       "starttime                                               \n",
       "2017                    23306                   23306   \n",
       "2018                   707784                  707784   \n",
       "2019                   809894                  809894   \n",
       "2020                   623314                  623314   \n",
       "\n",
       "           start station longitude  end station id  end station name  \\\n",
       "starttime                                                              \n",
       "2017                         23306           23306             23306   \n",
       "2018                        707784          707784            707784   \n",
       "2019                        809894          809894            809894   \n",
       "2020                        623314          623314            623314   \n",
       "\n",
       "           end station latitude  end station longitude  bikeid  usertype  \\\n",
       "starttime                                                                  \n",
       "2017                      23306                  23306   23306     23306   \n",
       "2018                     707784                 707784  707784    707784   \n",
       "2019                     809894                 809894  809894    809894   \n",
       "2020                     623314                 623314  623314    623314   \n",
       "\n",
       "           birth year  gender  starttime.1  \n",
       "starttime                                   \n",
       "2017            22630   23306        15898  \n",
       "2018           707784  707784       353892  \n",
       "2019           809894  809894       404947  \n",
       "2020           623314  623314       311657  "
      ]
     },
     "execution_count": 18,
     "metadata": {},
     "output_type": "execute_result"
    }
   ],
   "source": [
    "df_grouped_year = df_grouped_starttime.count()\n",
    "df_grouped_year"
   ]
  },
  {
   "cell_type": "code",
   "execution_count": 19,
   "metadata": {},
   "outputs": [
    {
     "data": {
      "image/png": "[encoded data removed]",
      "text/plain": [
       "<Figure size 1080x360 with 1 Axes>"
      ]
     },
     "metadata": {
      "needs_background": "light"
     },
     "output_type": "display_data"
    }
   ],
   "source": [
    "ax = df_grouped_year['tripduration'].plot(kind=\"bar\",color=\"black\", alpha=0.5,rot=0,figsize=(15, 5))\n",
    "ax.set_xlabel(\"\");\n",
    "ax.set_ylabel(\"Trips\");\n",
    "ax.set_title(\"Total Bike Trips by Year\");"
   ]
  },
  {
   "cell_type": "code",
   "execution_count": 20,
   "metadata": {},
   "outputs": [],
   "source": [
    "growth_2019 = df_grouped_year['tripduration'].iloc[1] / df_grouped_year['tripduration'].iloc[0]\n",
    "growth_2020 = df_grouped_year['tripduration'].iloc[2] / df_grouped_year['tripduration'].iloc[1]"
   ]
  },
  {
   "cell_type": "code",
   "execution_count": 21,
   "metadata": {},
   "outputs": [
    {
     "name": "stdout",
     "output_type": "stream",
     "text": [
      "Growth 2019: 3037.0%\n",
      "Growth 2020*: 114.0%\n",
      "\n",
      "* for 2020 still missing December\n"
     ]
    }
   ],
   "source": [
    "print(f\"Growth 2019: {round(growth_2019*100)}%\")\n",
    "print(f\"Growth 2020*: {round(growth_2020*100)}%\")\n",
    "print(\"\\n* for 2020 still missing December\")"
   ]
  },
  {
   "cell_type": "markdown",
   "metadata": {},
   "source": [
    "<hr style=\"border-top: 3px solid gray;\">"
   ]
  },
  {
   "cell_type": "markdown",
   "metadata": {},
   "source": [
    "* How has the proportion of short-term customers and annual subscribers changed?"
   ]
  },
  {
   "cell_type": "code",
   "execution_count": 22,
   "metadata": {},
   "outputs": [
    {
     "data": {
      "text/html": [
       "<div>\n",
       "<style scoped>\n",
       "    .dataframe tbody tr th:only-of-type {\n",
       "        vertical-align: middle;\n",
       "    }\n",
       "\n",
       "    .dataframe tbody tr th {\n",
       "        vertical-align: top;\n",
       "    }\n",
       "\n",
       "    .dataframe thead th {\n",
       "        text-align: right;\n",
       "    }\n",
       "</style>\n",
       "<table border=\"1\" class=\"dataframe\">\n",
       "  <thead>\n",
       "    <tr style=\"text-align: right;\">\n",
       "      <th></th>\n",
       "      <th>tripduration</th>\n",
       "      <th>starttime</th>\n",
       "      <th>stoptime</th>\n",
       "      <th>start station id</th>\n",
       "      <th>start station name</th>\n",
       "      <th>start station latitude</th>\n",
       "      <th>start station longitude</th>\n",
       "      <th>end station id</th>\n",
       "      <th>end station name</th>\n",
       "      <th>end station latitude</th>\n",
       "      <th>end station longitude</th>\n",
       "      <th>bikeid</th>\n",
       "      <th>usertype</th>\n",
       "      <th>birth year</th>\n",
       "      <th>gender</th>\n",
       "      <th>starttime.1</th>\n",
       "    </tr>\n",
       "    <tr>\n",
       "      <th>starttime</th>\n",
       "      <th></th>\n",
       "      <th></th>\n",
       "      <th></th>\n",
       "      <th></th>\n",
       "      <th></th>\n",
       "      <th></th>\n",
       "      <th></th>\n",
       "      <th></th>\n",
       "      <th></th>\n",
       "      <th></th>\n",
       "      <th></th>\n",
       "      <th></th>\n",
       "      <th></th>\n",
       "      <th></th>\n",
       "      <th></th>\n",
       "      <th></th>\n",
       "    </tr>\n",
       "  </thead>\n",
       "  <tbody>\n",
       "    <tr>\n",
       "      <th>2017</th>\n",
       "      <td>22950</td>\n",
       "      <td>22950</td>\n",
       "      <td>22950</td>\n",
       "      <td>22950</td>\n",
       "      <td>22950</td>\n",
       "      <td>22950</td>\n",
       "      <td>22950</td>\n",
       "      <td>22950</td>\n",
       "      <td>22950</td>\n",
       "      <td>22950</td>\n",
       "      <td>22950</td>\n",
       "      <td>22950</td>\n",
       "      <td>22950</td>\n",
       "      <td>22587</td>\n",
       "      <td>22950</td>\n",
       "      <td>15673</td>\n",
       "    </tr>\n",
       "    <tr>\n",
       "      <th>2018</th>\n",
       "      <td>663450</td>\n",
       "      <td>663450</td>\n",
       "      <td>663450</td>\n",
       "      <td>663450</td>\n",
       "      <td>663450</td>\n",
       "      <td>663450</td>\n",
       "      <td>663450</td>\n",
       "      <td>663450</td>\n",
       "      <td>663450</td>\n",
       "      <td>663450</td>\n",
       "      <td>663450</td>\n",
       "      <td>663450</td>\n",
       "      <td>663450</td>\n",
       "      <td>663450</td>\n",
       "      <td>663450</td>\n",
       "      <td>331725</td>\n",
       "    </tr>\n",
       "    <tr>\n",
       "      <th>2019</th>\n",
       "      <td>723842</td>\n",
       "      <td>723842</td>\n",
       "      <td>723842</td>\n",
       "      <td>723842</td>\n",
       "      <td>723842</td>\n",
       "      <td>723842</td>\n",
       "      <td>723842</td>\n",
       "      <td>723842</td>\n",
       "      <td>723842</td>\n",
       "      <td>723842</td>\n",
       "      <td>723842</td>\n",
       "      <td>723842</td>\n",
       "      <td>723842</td>\n",
       "      <td>723842</td>\n",
       "      <td>723842</td>\n",
       "      <td>361921</td>\n",
       "    </tr>\n",
       "    <tr>\n",
       "      <th>2020</th>\n",
       "      <td>425930</td>\n",
       "      <td>425930</td>\n",
       "      <td>425930</td>\n",
       "      <td>425930</td>\n",
       "      <td>425930</td>\n",
       "      <td>425930</td>\n",
       "      <td>425930</td>\n",
       "      <td>425930</td>\n",
       "      <td>425930</td>\n",
       "      <td>425930</td>\n",
       "      <td>425930</td>\n",
       "      <td>425930</td>\n",
       "      <td>425930</td>\n",
       "      <td>425930</td>\n",
       "      <td>425930</td>\n",
       "      <td>212965</td>\n",
       "    </tr>\n",
       "  </tbody>\n",
       "</table>\n",
       "</div>"
      ],
      "text/plain": [
       "           tripduration  starttime  stoptime  start station id  \\\n",
       "starttime                                                        \n",
       "2017              22950      22950     22950             22950   \n",
       "2018             663450     663450    663450            663450   \n",
       "2019             723842     723842    723842            723842   \n",
       "2020             425930     425930    425930            425930   \n",
       "\n",
       "           start station name  start station latitude  \\\n",
       "starttime                                               \n",
       "2017                    22950                   22950   \n",
       "2018                   663450                  663450   \n",
       "2019                   723842                  723842   \n",
       "2020                   425930                  425930   \n",
       "\n",
       "           start station longitude  end station id  end station name  \\\n",
       "starttime                                                              \n",
       "2017                         22950           22950             22950   \n",
       "2018                        663450          663450            663450   \n",
       "2019                        723842          723842            723842   \n",
       "2020                        425930          425930            425930   \n",
       "\n",
       "           end station latitude  end station longitude  bikeid  usertype  \\\n",
       "starttime                                                                  \n",
       "2017                      22950                  22950   22950     22950   \n",
       "2018                     663450                 663450  663450    663450   \n",
       "2019                     723842                 723842  723842    723842   \n",
       "2020                     425930                 425930  425930    425930   \n",
       "\n",
       "           birth year  gender  starttime.1  \n",
       "starttime                                   \n",
       "2017            22587   22950        15673  \n",
       "2018           663450  663450       331725  \n",
       "2019           723842  723842       361921  \n",
       "2020           425930  425930       212965  "
      ]
     },
     "execution_count": 22,
     "metadata": {},
     "output_type": "execute_result"
    }
   ],
   "source": [
    "df_Subscriber = df_merged.loc[df_merged['usertype'] == 'Subscriber']\n",
    "df_Subscriber_grouped_year = df_Subscriber.groupby(by=[ df_Subscriber.index.year]).count()\n",
    "df_Subscriber_grouped_year"
   ]
  },
  {
   "cell_type": "code",
   "execution_count": 23,
   "metadata": {},
   "outputs": [
    {
     "data": {
      "text/plain": [
       "<matplotlib.axes._subplots.AxesSubplot at 0x1f00abe0d00>"
      ]
     },
     "execution_count": 23,
     "metadata": {},
     "output_type": "execute_result"
    },
    {
     "data": {
      "image/png": "[encoded data removed]",
      "text/plain": [
       "<Figure size 1080x360 with 1 Axes>"
      ]
     },
     "metadata": {
      "needs_background": "light"
     },
     "output_type": "display_data"
    }
   ],
   "source": [
    "subscriber_to_total = 100*df_Subscriber_grouped_year['tripduration']/df_grouped_year['tripduration']\n",
    "subscriber_to_total.plot(kind='bar',figsize=(15, 5))"
   ]
  },
  {
   "cell_type": "code",
   "execution_count": 24,
   "metadata": {},
   "outputs": [
    {
     "data": {
      "image/png": "[encoded data removed]",
      "text/plain": [
       "<Figure size 1080x360 with 1 Axes>"
      ]
     },
     "metadata": {
      "needs_background": "light"
     },
     "output_type": "display_data"
    }
   ],
   "source": [
    "customer_to_total = 100*(1-df_Subscriber_grouped_year['tripduration']/df_grouped_year['tripduration'])\n",
    "ax = customer_to_total.plot(kind='bar',color=\"r\", alpha=0.5,rot=0,figsize=(15, 5))\n",
    "ax.set_xlabel(\"\");\n",
    "ax.set_ylabel(\"%\");\n",
    "ax.set_title(\"Non-Subscriber's Growth by Year\");"
   ]
  },
  {
   "cell_type": "markdown",
   "metadata": {},
   "source": [
    "<hr style=\"border-top: 3px solid gray;\">"
   ]
  },
  {
   "cell_type": "markdown",
   "metadata": {},
   "source": [
    "* What are the peak hours in which bikes are used during summer months?"
   ]
  },
  {
   "cell_type": "code",
   "execution_count": 25,
   "metadata": {},
   "outputs": [
    {
     "data": {
      "text/plain": [
       "<pandas.core.resample.DatetimeIndexResampler object at 0x000001F00AD3F700>"
      ]
     },
     "execution_count": 25,
     "metadata": {},
     "output_type": "execute_result"
    }
   ],
   "source": [
    "# summer (June, July, August)\n",
    "df_resampled_year = df_merged['starttime'].resample('Y')\n",
    "df_resampled_year\n"
   ]
  },
  {
   "cell_type": "code",
   "execution_count": 26,
   "metadata": {},
   "outputs": [
    {
     "data": {
      "text/plain": [
       "starttime\n",
       "2017-12-31     23306\n",
       "2018-12-31    707784\n",
       "2019-12-31    809894\n",
       "2020-12-31    623314\n",
       "Freq: A-DEC, Name: starttime, dtype: int64"
      ]
     },
     "execution_count": 26,
     "metadata": {},
     "output_type": "execute_result"
    }
   ],
   "source": [
    "df_resampled_year.count()"
   ]
  },
  {
   "cell_type": "code",
   "execution_count": 27,
   "metadata": {},
   "outputs": [],
   "source": [
    "df_resampled_by_hour = df_merged['starttime'].resample('H').count()"
   ]
  },
  {
   "cell_type": "code",
   "execution_count": 28,
   "metadata": {},
   "outputs": [
    {
     "data": {
      "text/plain": [
       "starttime\n",
       "2017-12-01 00:00:00    10\n",
       "2017-12-01 01:00:00     0\n",
       "2017-12-01 02:00:00     4\n",
       "2017-12-01 03:00:00     4\n",
       "2017-12-01 04:00:00    14\n",
       "                       ..\n",
       "2020-11-30 19:00:00    50\n",
       "2020-11-30 20:00:00    24\n",
       "2020-11-30 21:00:00    28\n",
       "2020-11-30 22:00:00    16\n",
       "2020-11-30 23:00:00    10\n",
       "Freq: H, Name: starttime, Length: 26304, dtype: int64"
      ]
     },
     "execution_count": 28,
     "metadata": {},
     "output_type": "execute_result"
    }
   ],
   "source": [
    "df_resampled_by_hour"
   ]
  },
  {
   "cell_type": "code",
   "execution_count": 29,
   "metadata": {},
   "outputs": [],
   "source": [
    "df_resampled_by_hour_summer_2018 = df_resampled_by_hour.loc[(df_resampled_by_hour.index >= \"2018-06-01\")]"
   ]
  },
  {
   "cell_type": "code",
   "execution_count": 30,
   "metadata": {},
   "outputs": [],
   "source": [
    "df_resampled_by_hour_summer_2018 = df_resampled_by_hour_summer_2018.loc[(df_resampled_by_hour_summer_2018.index < \"2018-09-01\")]"
   ]
  },
  {
   "cell_type": "code",
   "execution_count": 31,
   "metadata": {},
   "outputs": [],
   "source": [
    "df_summer_2018 = pd.DataFrame(df_resampled_by_hour_summer_2018.resample('H').sum())"
   ]
  },
  {
   "cell_type": "code",
   "execution_count": 32,
   "metadata": {},
   "outputs": [
    {
     "data": {
      "text/plain": [
       "<matplotlib.axes._subplots.AxesSubplot at 0x1f00ad5c730>"
      ]
     },
     "execution_count": 32,
     "metadata": {},
     "output_type": "execute_result"
    },
    {
     "data": {
      "image/png": "[encoded data removed]",
      "text/plain": [
       "<Figure size 432x288 with 1 Axes>"
      ]
     },
     "metadata": {
      "needs_background": "light"
     },
     "output_type": "display_data"
    }
   ],
   "source": [
    "df_summer_2018.plot()"
   ]
  },
  {
   "cell_type": "code",
   "execution_count": 33,
   "metadata": {},
   "outputs": [
    {
     "data": {
      "image/png": "[encoded data removed]",
      "text/plain": [
       "<Figure size 1080x360 with 1 Axes>"
      ]
     },
     "metadata": {
      "needs_background": "light"
     },
     "output_type": "display_data"
    }
   ],
   "source": [
    "ax = df_summer_2018.groupby(by=[ df_summer_2018.index.hour]).sum().plot(kind=\"bar\", color=\"g\", alpha=0.5,rot=0,figsize=(15, 5))\n",
    "ax.set_xlabel(\"Hour\");\n",
    "ax.set_ylabel(\"Trips\");\n",
    "ax.set_title(\"Trips by Hour (Summer 2018)\");"
   ]
  },
  {
   "cell_type": "code",
   "execution_count": 34,
   "metadata": {},
   "outputs": [
    {
     "data": {
      "image/png": "[encoded data removed]",
      "text/plain": [
       "<Figure size 1080x360 with 1 Axes>"
      ]
     },
     "metadata": {
      "needs_background": "light"
     },
     "output_type": "display_data"
    }
   ],
   "source": [
    "df_resampled_by_hour_summer_2019 = df_resampled_by_hour.loc[(df_resampled_by_hour.index >= \"2019-06-01\")]\n",
    "df_resampled_by_hour_summer_2019 = df_resampled_by_hour_summer_2019.loc[(df_resampled_by_hour_summer_2019.index < \"2019-09-01\")]\n",
    "df_summer_2019 = pd.DataFrame(df_resampled_by_hour_summer_2019.resample('H').sum())\n",
    "ax = df_summer_2019.groupby(by=[ df_summer_2019.index.hour]).sum().plot(kind=\"bar\", color=\"b\", alpha=0.5,rot=0,figsize=(15, 5))\n",
    "ax.set_xlabel(\"Hour\");\n",
    "ax.set_ylabel(\"Trips\");\n",
    "ax.set_title(\"Trips by Hour (Summer 2019)\");"
   ]
  },
  {
   "cell_type": "code",
   "execution_count": 35,
   "metadata": {},
   "outputs": [
    {
     "data": {
      "image/png": "[encoded data removed]",
      "text/plain": [
       "<Figure size 1080x360 with 1 Axes>"
      ]
     },
     "metadata": {
      "needs_background": "light"
     },
     "output_type": "display_data"
    }
   ],
   "source": [
    "df_resampled_by_hour_summer_2020 = df_resampled_by_hour.loc[(df_resampled_by_hour.index >= \"2020-06-01\")]\n",
    "df_resampled_by_hour_summer_2020 = df_resampled_by_hour_summer_2020.loc[(df_resampled_by_hour_summer_2020.index < \"2020-09-01\")]\n",
    "df_summer_2020 = pd.DataFrame(df_resampled_by_hour_summer_2020.resample('H').sum())\n",
    "ax = df_summer_2020.groupby(by=[ df_summer_2020.index.hour]).sum().plot(kind=\"bar\", color=\"r\", alpha=0.5,rot=0,figsize=(15, 5))\n",
    "ax.set_xlabel(\"Hour\");\n",
    "ax.set_ylabel(\"Trips\");\n",
    "ax.set_title(\"Trips by Hour (Summer 2020)\");"
   ]
  },
  {
   "cell_type": "markdown",
   "metadata": {},
   "source": [
    "<hr style=\"border-top: 3px solid gray;\">"
   ]
  },
  {
   "cell_type": "markdown",
   "metadata": {},
   "source": [
    "* What are the peak hours in which bikes are used during winter months?"
   ]
  },
  {
   "cell_type": "code",
   "execution_count": 36,
   "metadata": {},
   "outputs": [
    {
     "data": {
      "image/png": "[encoded data removed]",
      "text/plain": [
       "<Figure size 1080x360 with 1 Axes>"
      ]
     },
     "metadata": {
      "needs_background": "light"
     },
     "output_type": "display_data"
    }
   ],
   "source": [
    "df_resampled_by_hour_winter_2018 = df_resampled_by_hour.loc[(df_resampled_by_hour.index >= \"2018-01-01\")]\n",
    "df_resampled_by_hour_winter_2018 = df_resampled_by_hour_winter_2018.loc[(df_resampled_by_hour_winter_2018.index < \"2018-03-01\")]\n",
    "df_winter_2018 = pd.DataFrame(df_resampled_by_hour_winter_2018.resample('H').sum())\n",
    "ax = df_winter_2018.groupby(by=[ df_winter_2018.index.hour]).sum().plot(kind=\"bar\", color=\"g\", alpha=0.5,rot=0,figsize=(15, 5))\n",
    "ax.set_xlabel(\"Hour\");\n",
    "ax.set_ylabel(\"Trips\");\n",
    "ax.set_title(\"Trips by Hour (Winter 2018)\");"
   ]
  },
  {
   "cell_type": "code",
   "execution_count": 37,
   "metadata": {},
   "outputs": [
    {
     "data": {
      "image/png": "[encoded data removed]",
      "text/plain": [
       "<Figure size 1080x360 with 1 Axes>"
      ]
     },
     "metadata": {
      "needs_background": "light"
     },
     "output_type": "display_data"
    }
   ],
   "source": [
    "df_resampled_by_hour_winter_2019 = df_resampled_by_hour.loc[(df_resampled_by_hour.index >= \"2019-01-01\")]\n",
    "df_resampled_by_hour_winter_2019 = df_resampled_by_hour_winter_2019.loc[(df_resampled_by_hour_winter_2019.index < \"2019-03-01\")]\n",
    "df_winter_2019 = pd.DataFrame(df_resampled_by_hour_winter_2019.resample('H').sum())\n",
    "ax = df_winter_2019.groupby(by=[ df_winter_2019.index.hour]).sum().plot(kind=\"bar\", color=\"b\", alpha=0.5,rot=0,figsize=(15, 5))\n",
    "ax.set_xlabel(\"Hour\");\n",
    "ax.set_ylabel(\"Trips\");\n",
    "ax.set_title(\"Trips by Hour (Winter 2019)\");"
   ]
  },
  {
   "cell_type": "code",
   "execution_count": 38,
   "metadata": {},
   "outputs": [
    {
     "data": {
      "image/png": "[encoded data removed]",
      "text/plain": [
       "<Figure size 1080x360 with 1 Axes>"
      ]
     },
     "metadata": {
      "needs_background": "light"
     },
     "output_type": "display_data"
    }
   ],
   "source": [
    "df_resampled_by_hour_winter_2020 = df_resampled_by_hour.loc[(df_resampled_by_hour.index >= \"2020-01-01\")]\n",
    "df_resampled_by_hour_winter_2020 = df_resampled_by_hour_winter_2020.loc[(df_resampled_by_hour_winter_2020.index < \"2020-03-01\")]\n",
    "df_winter_2020 = pd.DataFrame(df_resampled_by_hour_winter_2020.resample('H').sum())\n",
    "ax = df_winter_2020.groupby(by=[ df_winter_2020.index.hour]).sum().plot(kind=\"bar\", color=\"r\", alpha=0.5,rot=0,figsize=(15, 5))\n",
    "ax.set_xlabel(\"Hour\");\n",
    "ax.set_ylabel(\"Trips\");\n",
    "ax.set_title(\"Trips by Hour (Winter 2020)\");"
   ]
  },
  {
   "cell_type": "markdown",
   "metadata": {},
   "source": [
    "<hr style=\"border-top: 3px solid gray;\">"
   ]
  },
  {
   "cell_type": "markdown",
   "metadata": {},
   "source": [
    "* Today, what are the top 10 stations in the city for starting a journey? (Based on data, why do you hypothesize these are the top locations?)"
   ]
  },
  {
   "cell_type": "code",
   "execution_count": 39,
   "metadata": {},
   "outputs": [
    {
     "data": {
      "image/png": "[encoded data removed]",
      "text/plain": [
       "<Figure size 1080x360 with 1 Axes>"
      ]
     },
     "metadata": {
      "needs_background": "light"
     },
     "output_type": "display_data"
    }
   ],
   "source": [
    "top10_start_stations = df_merged.loc[(df_merged.index >= \"2020-11-01\")].groupby(\"start station name\").sum().sort_values(\"tripduration\",ascending=False).head(10)\n",
    "ax = top10_start_stations['tripduration'].plot(kind=\"bar\", color=\"fuchsia\", alpha=1,figsize=(15, 5))\n",
    "ax.set_xlabel(\"\");\n",
    "ax.set_ylabel(\"Trips\");\n",
    "ax.set_title(\"Top 10 Stations For Starting A Journey\");"
   ]
  },
  {
   "cell_type": "markdown",
   "metadata": {},
   "source": [
    "<hr style=\"border-top: 3px solid gray;\">"
   ]
  },
  {
   "cell_type": "markdown",
   "metadata": {},
   "source": [
    "* Today, what are the top 10 stations in the city for ending a journey? (Based on data, why?)"
   ]
  },
  {
   "cell_type": "code",
   "execution_count": 40,
   "metadata": {},
   "outputs": [
    {
     "data": {
      "image/png": "[encoded data removed]",
      "text/plain": [
       "<Figure size 1080x360 with 1 Axes>"
      ]
     },
     "metadata": {
      "needs_background": "light"
     },
     "output_type": "display_data"
    }
   ],
   "source": [
    "top10_ending_stations = df_merged.loc[(df_merged.index >= \"2020-11-01\")].groupby(\"end station name\").sum().sort_values(\"tripduration\",ascending=False).head(10)\n",
    "ax = top10_ending_stations['tripduration'].plot(kind=\"bar\", color=\"tan\", alpha=1,figsize=(15, 5))\n",
    "ax.set_xlabel(\"\");\n",
    "ax.set_ylabel(\"Trips\");\n",
    "ax.set_title(\"Top 10 Stations For Ending A Journey\");"
   ]
  },
  {
   "cell_type": "markdown",
   "metadata": {},
   "source": [
    "<hr style=\"border-top: 3px solid gray;\">"
   ]
  },
  {
   "cell_type": "markdown",
   "metadata": {},
   "source": [
    "* Today, what are the bottom 10 stations in the city for starting a journey? (Based on data, why?)"
   ]
  },
  {
   "cell_type": "code",
   "execution_count": 41,
   "metadata": {},
   "outputs": [
    {
     "data": {
      "image/png": "[encoded data removed]",
      "text/plain": [
       "<Figure size 1080x360 with 1 Axes>"
      ]
     },
     "metadata": {
      "needs_background": "light"
     },
     "output_type": "display_data"
    }
   ],
   "source": [
    "bottom10_start_stations = df_merged.loc[(df_merged.index >= \"2020-11-01\")].groupby(\"start station name\").sum().sort_values(\"tripduration\",ascending=True).head(10).sort_values(\"tripduration\",ascending=False)\n",
    "ax = bottom10_start_stations['tripduration'].plot(kind=\"bar\", color=\"sienna\", alpha=1,figsize=(15, 5))\n",
    "ax.set_xlabel(\"\");\n",
    "ax.set_ylabel(\"Trips\");\n",
    "ax.set_title(\"Bottom 10 Stations For Starting A Journey\");"
   ]
  },
  {
   "cell_type": "markdown",
   "metadata": {},
   "source": [
    "<hr style=\"border-top: 3px solid gray;\">"
   ]
  },
  {
   "cell_type": "markdown",
   "metadata": {},
   "source": [
    "* Today, what are the bottom 10 stations in the city for ending a journey (Based on data, why?)"
   ]
  },
  {
   "cell_type": "code",
   "execution_count": 42,
   "metadata": {},
   "outputs": [
    {
     "data": {
      "image/png": "[encoded data removed]",
      "text/plain": [
       "<Figure size 1080x360 with 1 Axes>"
      ]
     },
     "metadata": {
      "needs_background": "light"
     },
     "output_type": "display_data"
    }
   ],
   "source": [
    "bottom10_ending_stations = df_merged.loc[(df_merged.index >= \"2020-11-01\")].groupby(\"end station name\").sum().sort_values(\"tripduration\",ascending=True).head(10).sort_values(\"tripduration\",ascending=False)\n",
    "ax = bottom10_ending_stations['tripduration'].plot(kind=\"bar\", color=\"teal\", alpha=1,figsize=(15, 5))\n",
    "ax.set_xlabel(\"\");\n",
    "ax.set_ylabel(\"Trips\");\n",
    "ax.set_title(\"Bottom 10 Stations For Ending A Journey\");"
   ]
  },
  {
   "cell_type": "markdown",
   "metadata": {},
   "source": [
    "<hr style=\"border-top: 3px solid gray;\">"
   ]
  },
  {
   "cell_type": "markdown",
   "metadata": {},
   "source": [
    "* Today, what is the gender breakdown of active participants (Male v. Female)?"
   ]
  },
  {
   "cell_type": "code",
   "execution_count": 43,
   "metadata": {},
   "outputs": [
    {
     "data": {
      "image/png": "[encoded data removed]",
      "text/plain": [
       "<Figure size 1080x360 with 1 Axes>"
      ]
     },
     "metadata": {
      "needs_background": "light"
     },
     "output_type": "display_data"
    }
   ],
   "source": [
    "gender_breakdown = df_merged.loc[(df_merged.index >= \"2020-11-01\") & (df_merged.gender != 0)].groupby(\"gender\")\n",
    "ax = gender_breakdown['tripduration'].count().plot(kind=\"bar\", rot=0,color=\"violet\", alpha=1,figsize=(15, 5))\n",
    "ax.set_xlabel(\"1=male; 2=female\");\n",
    "ax.set_ylabel(\"Trips\");\n",
    "ax.set_title(\"Gender Breakdown\");"
   ]
  },
  {
   "cell_type": "markdown",
   "metadata": {},
   "source": [
    "<hr style=\"border-top: 3px solid gray;\">"
   ]
  },
  {
   "cell_type": "markdown",
   "metadata": {},
   "source": [
    "* How effective has gender outreach been in increasing female ridership over the timespan?"
   ]
  },
  {
   "cell_type": "code",
   "execution_count": 44,
   "metadata": {},
   "outputs": [
    {
     "data": {
      "image/png": "[encoded data removed]",
      "text/plain": [
       "<Figure size 1080x360 with 1 Axes>"
      ]
     },
     "metadata": {
      "needs_background": "light"
     },
     "output_type": "display_data"
    }
   ],
   "source": [
    "female_ridership_by_month = df_merged['tripduration'].loc[(df_merged.gender == 2)].resample(\"M\").count() / df_merged['tripduration'].resample(\"M\").count()\n",
    "ax = female_ridership_by_month.plot(color=\"violet\",marker='*', alpha=1,figsize=(15, 5))\n",
    "ax.set_xlabel(\"\");\n",
    "ax.set_ylabel(\"Trips\");\n",
    "ax.set_title(\"Female Ridership By Month\");"
   ]
  },
  {
   "cell_type": "markdown",
   "metadata": {},
   "source": [
    "<hr style=\"border-top: 3px solid gray;\">"
   ]
  },
  {
   "cell_type": "markdown",
   "metadata": {},
   "source": [
    "* How does the average trip duration change by age?"
   ]
  },
  {
   "cell_type": "code",
   "execution_count": 61,
   "metadata": {},
   "outputs": [
    {
     "data": {
      "image/png": "[encoded data removed]",
      "text/plain": [
       "<Figure size 1080x360 with 1 Axes>"
      ]
     },
     "metadata": {
      "needs_background": "light"
     },
     "output_type": "display_data"
    }
   ],
   "source": [
    "ax = df_merged['birth year'].hist(bins=50,color=\"b\", alpha=.3,figsize=(15, 5))\n",
    "ax.set_xlabel(\"Birth Year\");\n",
    "ax.set_ylabel(\"Trip Frequency\");\n",
    "ax.set_title(\"Birth Year Distribution By Trip\");"
   ]
  },
  {
   "cell_type": "code",
   "execution_count": 45,
   "metadata": {},
   "outputs": [],
   "source": [
    "df_grouped_age = df_merged.groupby(\"birth year\")"
   ]
  },
  {
   "cell_type": "code",
   "execution_count": 46,
   "metadata": {},
   "outputs": [
    {
     "data": {
      "image/png": "[encoded data removed]",
      "text/plain": [
       "<Figure size 1080x360 with 1 Axes>"
      ]
     },
     "metadata": {
      "needs_background": "light"
     },
     "output_type": "display_data"
    }
   ],
   "source": [
    "ax = df_grouped_age['tripduration'].mean().plot(kind=\"bar\",color=\"k\", alpha=1,figsize=(15, 5))\n",
    "ax.set_xlabel(\"Year\");\n",
    "ax.set_ylabel(\"Average Trip Duration (s)\");\n",
    "ax.set_title(\"Average Trip Duration By Birth Date\");"
   ]
  },
  {
   "cell_type": "code",
   "execution_count": 47,
   "metadata": {},
   "outputs": [],
   "source": [
    "df_grouped_age_usertype = df_merged.groupby([\"birth year\",\"usertype\"]).count()"
   ]
  },
  {
   "cell_type": "code",
   "execution_count": 48,
   "metadata": {},
   "outputs": [
    {
     "data": {
      "text/html": [
       "<div>\n",
       "<style scoped>\n",
       "    .dataframe tbody tr th:only-of-type {\n",
       "        vertical-align: middle;\n",
       "    }\n",
       "\n",
       "    .dataframe tbody tr th {\n",
       "        vertical-align: top;\n",
       "    }\n",
       "\n",
       "    .dataframe thead th {\n",
       "        text-align: right;\n",
       "    }\n",
       "</style>\n",
       "<table border=\"1\" class=\"dataframe\">\n",
       "  <thead>\n",
       "    <tr style=\"text-align: right;\">\n",
       "      <th></th>\n",
       "      <th></th>\n",
       "      <th>tripduration</th>\n",
       "      <th>starttime</th>\n",
       "      <th>stoptime</th>\n",
       "      <th>start station id</th>\n",
       "      <th>start station name</th>\n",
       "      <th>start station latitude</th>\n",
       "      <th>start station longitude</th>\n",
       "      <th>end station id</th>\n",
       "      <th>end station name</th>\n",
       "      <th>end station latitude</th>\n",
       "      <th>end station longitude</th>\n",
       "      <th>bikeid</th>\n",
       "      <th>gender</th>\n",
       "      <th>starttime.1</th>\n",
       "    </tr>\n",
       "    <tr>\n",
       "      <th>birth year</th>\n",
       "      <th>usertype</th>\n",
       "      <th></th>\n",
       "      <th></th>\n",
       "      <th></th>\n",
       "      <th></th>\n",
       "      <th></th>\n",
       "      <th></th>\n",
       "      <th></th>\n",
       "      <th></th>\n",
       "      <th></th>\n",
       "      <th></th>\n",
       "      <th></th>\n",
       "      <th></th>\n",
       "      <th></th>\n",
       "      <th></th>\n",
       "    </tr>\n",
       "  </thead>\n",
       "  <tbody>\n",
       "    <tr>\n",
       "      <th>1887.0</th>\n",
       "      <th>Subscriber</th>\n",
       "      <td>43</td>\n",
       "      <td>43</td>\n",
       "      <td>43</td>\n",
       "      <td>43</td>\n",
       "      <td>43</td>\n",
       "      <td>43</td>\n",
       "      <td>43</td>\n",
       "      <td>43</td>\n",
       "      <td>43</td>\n",
       "      <td>43</td>\n",
       "      <td>43</td>\n",
       "      <td>43</td>\n",
       "      <td>43</td>\n",
       "      <td>23</td>\n",
       "    </tr>\n",
       "    <tr>\n",
       "      <th rowspan=\"2\" valign=\"top\">1888.0</th>\n",
       "      <th>Customer</th>\n",
       "      <td>4</td>\n",
       "      <td>4</td>\n",
       "      <td>4</td>\n",
       "      <td>4</td>\n",
       "      <td>4</td>\n",
       "      <td>4</td>\n",
       "      <td>4</td>\n",
       "      <td>4</td>\n",
       "      <td>4</td>\n",
       "      <td>4</td>\n",
       "      <td>4</td>\n",
       "      <td>4</td>\n",
       "      <td>4</td>\n",
       "      <td>2</td>\n",
       "    </tr>\n",
       "    <tr>\n",
       "      <th>Subscriber</th>\n",
       "      <td>516</td>\n",
       "      <td>516</td>\n",
       "      <td>516</td>\n",
       "      <td>516</td>\n",
       "      <td>516</td>\n",
       "      <td>516</td>\n",
       "      <td>516</td>\n",
       "      <td>516</td>\n",
       "      <td>516</td>\n",
       "      <td>516</td>\n",
       "      <td>516</td>\n",
       "      <td>516</td>\n",
       "      <td>516</td>\n",
       "      <td>258</td>\n",
       "    </tr>\n",
       "    <tr>\n",
       "      <th>1889.0</th>\n",
       "      <th>Customer</th>\n",
       "      <td>8</td>\n",
       "      <td>8</td>\n",
       "      <td>8</td>\n",
       "      <td>8</td>\n",
       "      <td>8</td>\n",
       "      <td>8</td>\n",
       "      <td>8</td>\n",
       "      <td>8</td>\n",
       "      <td>8</td>\n",
       "      <td>8</td>\n",
       "      <td>8</td>\n",
       "      <td>8</td>\n",
       "      <td>8</td>\n",
       "      <td>4</td>\n",
       "    </tr>\n",
       "    <tr>\n",
       "      <th>1900.0</th>\n",
       "      <th>Customer</th>\n",
       "      <td>4</td>\n",
       "      <td>4</td>\n",
       "      <td>4</td>\n",
       "      <td>4</td>\n",
       "      <td>4</td>\n",
       "      <td>4</td>\n",
       "      <td>4</td>\n",
       "      <td>4</td>\n",
       "      <td>4</td>\n",
       "      <td>4</td>\n",
       "      <td>4</td>\n",
       "      <td>4</td>\n",
       "      <td>4</td>\n",
       "      <td>2</td>\n",
       "    </tr>\n",
       "    <tr>\n",
       "      <th>...</th>\n",
       "      <th>...</th>\n",
       "      <td>...</td>\n",
       "      <td>...</td>\n",
       "      <td>...</td>\n",
       "      <td>...</td>\n",
       "      <td>...</td>\n",
       "      <td>...</td>\n",
       "      <td>...</td>\n",
       "      <td>...</td>\n",
       "      <td>...</td>\n",
       "      <td>...</td>\n",
       "      <td>...</td>\n",
       "      <td>...</td>\n",
       "      <td>...</td>\n",
       "      <td>...</td>\n",
       "    </tr>\n",
       "    <tr>\n",
       "      <th rowspan=\"2\" valign=\"top\">2002.0</th>\n",
       "      <th>Customer</th>\n",
       "      <td>1164</td>\n",
       "      <td>1164</td>\n",
       "      <td>1164</td>\n",
       "      <td>1164</td>\n",
       "      <td>1164</td>\n",
       "      <td>1164</td>\n",
       "      <td>1164</td>\n",
       "      <td>1164</td>\n",
       "      <td>1164</td>\n",
       "      <td>1164</td>\n",
       "      <td>1164</td>\n",
       "      <td>1164</td>\n",
       "      <td>1164</td>\n",
       "      <td>582</td>\n",
       "    </tr>\n",
       "    <tr>\n",
       "      <th>Subscriber</th>\n",
       "      <td>94</td>\n",
       "      <td>94</td>\n",
       "      <td>94</td>\n",
       "      <td>94</td>\n",
       "      <td>94</td>\n",
       "      <td>94</td>\n",
       "      <td>94</td>\n",
       "      <td>94</td>\n",
       "      <td>94</td>\n",
       "      <td>94</td>\n",
       "      <td>94</td>\n",
       "      <td>94</td>\n",
       "      <td>94</td>\n",
       "      <td>47</td>\n",
       "    </tr>\n",
       "    <tr>\n",
       "      <th rowspan=\"2\" valign=\"top\">2003.0</th>\n",
       "      <th>Customer</th>\n",
       "      <td>358</td>\n",
       "      <td>358</td>\n",
       "      <td>358</td>\n",
       "      <td>358</td>\n",
       "      <td>358</td>\n",
       "      <td>358</td>\n",
       "      <td>358</td>\n",
       "      <td>358</td>\n",
       "      <td>358</td>\n",
       "      <td>358</td>\n",
       "      <td>358</td>\n",
       "      <td>358</td>\n",
       "      <td>358</td>\n",
       "      <td>179</td>\n",
       "    </tr>\n",
       "    <tr>\n",
       "      <th>Subscriber</th>\n",
       "      <td>148</td>\n",
       "      <td>148</td>\n",
       "      <td>148</td>\n",
       "      <td>148</td>\n",
       "      <td>148</td>\n",
       "      <td>148</td>\n",
       "      <td>148</td>\n",
       "      <td>148</td>\n",
       "      <td>148</td>\n",
       "      <td>148</td>\n",
       "      <td>148</td>\n",
       "      <td>148</td>\n",
       "      <td>148</td>\n",
       "      <td>74</td>\n",
       "    </tr>\n",
       "    <tr>\n",
       "      <th>2004.0</th>\n",
       "      <th>Customer</th>\n",
       "      <td>50</td>\n",
       "      <td>50</td>\n",
       "      <td>50</td>\n",
       "      <td>50</td>\n",
       "      <td>50</td>\n",
       "      <td>50</td>\n",
       "      <td>50</td>\n",
       "      <td>50</td>\n",
       "      <td>50</td>\n",
       "      <td>50</td>\n",
       "      <td>50</td>\n",
       "      <td>50</td>\n",
       "      <td>50</td>\n",
       "      <td>25</td>\n",
       "    </tr>\n",
       "  </tbody>\n",
       "</table>\n",
       "<p>144 rows × 14 columns</p>\n",
       "</div>"
      ],
      "text/plain": [
       "                       tripduration  starttime  stoptime  start station id  \\\n",
       "birth year usertype                                                          \n",
       "1887.0     Subscriber            43         43        43                43   \n",
       "1888.0     Customer               4          4         4                 4   \n",
       "           Subscriber           516        516       516               516   \n",
       "1889.0     Customer               8          8         8                 8   \n",
       "1900.0     Customer               4          4         4                 4   \n",
       "...                             ...        ...       ...               ...   \n",
       "2002.0     Customer            1164       1164      1164              1164   \n",
       "           Subscriber            94         94        94                94   \n",
       "2003.0     Customer             358        358       358               358   \n",
       "           Subscriber           148        148       148               148   \n",
       "2004.0     Customer              50         50        50                50   \n",
       "\n",
       "                       start station name  start station latitude  \\\n",
       "birth year usertype                                                 \n",
       "1887.0     Subscriber                  43                      43   \n",
       "1888.0     Customer                     4                       4   \n",
       "           Subscriber                 516                     516   \n",
       "1889.0     Customer                     8                       8   \n",
       "1900.0     Customer                     4                       4   \n",
       "...                                   ...                     ...   \n",
       "2002.0     Customer                  1164                    1164   \n",
       "           Subscriber                  94                      94   \n",
       "2003.0     Customer                   358                     358   \n",
       "           Subscriber                 148                     148   \n",
       "2004.0     Customer                    50                      50   \n",
       "\n",
       "                       start station longitude  end station id  \\\n",
       "birth year usertype                                              \n",
       "1887.0     Subscriber                       43              43   \n",
       "1888.0     Customer                          4               4   \n",
       "           Subscriber                      516             516   \n",
       "1889.0     Customer                          8               8   \n",
       "1900.0     Customer                          4               4   \n",
       "...                                        ...             ...   \n",
       "2002.0     Customer                       1164            1164   \n",
       "           Subscriber                       94              94   \n",
       "2003.0     Customer                        358             358   \n",
       "           Subscriber                      148             148   \n",
       "2004.0     Customer                         50              50   \n",
       "\n",
       "                       end station name  end station latitude  \\\n",
       "birth year usertype                                             \n",
       "1887.0     Subscriber                43                    43   \n",
       "1888.0     Customer                   4                     4   \n",
       "           Subscriber               516                   516   \n",
       "1889.0     Customer                   8                     8   \n",
       "1900.0     Customer                   4                     4   \n",
       "...                                 ...                   ...   \n",
       "2002.0     Customer                1164                  1164   \n",
       "           Subscriber                94                    94   \n",
       "2003.0     Customer                 358                   358   \n",
       "           Subscriber               148                   148   \n",
       "2004.0     Customer                  50                    50   \n",
       "\n",
       "                       end station longitude  bikeid  gender  starttime.1  \n",
       "birth year usertype                                                        \n",
       "1887.0     Subscriber                     43      43      43           23  \n",
       "1888.0     Customer                        4       4       4            2  \n",
       "           Subscriber                    516     516     516          258  \n",
       "1889.0     Customer                        8       8       8            4  \n",
       "1900.0     Customer                        4       4       4            2  \n",
       "...                                      ...     ...     ...          ...  \n",
       "2002.0     Customer                     1164    1164    1164          582  \n",
       "           Subscriber                     94      94      94           47  \n",
       "2003.0     Customer                      358     358     358          179  \n",
       "           Subscriber                    148     148     148           74  \n",
       "2004.0     Customer                       50      50      50           25  \n",
       "\n",
       "[144 rows x 14 columns]"
      ]
     },
     "execution_count": 48,
     "metadata": {},
     "output_type": "execute_result"
    }
   ],
   "source": [
    "df_grouped_age_usertype"
   ]
  },
  {
   "cell_type": "markdown",
   "metadata": {},
   "source": [
    "<hr style=\"border-top: 3px solid gray;\">"
   ]
  },
  {
   "cell_type": "markdown",
   "metadata": {},
   "source": [
    "* What is the average distance in miles that a bike is ridden?"
   ]
  },
  {
   "cell_type": "code",
   "execution_count": 77,
   "metadata": {},
   "outputs": [
    {
     "name": "stdout",
     "output_type": "stream",
     "text": [
      "Distance is 1.38 miles\n"
     ]
    }
   ],
   "source": [
    "from geopy.distance import geodesic\n",
    "\n",
    "origin = (df_merged['start station latitude'].iloc[0], df_merged['start station longitude'].iloc[0])\n",
    "dist = (df_merged['end station latitude'].iloc[0], df_merged['end station longitude'].iloc[0])\n",
    "print(f\"Distance is {round(100*geodesic(origin, dist).miles)/100} miles\")"
   ]
  },
  {
   "cell_type": "code",
   "execution_count": null,
   "metadata": {},
   "outputs": [],
   "source": [
    "list_distances = []\n",
    "for index in range(len(df_merged.index)):\n",
    "    origin = (df_merged['start station latitude'].iloc[index], df_merged['start station longitude'].iloc[index])\n",
    "    dist = (df_merged['end station latitude'].iloc[index], df_merged['end station longitude'].iloc[index])\n",
    "#     print(f\"Distance is {round(100*geodesic(origin, dist).miles)/100} miles\")\n",
    "    list_distances.append(round(100*geodesic(origin, dist).miles)/100)"
   ]
  },
  {
   "cell_type": "code",
   "execution_count": null,
   "metadata": {},
   "outputs": [],
   "source": [
    "average_distance = sum(list_distances)/len(list_distances)"
   ]
  },
  {
   "cell_type": "markdown",
   "metadata": {},
   "source": [
    "<hr style=\"border-top: 3px solid gray;\">"
   ]
  },
  {
   "cell_type": "markdown",
   "metadata": {},
   "source": [
    "* Which bikes (by ID) are most likely due for repair or inspection in the timespan?"
   ]
  },
  {
   "cell_type": "code",
   "execution_count": 49,
   "metadata": {},
   "outputs": [],
   "source": [
    "df_groupby = df_merged.groupby(\"bikeid\")"
   ]
  },
  {
   "cell_type": "code",
   "execution_count": 50,
   "metadata": {},
   "outputs": [
    {
     "data": {
      "image/png": "[encoded data removed]",
      "text/plain": [
       "<Figure size 1080x360 with 1 Axes>"
      ]
     },
     "metadata": {
      "needs_background": "light"
     },
     "output_type": "display_data"
    }
   ],
   "source": [
    "ax = df_groupby['tripduration'].sum().sort_values(ascending=False).head(15).plot(kind=\"bar\", color=\"y\", alpha=1,figsize=(15, 5))\n",
    "ax.set_xlabel(\"bikeid\");\n",
    "ax.set_ylabel(\"Trip Duration (s)\");\n",
    "ax.set_title(\"Top 10 Bikes By Total Trip Time\");"
   ]
  },
  {
   "cell_type": "code",
   "execution_count": 51,
   "metadata": {},
   "outputs": [
    {
     "data": {
      "image/png": "[encoded data removed]",
      "text/plain": [
       "<Figure size 1080x360 with 1 Axes>"
      ]
     },
     "metadata": {
      "needs_background": "light"
     },
     "output_type": "display_data"
    }
   ],
   "source": [
    "ax = df_groupby['tripduration'].sum().sort_values(ascending=True).head(15).sort_values(ascending=False).plot(kind=\"bar\", color=\"g\", alpha=1,figsize=(15, 5))\n",
    "ax.set_xlabel(\"bikeid\");\n",
    "ax.set_ylabel(\"Trip Duration (s)\");\n",
    "ax.set_title(\"Bottom 10 Bikes By Total Trip Time\");"
   ]
  },
  {
   "cell_type": "markdown",
   "metadata": {},
   "source": [
    "<hr style=\"border-top: 3px solid gray;\">"
   ]
  },
  {
   "cell_type": "markdown",
   "metadata": {},
   "source": [
    "* How variable is the utilization by bike ID?"
   ]
  },
  {
   "cell_type": "code",
   "execution_count": 52,
   "metadata": {},
   "outputs": [
    {
     "data": {
      "image/png": "[encoded data removed]",
      "text/plain": [
       "<Figure size 1080x360 with 1 Axes>"
      ]
     },
     "metadata": {
      "needs_background": "light"
     },
     "output_type": "display_data"
    }
   ],
   "source": [
    "ax = df_groupby['tripduration'].count().plot(color=\"k\", alpha=1,figsize=(15, 5))\n",
    "ax.set_xlabel(\"bikeid\");\n",
    "ax.set_ylabel(\"Trip\");\n",
    "ax.set_title(\"Total Trips by Bike\");"
   ]
  },
  {
   "cell_type": "code",
   "execution_count": 53,
   "metadata": {},
   "outputs": [
    {
     "data": {
      "image/png": "[encoded data removed]",
      "text/plain": [
       "<Figure size 1080x360 with 1 Axes>"
      ]
     },
     "metadata": {
      "needs_background": "light"
     },
     "output_type": "display_data"
    }
   ],
   "source": [
    "ax = df_groupby['tripduration'].sum().plot(color=\"r\", alpha=1,figsize=(15, 5))\n",
    "ax.set_xlabel(\"bikeid\");\n",
    "ax.set_ylabel(\"Trip Duration (s)\");\n",
    "ax.set_title(\"Total Trip Duration by Bike\");"
   ]
  },
  {
   "cell_type": "markdown",
   "metadata": {},
   "source": [
    "<hr style=\"border-top: 3px solid gray;\">"
   ]
  },
  {
   "cell_type": "code",
   "execution_count": null,
   "metadata": {},
   "outputs": [],
   "source": []
  }
 ],
 "metadata": {
  "kernelspec": {
   "display_name": "Python 3",
   "language": "python",
   "name": "python3"
  },
  "language_info": {
   "codemirror_mode": {
    "name": "ipython",
    "version": 3
   },
   "file_extension": ".py",
   "mimetype": "text/x-python",
   "name": "python",
   "nbconvert_exporter": "python",
   "pygments_lexer": "ipython3",
   "version": "3.8.3"
  }
 },
 "nbformat": 4,
 "nbformat_minor": 4
}
