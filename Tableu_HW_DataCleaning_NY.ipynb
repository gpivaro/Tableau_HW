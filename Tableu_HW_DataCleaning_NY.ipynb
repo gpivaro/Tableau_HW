{
 "cells": [
  {
   "cell_type": "markdown",
   "metadata": {},
   "source": [
    "# Tableau Homework - Citi Bike Analytics"
   ]
  },
  {
   "cell_type": "markdown",
   "metadata": {},
   "source": [
    "Since 2013, the Citi Bike Program has implemented a robust infrastructure for collecting data on the program's utilization. Through the team's efforts, each month bike data is collected, organized, and made public on the Citi Bike Data [webpage](https://www.citibikenyc.com/system-data)"
   ]
  },
  {
   "cell_type": "markdown",
   "metadata": {},
   "source": [
    "Task\n",
    "Your task in this assignment is to aggregate the data found in the Citi Bike Trip History Logs and find two unexpected phenomena.\n",
    "\n",
    "Design 2-5 visualizations for each discovered phenomena (4-10 total). You may work with a timespan of your choosing. Optionally, you may merge multiple datasets from different periods."
   ]
  },
  {
   "cell_type": "markdown",
   "metadata": {},
   "source": [
    "### Import Dependencies"
   ]
  },
  {
   "cell_type": "code",
   "execution_count": 1,
   "metadata": {},
   "outputs": [],
   "source": [
    "import os\n",
    "import pandas as pd"
   ]
  },
  {
   "cell_type": "markdown",
   "metadata": {},
   "source": [
    "### Import and clean the data"
   ]
  },
  {
   "cell_type": "code",
   "execution_count": 2,
   "metadata": {},
   "outputs": [],
   "source": [
    "directory = os.path.join(\"data\",\"NY-2018-2020\")"
   ]
  },
  {
   "cell_type": "code",
   "execution_count": 3,
   "metadata": {},
   "outputs": [],
   "source": [
    "# Get list of files on the directory\n",
    "files_list = [];\n",
    "for filename in os.listdir(directory):\n",
    "    if filename.endswith(\".csv\"):\n",
    "        files_list.append(os.path.join(filename))\n",
    "\n",
    "    else:\n",
    "        continue"
   ]
  },
  {
   "cell_type": "code",
   "execution_count": 4,
   "metadata": {},
   "outputs": [],
   "source": [
    "df_merged = pd.DataFrame({'A' : []})"
   ]
  },
  {
   "cell_type": "code",
   "execution_count": 5,
   "metadata": {},
   "outputs": [],
   "source": [
    "n = 0\n",
    "for file in files_list:\n",
    "    if n == 0:\n",
    "        filepath = os.path.join(directory,file)\n",
    "        df_merged = pd.read_csv(filepath)\n",
    "    else:\n",
    "        filepath = os.path.join(directory,file)\n",
    "        df = pd.read_csv(filepath)\n",
    "        df_merged = pd.merge(df, df_merged, how='outer')\n",
    "    \n",
    "    n += 1"
   ]
  },
  {
   "cell_type": "code",
   "execution_count": 6,
   "metadata": {},
   "outputs": [
    {
     "data": {
      "text/html": [
       "<div>\n",
       "<style scoped>\n",
       "    .dataframe tbody tr th:only-of-type {\n",
       "        vertical-align: middle;\n",
       "    }\n",
       "\n",
       "    .dataframe tbody tr th {\n",
       "        vertical-align: top;\n",
       "    }\n",
       "\n",
       "    .dataframe thead th {\n",
       "        text-align: right;\n",
       "    }\n",
       "</style>\n",
       "<table border=\"1\" class=\"dataframe\">\n",
       "  <thead>\n",
       "    <tr style=\"text-align: right;\">\n",
       "      <th></th>\n",
       "      <th>tripduration</th>\n",
       "      <th>starttime</th>\n",
       "      <th>stoptime</th>\n",
       "      <th>start station id</th>\n",
       "      <th>start station name</th>\n",
       "      <th>start station latitude</th>\n",
       "      <th>start station longitude</th>\n",
       "      <th>end station id</th>\n",
       "      <th>end station name</th>\n",
       "      <th>end station latitude</th>\n",
       "      <th>end station longitude</th>\n",
       "      <th>bikeid</th>\n",
       "      <th>usertype</th>\n",
       "      <th>birth year</th>\n",
       "      <th>gender</th>\n",
       "    </tr>\n",
       "  </thead>\n",
       "  <tbody>\n",
       "    <tr>\n",
       "      <th>0</th>\n",
       "      <td>521</td>\n",
       "      <td>2020-11-01 00:00:07.0150</td>\n",
       "      <td>2020-11-01 00:08:48.3010</td>\n",
       "      <td>3467</td>\n",
       "      <td>W Broadway &amp; Spring St</td>\n",
       "      <td>40.724947</td>\n",
       "      <td>-74.001659</td>\n",
       "      <td>350</td>\n",
       "      <td>Clinton St &amp; Grand St</td>\n",
       "      <td>40.715595</td>\n",
       "      <td>-73.987030</td>\n",
       "      <td>40405</td>\n",
       "      <td>Subscriber</td>\n",
       "      <td>1989</td>\n",
       "      <td>1</td>\n",
       "    </tr>\n",
       "    <tr>\n",
       "      <th>1</th>\n",
       "      <td>492</td>\n",
       "      <td>2020-11-01 00:00:10.8080</td>\n",
       "      <td>2020-11-01 00:08:23.3170</td>\n",
       "      <td>3557</td>\n",
       "      <td>40 Ave &amp; 9 St</td>\n",
       "      <td>40.757420</td>\n",
       "      <td>-73.945133</td>\n",
       "      <td>3557</td>\n",
       "      <td>40 Ave &amp; 9 St</td>\n",
       "      <td>40.757420</td>\n",
       "      <td>-73.945133</td>\n",
       "      <td>46504</td>\n",
       "      <td>Subscriber</td>\n",
       "      <td>1970</td>\n",
       "      <td>2</td>\n",
       "    </tr>\n",
       "    <tr>\n",
       "      <th>2</th>\n",
       "      <td>1979</td>\n",
       "      <td>2020-11-01 00:00:14.7040</td>\n",
       "      <td>2020-11-01 00:33:14.1640</td>\n",
       "      <td>3085</td>\n",
       "      <td>Roebling St &amp; N 4 St</td>\n",
       "      <td>40.714690</td>\n",
       "      <td>-73.957390</td>\n",
       "      <td>3854</td>\n",
       "      <td>Morgan Ave &amp; Maspeth Ave</td>\n",
       "      <td>40.716657</td>\n",
       "      <td>-73.936370</td>\n",
       "      <td>37452</td>\n",
       "      <td>Subscriber</td>\n",
       "      <td>1989</td>\n",
       "      <td>2</td>\n",
       "    </tr>\n",
       "    <tr>\n",
       "      <th>3</th>\n",
       "      <td>2382</td>\n",
       "      <td>2020-11-01 00:00:14.7070</td>\n",
       "      <td>2020-11-01 00:39:57.0030</td>\n",
       "      <td>3783</td>\n",
       "      <td>Cliff St &amp; Fulton St</td>\n",
       "      <td>40.708380</td>\n",
       "      <td>-74.004950</td>\n",
       "      <td>3167</td>\n",
       "      <td>Amsterdam Ave &amp; W 73 St</td>\n",
       "      <td>40.779668</td>\n",
       "      <td>-73.980930</td>\n",
       "      <td>40417</td>\n",
       "      <td>Subscriber</td>\n",
       "      <td>1981</td>\n",
       "      <td>1</td>\n",
       "    </tr>\n",
       "    <tr>\n",
       "      <th>4</th>\n",
       "      <td>166</td>\n",
       "      <td>2020-11-01 00:00:15.9690</td>\n",
       "      <td>2020-11-01 00:03:02.8980</td>\n",
       "      <td>422</td>\n",
       "      <td>W 59 St &amp; 10 Ave</td>\n",
       "      <td>40.770513</td>\n",
       "      <td>-73.988038</td>\n",
       "      <td>3175</td>\n",
       "      <td>W 70 St &amp; Amsterdam Ave</td>\n",
       "      <td>40.777480</td>\n",
       "      <td>-73.982886</td>\n",
       "      <td>35776</td>\n",
       "      <td>Subscriber</td>\n",
       "      <td>1990</td>\n",
       "      <td>1</td>\n",
       "    </tr>\n",
       "    <tr>\n",
       "      <th>...</th>\n",
       "      <td>...</td>\n",
       "      <td>...</td>\n",
       "      <td>...</td>\n",
       "      <td>...</td>\n",
       "      <td>...</td>\n",
       "      <td>...</td>\n",
       "      <td>...</td>\n",
       "      <td>...</td>\n",
       "      <td>...</td>\n",
       "      <td>...</td>\n",
       "      <td>...</td>\n",
       "      <td>...</td>\n",
       "      <td>...</td>\n",
       "      <td>...</td>\n",
       "      <td>...</td>\n",
       "    </tr>\n",
       "    <tr>\n",
       "      <th>6473793</th>\n",
       "      <td>1818</td>\n",
       "      <td>2020-09-30 23:59:48.8460</td>\n",
       "      <td>2020-10-01 00:30:07.7810</td>\n",
       "      <td>284</td>\n",
       "      <td>Greenwich Ave &amp; 8 Ave</td>\n",
       "      <td>40.739017</td>\n",
       "      <td>-74.002638</td>\n",
       "      <td>3836</td>\n",
       "      <td>Bushwick Ave &amp; Linden St</td>\n",
       "      <td>40.691460</td>\n",
       "      <td>-73.921460</td>\n",
       "      <td>36220</td>\n",
       "      <td>Subscriber</td>\n",
       "      <td>1993</td>\n",
       "      <td>1</td>\n",
       "    </tr>\n",
       "    <tr>\n",
       "      <th>6473794</th>\n",
       "      <td>1553</td>\n",
       "      <td>2020-09-30 23:59:53.7240</td>\n",
       "      <td>2020-10-01 00:25:47.1760</td>\n",
       "      <td>390</td>\n",
       "      <td>Duffield St &amp; Willoughby St</td>\n",
       "      <td>40.692216</td>\n",
       "      <td>-73.984284</td>\n",
       "      <td>3799</td>\n",
       "      <td>6 Ave &amp; W 34 St</td>\n",
       "      <td>40.749640</td>\n",
       "      <td>-73.988050</td>\n",
       "      <td>31092</td>\n",
       "      <td>Subscriber</td>\n",
       "      <td>1995</td>\n",
       "      <td>1</td>\n",
       "    </tr>\n",
       "    <tr>\n",
       "      <th>6473795</th>\n",
       "      <td>626</td>\n",
       "      <td>2020-09-30 23:59:54.6670</td>\n",
       "      <td>2020-10-01 00:10:21.6050</td>\n",
       "      <td>3901</td>\n",
       "      <td>Stanhope St &amp; Fairview Ave</td>\n",
       "      <td>40.709980</td>\n",
       "      <td>-73.911160</td>\n",
       "      <td>3083</td>\n",
       "      <td>Bushwick Ave &amp; Powers St</td>\n",
       "      <td>40.712477</td>\n",
       "      <td>-73.941000</td>\n",
       "      <td>47224</td>\n",
       "      <td>Subscriber</td>\n",
       "      <td>1954</td>\n",
       "      <td>2</td>\n",
       "    </tr>\n",
       "    <tr>\n",
       "      <th>6473796</th>\n",
       "      <td>325</td>\n",
       "      <td>2020-09-30 23:59:56.2120</td>\n",
       "      <td>2020-10-01 00:05:21.3060</td>\n",
       "      <td>3148</td>\n",
       "      <td>E 84 St &amp; 1 Ave</td>\n",
       "      <td>40.775655</td>\n",
       "      <td>-73.950686</td>\n",
       "      <td>3338</td>\n",
       "      <td>2 Ave &amp; E 99 St</td>\n",
       "      <td>40.786259</td>\n",
       "      <td>-73.945526</td>\n",
       "      <td>16759</td>\n",
       "      <td>Subscriber</td>\n",
       "      <td>1995</td>\n",
       "      <td>2</td>\n",
       "    </tr>\n",
       "    <tr>\n",
       "      <th>6473797</th>\n",
       "      <td>128</td>\n",
       "      <td>2020-09-30 23:59:57.8350</td>\n",
       "      <td>2020-10-01 00:02:06.0920</td>\n",
       "      <td>439</td>\n",
       "      <td>E 4 St &amp; 2 Ave</td>\n",
       "      <td>40.726281</td>\n",
       "      <td>-73.989780</td>\n",
       "      <td>312</td>\n",
       "      <td>Allen St &amp; Stanton St</td>\n",
       "      <td>40.722055</td>\n",
       "      <td>-73.989111</td>\n",
       "      <td>47718</td>\n",
       "      <td>Subscriber</td>\n",
       "      <td>1996</td>\n",
       "      <td>2</td>\n",
       "    </tr>\n",
       "  </tbody>\n",
       "</table>\n",
       "<p>6473798 rows × 15 columns</p>\n",
       "</div>"
      ],
      "text/plain": [
       "         tripduration                 starttime                  stoptime  \\\n",
       "0                 521  2020-11-01 00:00:07.0150  2020-11-01 00:08:48.3010   \n",
       "1                 492  2020-11-01 00:00:10.8080  2020-11-01 00:08:23.3170   \n",
       "2                1979  2020-11-01 00:00:14.7040  2020-11-01 00:33:14.1640   \n",
       "3                2382  2020-11-01 00:00:14.7070  2020-11-01 00:39:57.0030   \n",
       "4                 166  2020-11-01 00:00:15.9690  2020-11-01 00:03:02.8980   \n",
       "...               ...                       ...                       ...   \n",
       "6473793          1818  2020-09-30 23:59:48.8460  2020-10-01 00:30:07.7810   \n",
       "6473794          1553  2020-09-30 23:59:53.7240  2020-10-01 00:25:47.1760   \n",
       "6473795           626  2020-09-30 23:59:54.6670  2020-10-01 00:10:21.6050   \n",
       "6473796           325  2020-09-30 23:59:56.2120  2020-10-01 00:05:21.3060   \n",
       "6473797           128  2020-09-30 23:59:57.8350  2020-10-01 00:02:06.0920   \n",
       "\n",
       "         start station id           start station name  \\\n",
       "0                    3467       W Broadway & Spring St   \n",
       "1                    3557                40 Ave & 9 St   \n",
       "2                    3085         Roebling St & N 4 St   \n",
       "3                    3783         Cliff St & Fulton St   \n",
       "4                     422             W 59 St & 10 Ave   \n",
       "...                   ...                          ...   \n",
       "6473793               284        Greenwich Ave & 8 Ave   \n",
       "6473794               390  Duffield St & Willoughby St   \n",
       "6473795              3901   Stanhope St & Fairview Ave   \n",
       "6473796              3148              E 84 St & 1 Ave   \n",
       "6473797               439               E 4 St & 2 Ave   \n",
       "\n",
       "         start station latitude  start station longitude  end station id  \\\n",
       "0                     40.724947               -74.001659             350   \n",
       "1                     40.757420               -73.945133            3557   \n",
       "2                     40.714690               -73.957390            3854   \n",
       "3                     40.708380               -74.004950            3167   \n",
       "4                     40.770513               -73.988038            3175   \n",
       "...                         ...                      ...             ...   \n",
       "6473793               40.739017               -74.002638            3836   \n",
       "6473794               40.692216               -73.984284            3799   \n",
       "6473795               40.709980               -73.911160            3083   \n",
       "6473796               40.775655               -73.950686            3338   \n",
       "6473797               40.726281               -73.989780             312   \n",
       "\n",
       "                 end station name  end station latitude  \\\n",
       "0           Clinton St & Grand St             40.715595   \n",
       "1                   40 Ave & 9 St             40.757420   \n",
       "2        Morgan Ave & Maspeth Ave             40.716657   \n",
       "3         Amsterdam Ave & W 73 St             40.779668   \n",
       "4         W 70 St & Amsterdam Ave             40.777480   \n",
       "...                           ...                   ...   \n",
       "6473793  Bushwick Ave & Linden St             40.691460   \n",
       "6473794           6 Ave & W 34 St             40.749640   \n",
       "6473795  Bushwick Ave & Powers St             40.712477   \n",
       "6473796           2 Ave & E 99 St             40.786259   \n",
       "6473797     Allen St & Stanton St             40.722055   \n",
       "\n",
       "         end station longitude  bikeid    usertype  birth year  gender  \n",
       "0                   -73.987030   40405  Subscriber        1989       1  \n",
       "1                   -73.945133   46504  Subscriber        1970       2  \n",
       "2                   -73.936370   37452  Subscriber        1989       2  \n",
       "3                   -73.980930   40417  Subscriber        1981       1  \n",
       "4                   -73.982886   35776  Subscriber        1990       1  \n",
       "...                        ...     ...         ...         ...     ...  \n",
       "6473793             -73.921460   36220  Subscriber        1993       1  \n",
       "6473794             -73.988050   31092  Subscriber        1995       1  \n",
       "6473795             -73.941000   47224  Subscriber        1954       2  \n",
       "6473796             -73.945526   16759  Subscriber        1995       2  \n",
       "6473797             -73.989111   47718  Subscriber        1996       2  \n",
       "\n",
       "[6473798 rows x 15 columns]"
      ]
     },
     "execution_count": 6,
     "metadata": {},
     "output_type": "execute_result"
    }
   ],
   "source": [
    "df_merged"
   ]
  },
  {
   "cell_type": "code",
   "execution_count": 7,
   "metadata": {},
   "outputs": [
    {
     "data": {
      "text/plain": [
       "tripduration               0\n",
       "starttime                  0\n",
       "stoptime                   0\n",
       "start station id           0\n",
       "start station name         0\n",
       "start station latitude     0\n",
       "start station longitude    0\n",
       "end station id             0\n",
       "end station name           0\n",
       "end station latitude       0\n",
       "end station longitude      0\n",
       "bikeid                     0\n",
       "usertype                   0\n",
       "birth year                 0\n",
       "gender                     0\n",
       "dtype: int64"
      ]
     },
     "execution_count": 7,
     "metadata": {},
     "output_type": "execute_result"
    }
   ],
   "source": [
    "df_merged.isnull().sum()"
   ]
  },
  {
   "cell_type": "code",
   "execution_count": 8,
   "metadata": {},
   "outputs": [
    {
     "data": {
      "text/plain": [
       "False"
      ]
     },
     "execution_count": 8,
     "metadata": {},
     "output_type": "execute_result"
    }
   ],
   "source": [
    "df_merged.isnull().values.any()"
   ]
  },
  {
   "cell_type": "code",
   "execution_count": 9,
   "metadata": {},
   "outputs": [
    {
     "data": {
      "text/plain": [
       "count     6473798\n",
       "unique          1\n",
       "top         False\n",
       "freq      6473798\n",
       "Name: starttime, dtype: object"
      ]
     },
     "execution_count": 9,
     "metadata": {},
     "output_type": "execute_result"
    }
   ],
   "source": [
    "# creating bool series True for NaN values  \n",
    "bool_series = pd.isnull(df_merged['starttime'])  \n",
    "    \n",
    "bool_series.describe()"
   ]
  },
  {
   "cell_type": "markdown",
   "metadata": {},
   "source": [
    "### Analytics"
   ]
  },
  {
   "cell_type": "markdown",
   "metadata": {},
   "source": [
    "* How many trips have been recorded total during the chosen period?"
   ]
  },
  {
   "cell_type": "code",
   "execution_count": 10,
   "metadata": {},
   "outputs": [
    {
     "name": "stdout",
     "output_type": "stream",
     "text": [
      "How many trips have been recorded total during the chosen period? \n",
      "R:6473798\n"
     ]
    }
   ],
   "source": [
    "# How many trips have been recorded total during the chosen period?\n",
    "total_trips = df_merged['tripduration'].count()\n",
    "print(f\"How many trips have been recorded total during the chosen period? \\nR:{total_trips}\")"
   ]
  },
  {
   "cell_type": "markdown",
   "metadata": {},
   "source": [
    "<hr style=\"border-top: 3px solid gray;\">"
   ]
  },
  {
   "cell_type": "markdown",
   "metadata": {},
   "source": [
    "* By what percentage has total ridership grown?"
   ]
  },
  {
   "cell_type": "code",
   "execution_count": 11,
   "metadata": {},
   "outputs": [],
   "source": [
    "df_merged.index = pd.to_datetime(df_merged['starttime'],format='%Y-%m-%d')\n",
    "df_grouped_starttime = df_merged.groupby(by=[ df_merged.index.year])\n",
    "# df_grouped_starttime = df_merged.groupby(by=[ df_merged.index.year, df_merged.index.month])"
   ]
  },
  {
   "cell_type": "code",
   "execution_count": 12,
   "metadata": {},
   "outputs": [
    {
     "data": {
      "text/html": [
       "<div>\n",
       "<style scoped>\n",
       "    .dataframe tbody tr th:only-of-type {\n",
       "        vertical-align: middle;\n",
       "    }\n",
       "\n",
       "    .dataframe tbody tr th {\n",
       "        vertical-align: top;\n",
       "    }\n",
       "\n",
       "    .dataframe thead th {\n",
       "        text-align: right;\n",
       "    }\n",
       "</style>\n",
       "<table border=\"1\" class=\"dataframe\">\n",
       "  <thead>\n",
       "    <tr style=\"text-align: right;\">\n",
       "      <th></th>\n",
       "      <th>tripduration</th>\n",
       "      <th>starttime</th>\n",
       "      <th>stoptime</th>\n",
       "      <th>start station id</th>\n",
       "      <th>start station name</th>\n",
       "      <th>start station latitude</th>\n",
       "      <th>start station longitude</th>\n",
       "      <th>end station id</th>\n",
       "      <th>end station name</th>\n",
       "      <th>end station latitude</th>\n",
       "      <th>end station longitude</th>\n",
       "      <th>bikeid</th>\n",
       "      <th>usertype</th>\n",
       "      <th>birth year</th>\n",
       "      <th>gender</th>\n",
       "    </tr>\n",
       "    <tr>\n",
       "      <th>starttime</th>\n",
       "      <th></th>\n",
       "      <th></th>\n",
       "      <th></th>\n",
       "      <th></th>\n",
       "      <th></th>\n",
       "      <th></th>\n",
       "      <th></th>\n",
       "      <th></th>\n",
       "      <th></th>\n",
       "      <th></th>\n",
       "      <th></th>\n",
       "      <th></th>\n",
       "      <th></th>\n",
       "      <th></th>\n",
       "      <th></th>\n",
       "    </tr>\n",
       "  </thead>\n",
       "  <tbody>\n",
       "    <tr>\n",
       "      <th>2020</th>\n",
       "      <td>6473798</td>\n",
       "      <td>6473798</td>\n",
       "      <td>6473798</td>\n",
       "      <td>6473798</td>\n",
       "      <td>6473798</td>\n",
       "      <td>6473798</td>\n",
       "      <td>6473798</td>\n",
       "      <td>6473798</td>\n",
       "      <td>6473798</td>\n",
       "      <td>6473798</td>\n",
       "      <td>6473798</td>\n",
       "      <td>6473798</td>\n",
       "      <td>6473798</td>\n",
       "      <td>6473798</td>\n",
       "      <td>6473798</td>\n",
       "    </tr>\n",
       "  </tbody>\n",
       "</table>\n",
       "</div>"
      ],
      "text/plain": [
       "           tripduration  starttime  stoptime  start station id  \\\n",
       "starttime                                                        \n",
       "2020            6473798    6473798   6473798           6473798   \n",
       "\n",
       "           start station name  start station latitude  \\\n",
       "starttime                                               \n",
       "2020                  6473798                 6473798   \n",
       "\n",
       "           start station longitude  end station id  end station name  \\\n",
       "starttime                                                              \n",
       "2020                       6473798         6473798           6473798   \n",
       "\n",
       "           end station latitude  end station longitude   bikeid  usertype  \\\n",
       "starttime                                                                   \n",
       "2020                    6473798                6473798  6473798   6473798   \n",
       "\n",
       "           birth year   gender  \n",
       "starttime                       \n",
       "2020          6473798  6473798  "
      ]
     },
     "execution_count": 12,
     "metadata": {},
     "output_type": "execute_result"
    }
   ],
   "source": [
    "df_grouped_year = df_grouped_starttime.count()\n",
    "df_grouped_year"
   ]
  },
  {
   "cell_type": "code",
   "execution_count": 13,
   "metadata": {},
   "outputs": [
    {
     "data": {
      "image/png": "[encoded data removed]",
      "text/plain": [
       "<Figure size 1080x360 with 1 Axes>"
      ]
     },
     "metadata": {
      "needs_background": "light"
     },
     "output_type": "display_data"
    }
   ],
   "source": [
    "ax = df_grouped_year['tripduration'].plot(kind=\"bar\",color=\"black\", alpha=0.5,rot=0,figsize=(15, 5))\n",
    "ax.set_xlabel(\"\");\n",
    "ax.set_ylabel(\"Trips\");\n",
    "ax.set_title(\"Total Bike Trips by Year\");"
   ]
  },
  {
   "cell_type": "code",
   "execution_count": 14,
   "metadata": {},
   "outputs": [
    {
     "ename": "IndexError",
     "evalue": "single positional indexer is out-of-bounds",
     "output_type": "error",
     "traceback": [
      "\u001b[1;31m---------------------------------------------------------------------------\u001b[0m",
      "\u001b[1;31mIndexError\u001b[0m                                Traceback (most recent call last)",
      "\u001b[1;32m<ipython-input-14-94ced279684a>\u001b[0m in \u001b[0;36m<module>\u001b[1;34m\u001b[0m\n\u001b[1;32m----> 1\u001b[1;33m \u001b[0mgrowth_2019\u001b[0m \u001b[1;33m=\u001b[0m \u001b[0mdf_grouped_year\u001b[0m\u001b[1;33m[\u001b[0m\u001b[1;34m'tripduration'\u001b[0m\u001b[1;33m]\u001b[0m\u001b[1;33m.\u001b[0m\u001b[0miloc\u001b[0m\u001b[1;33m[\u001b[0m\u001b[1;36m1\u001b[0m\u001b[1;33m]\u001b[0m \u001b[1;33m/\u001b[0m \u001b[0mdf_grouped_year\u001b[0m\u001b[1;33m[\u001b[0m\u001b[1;34m'tripduration'\u001b[0m\u001b[1;33m]\u001b[0m\u001b[1;33m.\u001b[0m\u001b[0miloc\u001b[0m\u001b[1;33m[\u001b[0m\u001b[1;36m0\u001b[0m\u001b[1;33m]\u001b[0m\u001b[1;33m\u001b[0m\u001b[1;33m\u001b[0m\u001b[0m\n\u001b[0m\u001b[0;32m      2\u001b[0m \u001b[0mgrowth_2020\u001b[0m \u001b[1;33m=\u001b[0m \u001b[0mdf_grouped_year\u001b[0m\u001b[1;33m[\u001b[0m\u001b[1;34m'tripduration'\u001b[0m\u001b[1;33m]\u001b[0m\u001b[1;33m.\u001b[0m\u001b[0miloc\u001b[0m\u001b[1;33m[\u001b[0m\u001b[1;36m2\u001b[0m\u001b[1;33m]\u001b[0m \u001b[1;33m/\u001b[0m \u001b[0mdf_grouped_year\u001b[0m\u001b[1;33m[\u001b[0m\u001b[1;34m'tripduration'\u001b[0m\u001b[1;33m]\u001b[0m\u001b[1;33m.\u001b[0m\u001b[0miloc\u001b[0m\u001b[1;33m[\u001b[0m\u001b[1;36m1\u001b[0m\u001b[1;33m]\u001b[0m\u001b[1;33m\u001b[0m\u001b[1;33m\u001b[0m\u001b[0m\n",
      "\u001b[1;32m~\\Anaconda3\\lib\\site-packages\\pandas\\core\\indexing.py\u001b[0m in \u001b[0;36m__getitem__\u001b[1;34m(self, key)\u001b[0m\n\u001b[0;32m   1766\u001b[0m \u001b[1;33m\u001b[0m\u001b[0m\n\u001b[0;32m   1767\u001b[0m             \u001b[0mmaybe_callable\u001b[0m \u001b[1;33m=\u001b[0m \u001b[0mcom\u001b[0m\u001b[1;33m.\u001b[0m\u001b[0mapply_if_callable\u001b[0m\u001b[1;33m(\u001b[0m\u001b[0mkey\u001b[0m\u001b[1;33m,\u001b[0m \u001b[0mself\u001b[0m\u001b[1;33m.\u001b[0m\u001b[0mobj\u001b[0m\u001b[1;33m)\u001b[0m\u001b[1;33m\u001b[0m\u001b[1;33m\u001b[0m\u001b[0m\n\u001b[1;32m-> 1768\u001b[1;33m             \u001b[1;32mreturn\u001b[0m \u001b[0mself\u001b[0m\u001b[1;33m.\u001b[0m\u001b[0m_getitem_axis\u001b[0m\u001b[1;33m(\u001b[0m\u001b[0mmaybe_callable\u001b[0m\u001b[1;33m,\u001b[0m \u001b[0maxis\u001b[0m\u001b[1;33m=\u001b[0m\u001b[0maxis\u001b[0m\u001b[1;33m)\u001b[0m\u001b[1;33m\u001b[0m\u001b[1;33m\u001b[0m\u001b[0m\n\u001b[0m\u001b[0;32m   1769\u001b[0m \u001b[1;33m\u001b[0m\u001b[0m\n\u001b[0;32m   1770\u001b[0m     \u001b[1;32mdef\u001b[0m \u001b[0m_is_scalar_access\u001b[0m\u001b[1;33m(\u001b[0m\u001b[0mself\u001b[0m\u001b[1;33m,\u001b[0m \u001b[0mkey\u001b[0m\u001b[1;33m:\u001b[0m \u001b[0mTuple\u001b[0m\u001b[1;33m)\u001b[0m\u001b[1;33m:\u001b[0m\u001b[1;33m\u001b[0m\u001b[1;33m\u001b[0m\u001b[0m\n",
      "\u001b[1;32m~\\Anaconda3\\lib\\site-packages\\pandas\\core\\indexing.py\u001b[0m in \u001b[0;36m_getitem_axis\u001b[1;34m(self, key, axis)\u001b[0m\n\u001b[0;32m   2136\u001b[0m \u001b[1;33m\u001b[0m\u001b[0m\n\u001b[0;32m   2137\u001b[0m             \u001b[1;31m# validate the location\u001b[0m\u001b[1;33m\u001b[0m\u001b[1;33m\u001b[0m\u001b[1;33m\u001b[0m\u001b[0m\n\u001b[1;32m-> 2138\u001b[1;33m             \u001b[0mself\u001b[0m\u001b[1;33m.\u001b[0m\u001b[0m_validate_integer\u001b[0m\u001b[1;33m(\u001b[0m\u001b[0mkey\u001b[0m\u001b[1;33m,\u001b[0m \u001b[0maxis\u001b[0m\u001b[1;33m)\u001b[0m\u001b[1;33m\u001b[0m\u001b[1;33m\u001b[0m\u001b[0m\n\u001b[0m\u001b[0;32m   2139\u001b[0m \u001b[1;33m\u001b[0m\u001b[0m\n\u001b[0;32m   2140\u001b[0m             \u001b[1;32mreturn\u001b[0m \u001b[0mself\u001b[0m\u001b[1;33m.\u001b[0m\u001b[0m_get_loc\u001b[0m\u001b[1;33m(\u001b[0m\u001b[0mkey\u001b[0m\u001b[1;33m,\u001b[0m \u001b[0maxis\u001b[0m\u001b[1;33m=\u001b[0m\u001b[0maxis\u001b[0m\u001b[1;33m)\u001b[0m\u001b[1;33m\u001b[0m\u001b[1;33m\u001b[0m\u001b[0m\n",
      "\u001b[1;32m~\\Anaconda3\\lib\\site-packages\\pandas\\core\\indexing.py\u001b[0m in \u001b[0;36m_validate_integer\u001b[1;34m(self, key, axis)\u001b[0m\n\u001b[0;32m   2061\u001b[0m         \u001b[0mlen_axis\u001b[0m \u001b[1;33m=\u001b[0m \u001b[0mlen\u001b[0m\u001b[1;33m(\u001b[0m\u001b[0mself\u001b[0m\u001b[1;33m.\u001b[0m\u001b[0mobj\u001b[0m\u001b[1;33m.\u001b[0m\u001b[0m_get_axis\u001b[0m\u001b[1;33m(\u001b[0m\u001b[0maxis\u001b[0m\u001b[1;33m)\u001b[0m\u001b[1;33m)\u001b[0m\u001b[1;33m\u001b[0m\u001b[1;33m\u001b[0m\u001b[0m\n\u001b[0;32m   2062\u001b[0m         \u001b[1;32mif\u001b[0m \u001b[0mkey\u001b[0m \u001b[1;33m>=\u001b[0m \u001b[0mlen_axis\u001b[0m \u001b[1;32mor\u001b[0m \u001b[0mkey\u001b[0m \u001b[1;33m<\u001b[0m \u001b[1;33m-\u001b[0m\u001b[0mlen_axis\u001b[0m\u001b[1;33m:\u001b[0m\u001b[1;33m\u001b[0m\u001b[1;33m\u001b[0m\u001b[0m\n\u001b[1;32m-> 2063\u001b[1;33m             \u001b[1;32mraise\u001b[0m \u001b[0mIndexError\u001b[0m\u001b[1;33m(\u001b[0m\u001b[1;34m\"single positional indexer is out-of-bounds\"\u001b[0m\u001b[1;33m)\u001b[0m\u001b[1;33m\u001b[0m\u001b[1;33m\u001b[0m\u001b[0m\n\u001b[0m\u001b[0;32m   2064\u001b[0m \u001b[1;33m\u001b[0m\u001b[0m\n\u001b[0;32m   2065\u001b[0m     \u001b[1;32mdef\u001b[0m \u001b[0m_getitem_tuple\u001b[0m\u001b[1;33m(\u001b[0m\u001b[0mself\u001b[0m\u001b[1;33m,\u001b[0m \u001b[0mtup\u001b[0m\u001b[1;33m:\u001b[0m \u001b[0mTuple\u001b[0m\u001b[1;33m)\u001b[0m\u001b[1;33m:\u001b[0m\u001b[1;33m\u001b[0m\u001b[1;33m\u001b[0m\u001b[0m\n",
      "\u001b[1;31mIndexError\u001b[0m: single positional indexer is out-of-bounds"
     ]
    }
   ],
   "source": [
    "growth_2019 = df_grouped_year['tripduration'].iloc[1] / df_grouped_year['tripduration'].iloc[0]\n",
    "growth_2020 = df_grouped_year['tripduration'].iloc[2] / df_grouped_year['tripduration'].iloc[1]"
   ]
  },
  {
   "cell_type": "code",
   "execution_count": null,
   "metadata": {},
   "outputs": [],
   "source": [
    "print(f\"Growth 2019: {round(growth_2019*100)}%\")\n",
    "print(f\"Growth 2020*: {round(growth_2020*100)}%\")\n",
    "print(\"\\n* for 2020 still missing December\")"
   ]
  },
  {
   "cell_type": "markdown",
   "metadata": {},
   "source": [
    "<hr style=\"border-top: 3px solid gray;\">"
   ]
  },
  {
   "cell_type": "markdown",
   "metadata": {},
   "source": [
    "* How has the proportion of short-term customers and annual subscribers changed?"
   ]
  },
  {
   "cell_type": "code",
   "execution_count": 15,
   "metadata": {},
   "outputs": [
    {
     "data": {
      "text/html": [
       "<div>\n",
       "<style scoped>\n",
       "    .dataframe tbody tr th:only-of-type {\n",
       "        vertical-align: middle;\n",
       "    }\n",
       "\n",
       "    .dataframe tbody tr th {\n",
       "        vertical-align: top;\n",
       "    }\n",
       "\n",
       "    .dataframe thead th {\n",
       "        text-align: right;\n",
       "    }\n",
       "</style>\n",
       "<table border=\"1\" class=\"dataframe\">\n",
       "  <thead>\n",
       "    <tr style=\"text-align: right;\">\n",
       "      <th></th>\n",
       "      <th>tripduration</th>\n",
       "      <th>starttime</th>\n",
       "      <th>stoptime</th>\n",
       "      <th>start station id</th>\n",
       "      <th>start station name</th>\n",
       "      <th>start station latitude</th>\n",
       "      <th>start station longitude</th>\n",
       "      <th>end station id</th>\n",
       "      <th>end station name</th>\n",
       "      <th>end station latitude</th>\n",
       "      <th>end station longitude</th>\n",
       "      <th>bikeid</th>\n",
       "      <th>usertype</th>\n",
       "      <th>birth year</th>\n",
       "      <th>gender</th>\n",
       "    </tr>\n",
       "    <tr>\n",
       "      <th>starttime</th>\n",
       "      <th></th>\n",
       "      <th></th>\n",
       "      <th></th>\n",
       "      <th></th>\n",
       "      <th></th>\n",
       "      <th></th>\n",
       "      <th></th>\n",
       "      <th></th>\n",
       "      <th></th>\n",
       "      <th></th>\n",
       "      <th></th>\n",
       "      <th></th>\n",
       "      <th></th>\n",
       "      <th></th>\n",
       "      <th></th>\n",
       "    </tr>\n",
       "  </thead>\n",
       "  <tbody>\n",
       "    <tr>\n",
       "      <th>2020</th>\n",
       "      <td>4882197</td>\n",
       "      <td>4882197</td>\n",
       "      <td>4882197</td>\n",
       "      <td>4882197</td>\n",
       "      <td>4882197</td>\n",
       "      <td>4882197</td>\n",
       "      <td>4882197</td>\n",
       "      <td>4882197</td>\n",
       "      <td>4882197</td>\n",
       "      <td>4882197</td>\n",
       "      <td>4882197</td>\n",
       "      <td>4882197</td>\n",
       "      <td>4882197</td>\n",
       "      <td>4882197</td>\n",
       "      <td>4882197</td>\n",
       "    </tr>\n",
       "  </tbody>\n",
       "</table>\n",
       "</div>"
      ],
      "text/plain": [
       "           tripduration  starttime  stoptime  start station id  \\\n",
       "starttime                                                        \n",
       "2020            4882197    4882197   4882197           4882197   \n",
       "\n",
       "           start station name  start station latitude  \\\n",
       "starttime                                               \n",
       "2020                  4882197                 4882197   \n",
       "\n",
       "           start station longitude  end station id  end station name  \\\n",
       "starttime                                                              \n",
       "2020                       4882197         4882197           4882197   \n",
       "\n",
       "           end station latitude  end station longitude   bikeid  usertype  \\\n",
       "starttime                                                                   \n",
       "2020                    4882197                4882197  4882197   4882197   \n",
       "\n",
       "           birth year   gender  \n",
       "starttime                       \n",
       "2020          4882197  4882197  "
      ]
     },
     "execution_count": 15,
     "metadata": {},
     "output_type": "execute_result"
    }
   ],
   "source": [
    "df_Subscriber = df_merged.loc[df_merged['usertype'] == 'Subscriber']\n",
    "df_Subscriber_grouped_year = df_Subscriber.groupby(by=[ df_Subscriber.index.year]).count()\n",
    "df_Subscriber_grouped_year"
   ]
  },
  {
   "cell_type": "code",
   "execution_count": 16,
   "metadata": {},
   "outputs": [
    {
     "data": {
      "text/plain": [
       "<matplotlib.axes._subplots.AxesSubplot at 0x17a02aea040>"
      ]
     },
     "execution_count": 16,
     "metadata": {},
     "output_type": "execute_result"
    },
    {
     "data": {
      "image/png": "[encoded data removed]",
      "text/plain": [
       "<Figure size 1080x360 with 1 Axes>"
      ]
     },
     "metadata": {
      "needs_background": "light"
     },
     "output_type": "display_data"
    }
   ],
   "source": [
    "subscriber_to_total = 100*df_Subscriber_grouped_year['tripduration']/df_grouped_year['tripduration']\n",
    "subscriber_to_total.plot(kind='bar',figsize=(15, 5))"
   ]
  },
  {
   "cell_type": "code",
   "execution_count": 17,
   "metadata": {},
   "outputs": [
    {
     "data": {
      "image/png": "[encoded data removed]",
      "text/plain": [
       "<Figure size 1080x360 with 1 Axes>"
      ]
     },
     "metadata": {
      "needs_background": "light"
     },
     "output_type": "display_data"
    }
   ],
   "source": [
    "customer_to_total = 100*(1-df_Subscriber_grouped_year['tripduration']/df_grouped_year['tripduration'])\n",
    "ax = customer_to_total.plot(kind='bar',color=\"r\", alpha=0.5,rot=0,figsize=(15, 5))\n",
    "ax.set_xlabel(\"\");\n",
    "ax.set_ylabel(\"%\");\n",
    "ax.set_title(\"Non-Subscriber's Growth by Year\");"
   ]
  },
  {
   "cell_type": "markdown",
   "metadata": {},
   "source": [
    "<hr style=\"border-top: 3px solid gray;\">"
   ]
  },
  {
   "cell_type": "markdown",
   "metadata": {},
   "source": [
    "* What are the peak hours in which bikes are used during summer months?"
   ]
  },
  {
   "cell_type": "code",
   "execution_count": null,
   "metadata": {},
   "outputs": [],
   "source": [
    "# summer (June, July, August)\n",
    "df_resampled_year = df_merged['starttime'].resample('Y')\n",
    "df_resampled_year\n"
   ]
  },
  {
   "cell_type": "code",
   "execution_count": null,
   "metadata": {},
   "outputs": [],
   "source": [
    "df_resampled_year.count()"
   ]
  },
  {
   "cell_type": "code",
   "execution_count": null,
   "metadata": {},
   "outputs": [],
   "source": [
    "df_resampled_by_hour = df_merged['starttime'].resample('H').count()"
   ]
  },
  {
   "cell_type": "code",
   "execution_count": null,
   "metadata": {},
   "outputs": [],
   "source": [
    "df_resampled_by_hour"
   ]
  },
  {
   "cell_type": "code",
   "execution_count": null,
   "metadata": {},
   "outputs": [],
   "source": [
    "df_resampled_by_hour_summer_2018 = df_resampled_by_hour.loc[(df_resampled_by_hour.index >= \"2018-06-01\")]"
   ]
  },
  {
   "cell_type": "code",
   "execution_count": null,
   "metadata": {},
   "outputs": [],
   "source": [
    "df_resampled_by_hour_summer_2018 = df_resampled_by_hour_summer_2018.loc[(df_resampled_by_hour_summer_2018.index < \"2018-09-01\")]"
   ]
  },
  {
   "cell_type": "code",
   "execution_count": null,
   "metadata": {},
   "outputs": [],
   "source": [
    "df_summer_2018 = pd.DataFrame(df_resampled_by_hour_summer_2018.resample('H').sum())"
   ]
  },
  {
   "cell_type": "code",
   "execution_count": null,
   "metadata": {},
   "outputs": [],
   "source": [
    "df_summer_2018.plot()"
   ]
  },
  {
   "cell_type": "code",
   "execution_count": null,
   "metadata": {},
   "outputs": [],
   "source": [
    "ax = df_summer_2018.groupby(by=[ df_summer_2018.index.hour]).sum().plot(kind=\"bar\", color=\"g\", alpha=0.5,rot=0,figsize=(15, 5))\n",
    "ax.set_xlabel(\"Hour\");\n",
    "ax.set_ylabel(\"Trips\");\n",
    "ax.set_title(\"Trips by Hour (Summer 2018)\");"
   ]
  },
  {
   "cell_type": "code",
   "execution_count": null,
   "metadata": {},
   "outputs": [],
   "source": [
    "df_resampled_by_hour_summer_2019 = df_resampled_by_hour.loc[(df_resampled_by_hour.index >= \"2019-06-01\")]\n",
    "df_resampled_by_hour_summer_2019 = df_resampled_by_hour_summer_2019.loc[(df_resampled_by_hour_summer_2019.index < \"2019-09-01\")]\n",
    "df_summer_2019 = pd.DataFrame(df_resampled_by_hour_summer_2019.resample('H').sum())\n",
    "ax = df_summer_2019.groupby(by=[ df_summer_2019.index.hour]).sum().plot(kind=\"bar\", color=\"b\", alpha=0.5,rot=0,figsize=(15, 5))\n",
    "ax.set_xlabel(\"Hour\");\n",
    "ax.set_ylabel(\"Trips\");\n",
    "ax.set_title(\"Trips by Hour (Summer 2019)\");"
   ]
  },
  {
   "cell_type": "code",
   "execution_count": null,
   "metadata": {},
   "outputs": [],
   "source": [
    "df_resampled_by_hour_summer_2020 = df_resampled_by_hour.loc[(df_resampled_by_hour.index >= \"2020-06-01\")]\n",
    "df_resampled_by_hour_summer_2020 = df_resampled_by_hour_summer_2020.loc[(df_resampled_by_hour_summer_2020.index < \"2020-09-01\")]\n",
    "df_summer_2020 = pd.DataFrame(df_resampled_by_hour_summer_2020.resample('H').sum())\n",
    "ax = df_summer_2020.groupby(by=[ df_summer_2020.index.hour]).sum().plot(kind=\"bar\", color=\"r\", alpha=0.5,rot=0,figsize=(15, 5))\n",
    "ax.set_xlabel(\"Hour\");\n",
    "ax.set_ylabel(\"Trips\");\n",
    "ax.set_title(\"Trips by Hour (Summer 2020)\");"
   ]
  },
  {
   "cell_type": "markdown",
   "metadata": {},
   "source": [
    "<hr style=\"border-top: 3px solid gray;\">"
   ]
  },
  {
   "cell_type": "markdown",
   "metadata": {},
   "source": [
    "* What are the peak hours in which bikes are used during winter months?"
   ]
  },
  {
   "cell_type": "code",
   "execution_count": null,
   "metadata": {},
   "outputs": [],
   "source": [
    "df_resampled_by_hour_winter_2018 = df_resampled_by_hour.loc[(df_resampled_by_hour.index >= \"2018-01-01\")]\n",
    "df_resampled_by_hour_winter_2018 = df_resampled_by_hour_winter_2018.loc[(df_resampled_by_hour_winter_2018.index < \"2018-03-01\")]\n",
    "df_winter_2018 = pd.DataFrame(df_resampled_by_hour_winter_2018.resample('H').sum())\n",
    "ax = df_winter_2018.groupby(by=[ df_winter_2018.index.hour]).sum().plot(kind=\"bar\", color=\"g\", alpha=0.5,rot=0,figsize=(15, 5))\n",
    "ax.set_xlabel(\"Hour\");\n",
    "ax.set_ylabel(\"Trips\");\n",
    "ax.set_title(\"Trips by Hour (Winter 2018)\");"
   ]
  },
  {
   "cell_type": "code",
   "execution_count": null,
   "metadata": {},
   "outputs": [],
   "source": [
    "df_resampled_by_hour_winter_2019 = df_resampled_by_hour.loc[(df_resampled_by_hour.index >= \"2019-01-01\")]\n",
    "df_resampled_by_hour_winter_2019 = df_resampled_by_hour_winter_2019.loc[(df_resampled_by_hour_winter_2019.index < \"2019-03-01\")]\n",
    "df_winter_2019 = pd.DataFrame(df_resampled_by_hour_winter_2019.resample('H').sum())\n",
    "ax = df_winter_2019.groupby(by=[ df_winter_2019.index.hour]).sum().plot(kind=\"bar\", color=\"b\", alpha=0.5,rot=0,figsize=(15, 5))\n",
    "ax.set_xlabel(\"Hour\");\n",
    "ax.set_ylabel(\"Trips\");\n",
    "ax.set_title(\"Trips by Hour (Winter 2019)\");"
   ]
  },
  {
   "cell_type": "code",
   "execution_count": null,
   "metadata": {},
   "outputs": [],
   "source": [
    "df_resampled_by_hour_winter_2020 = df_resampled_by_hour.loc[(df_resampled_by_hour.index >= \"2020-01-01\")]\n",
    "df_resampled_by_hour_winter_2020 = df_resampled_by_hour_winter_2020.loc[(df_resampled_by_hour_winter_2020.index < \"2020-03-01\")]\n",
    "df_winter_2020 = pd.DataFrame(df_resampled_by_hour_winter_2020.resample('H').sum())\n",
    "ax = df_winter_2020.groupby(by=[ df_winter_2020.index.hour]).sum().plot(kind=\"bar\", color=\"r\", alpha=0.5,rot=0,figsize=(15, 5))\n",
    "ax.set_xlabel(\"Hour\");\n",
    "ax.set_ylabel(\"Trips\");\n",
    "ax.set_title(\"Trips by Hour (Winter 2020)\");"
   ]
  },
  {
   "cell_type": "markdown",
   "metadata": {},
   "source": [
    "<hr style=\"border-top: 3px solid gray;\">"
   ]
  },
  {
   "cell_type": "markdown",
   "metadata": {},
   "source": [
    "* Today, what are the top 10 stations in the city for starting a journey? (Based on data, why do you hypothesize these are the top locations?)"
   ]
  },
  {
   "cell_type": "code",
   "execution_count": 30,
   "metadata": {},
   "outputs": [
    {
     "data": {
      "image/png": "[encoded data removed]",
      "text/plain": [
       "<Figure size 1080x360 with 1 Axes>"
      ]
     },
     "metadata": {
      "needs_background": "light"
     },
     "output_type": "display_data"
    }
   ],
   "source": [
    "top10_start_stations = df_merged.loc[(df_merged.index >= \"2020-11-01\")].groupby(\"start station name\").count().sort_values(\"tripduration\",ascending=False).head(10)\n",
    "ax = top10_start_stations['tripduration'].plot(kind=\"bar\", color=\"fuchsia\", alpha=1,figsize=(15, 5))\n",
    "ax.set_xlabel(\"\");\n",
    "ax.set_ylabel(\"Trips\");\n",
    "ax.set_title(\"Top 10 Stations For Starting A Journey\");"
   ]
  },
  {
   "cell_type": "markdown",
   "metadata": {},
   "source": [
    "<hr style=\"border-top: 3px solid gray;\">"
   ]
  },
  {
   "cell_type": "markdown",
   "metadata": {},
   "source": [
    "* Today, what are the top 10 stations in the city for ending a journey? (Based on data, why?)"
   ]
  },
  {
   "cell_type": "code",
   "execution_count": 32,
   "metadata": {},
   "outputs": [
    {
     "data": {
      "image/png": "[encoded data removed]",
      "text/plain": [
       "<Figure size 1080x360 with 1 Axes>"
      ]
     },
     "metadata": {
      "needs_background": "light"
     },
     "output_type": "display_data"
    }
   ],
   "source": [
    "top10_ending_stations = df_merged.loc[(df_merged.index >= \"2020-11-01\")].groupby(\"end station name\").count().sort_values(\"tripduration\",ascending=False).head(10)\n",
    "ax = top10_ending_stations['tripduration'].plot(kind=\"bar\", color=\"tan\", alpha=1,figsize=(15, 5))\n",
    "ax.set_xlabel(\"\");\n",
    "ax.set_ylabel(\"Trips\");\n",
    "ax.set_title(\"Top 10 Stations For Ending A Journey\");"
   ]
  },
  {
   "cell_type": "markdown",
   "metadata": {},
   "source": [
    "<hr style=\"border-top: 3px solid gray;\">"
   ]
  },
  {
   "cell_type": "markdown",
   "metadata": {},
   "source": [
    "* Today, what are the bottom 10 stations in the city for starting a journey? (Based on data, why?)"
   ]
  },
  {
   "cell_type": "code",
   "execution_count": 33,
   "metadata": {},
   "outputs": [
    {
     "data": {
      "image/png": "[encoded data removed]",
      "text/plain": [
       "<Figure size 1080x360 with 1 Axes>"
      ]
     },
     "metadata": {
      "needs_background": "light"
     },
     "output_type": "display_data"
    }
   ],
   "source": [
    "bottom10_start_stations = df_merged.loc[(df_merged.index >= \"2020-11-01\")].groupby(\"start station name\").count().sort_values(\"tripduration\",ascending=True).head(10).sort_values(\"tripduration\",ascending=False)\n",
    "ax = bottom10_start_stations['tripduration'].plot(kind=\"bar\", color=\"sienna\", alpha=1,figsize=(15, 5))\n",
    "ax.set_xlabel(\"\");\n",
    "ax.set_ylabel(\"Trips\");\n",
    "ax.set_title(\"Bottom 10 Stations For Starting A Journey\");"
   ]
  },
  {
   "cell_type": "markdown",
   "metadata": {},
   "source": [
    "<hr style=\"border-top: 3px solid gray;\">"
   ]
  },
  {
   "cell_type": "markdown",
   "metadata": {},
   "source": [
    "* Today, what are the bottom 10 stations in the city for ending a journey (Based on data, why?)"
   ]
  },
  {
   "cell_type": "code",
   "execution_count": 34,
   "metadata": {},
   "outputs": [
    {
     "data": {
      "image/png": "[encoded data removed]",
      "text/plain": [
       "<Figure size 1080x360 with 1 Axes>"
      ]
     },
     "metadata": {
      "needs_background": "light"
     },
     "output_type": "display_data"
    }
   ],
   "source": [
    "bottom10_ending_stations = df_merged.loc[(df_merged.index >= \"2020-11-01\")].groupby(\"end station name\").count().sort_values(\"tripduration\",ascending=True).head(10).sort_values(\"tripduration\",ascending=False)\n",
    "ax = bottom10_ending_stations['tripduration'].plot(kind=\"bar\", color=\"teal\", alpha=1,figsize=(15, 5))\n",
    "ax.set_xlabel(\"\");\n",
    "ax.set_ylabel(\"Trips\");\n",
    "ax.set_title(\"Bottom 10 Stations For Ending A Journey\");"
   ]
  },
  {
   "cell_type": "markdown",
   "metadata": {},
   "source": [
    "<hr style=\"border-top: 3px solid gray;\">"
   ]
  },
  {
   "cell_type": "markdown",
   "metadata": {},
   "source": [
    "* Today, what is the gender breakdown of active participants (Male v. Female)?"
   ]
  },
  {
   "cell_type": "code",
   "execution_count": 35,
   "metadata": {},
   "outputs": [
    {
     "data": {
      "image/png": "[encoded data removed]",
      "text/plain": [
       "<Figure size 1080x360 with 1 Axes>"
      ]
     },
     "metadata": {
      "needs_background": "light"
     },
     "output_type": "display_data"
    }
   ],
   "source": [
    "gender_breakdown = df_merged.loc[(df_merged.index >= \"2020-11-01\") & (df_merged.gender != 0)].groupby(\"gender\")\n",
    "ax = gender_breakdown['tripduration'].count().plot(kind=\"bar\", rot=0,color=\"violet\", alpha=1,figsize=(15, 5))\n",
    "ax.set_xlabel(\"1=male; 2=female\");\n",
    "ax.set_ylabel(\"Trips\");\n",
    "ax.set_title(\"Gender Breakdown\");"
   ]
  },
  {
   "cell_type": "markdown",
   "metadata": {},
   "source": [
    "<hr style=\"border-top: 3px solid gray;\">"
   ]
  },
  {
   "cell_type": "markdown",
   "metadata": {},
   "source": [
    "* How effective has gender outreach been in increasing female ridership over the timespan?"
   ]
  },
  {
   "cell_type": "code",
   "execution_count": 37,
   "metadata": {},
   "outputs": [
    {
     "data": {
      "image/png": "[encoded data removed]",
      "text/plain": [
       "<Figure size 1080x360 with 1 Axes>"
      ]
     },
     "metadata": {
      "needs_background": "light"
     },
     "output_type": "display_data"
    }
   ],
   "source": [
    "female_ridership_by_month = df_merged['tripduration'].loc[(df_merged.gender == 2)].resample(\"M\").count() / df_merged['tripduration'].resample(\"M\").count()\n",
    "ax = female_ridership_by_month.plot(color=\"violet\",marker='*', alpha=1,figsize=(15, 5))\n",
    "ax.set_xlabel(\"\");\n",
    "ax.set_ylabel(\"Trips\");\n",
    "ax.set_title(\"Female Ridership By Month\");"
   ]
  },
  {
   "cell_type": "markdown",
   "metadata": {},
   "source": [
    "<hr style=\"border-top: 3px solid gray;\">"
   ]
  },
  {
   "cell_type": "markdown",
   "metadata": {},
   "source": [
    "* How does the average trip duration change by age?"
   ]
  },
  {
   "cell_type": "code",
   "execution_count": 52,
   "metadata": {},
   "outputs": [
    {
     "data": {
      "text/plain": [
       "1969    760078\n",
       "1990    316478\n",
       "1992    270839\n",
       "1991    269277\n",
       "1989    250281\n",
       "         ...  \n",
       "1884         4\n",
       "1914         2\n",
       "1898         1\n",
       "1902         1\n",
       "1916         1\n",
       "Name: birth year, Length: 115, dtype: int64"
      ]
     },
     "execution_count": 52,
     "metadata": {},
     "output_type": "execute_result"
    }
   ],
   "source": [
    "df_merged['birth year'].value_counts()"
   ]
  },
  {
   "cell_type": "code",
   "execution_count": 38,
   "metadata": {},
   "outputs": [
    {
     "data": {
      "image/png": "[encoded data removed]",
      "text/plain": [
       "<Figure size 1080x360 with 1 Axes>"
      ]
     },
     "metadata": {
      "needs_background": "light"
     },
     "output_type": "display_data"
    }
   ],
   "source": [
    "ax = df_merged['birth year'].hist(bins=50,color=\"b\", alpha=.3,figsize=(15, 5))\n",
    "ax.set_xlabel(\"Birth Year\");\n",
    "ax.set_ylabel(\"Trip Frequency\");\n",
    "ax.set_title(\"Birth Year Distribution By Trip\");"
   ]
  },
  {
   "cell_type": "code",
   "execution_count": 39,
   "metadata": {},
   "outputs": [],
   "source": [
    "df_grouped_age = df_merged.groupby(\"birth year\")"
   ]
  },
  {
   "cell_type": "code",
   "execution_count": 41,
   "metadata": {},
   "outputs": [
    {
     "data": {
      "image/png": "[encoded data removed]",
      "text/plain": [
       "<Figure size 1296x360 with 1 Axes>"
      ]
     },
     "metadata": {
      "needs_background": "light"
     },
     "output_type": "display_data"
    }
   ],
   "source": [
    "ax = df_grouped_age['tripduration'].mean().plot(kind=\"bar\",color=\"k\", alpha=1,figsize=(18, 5))\n",
    "ax.set_xlabel(\"Year\");\n",
    "ax.set_ylabel(\"Average Trip Duration (s)\");\n",
    "ax.set_title(\"Average Trip Duration By Birth Date\");"
   ]
  },
  {
   "cell_type": "code",
   "execution_count": 46,
   "metadata": {},
   "outputs": [
    {
     "data": {
      "text/html": [
       "<div>\n",
       "<style scoped>\n",
       "    .dataframe tbody tr th:only-of-type {\n",
       "        vertical-align: middle;\n",
       "    }\n",
       "\n",
       "    .dataframe tbody tr th {\n",
       "        vertical-align: top;\n",
       "    }\n",
       "\n",
       "    .dataframe thead th {\n",
       "        text-align: right;\n",
       "    }\n",
       "</style>\n",
       "<table border=\"1\" class=\"dataframe\">\n",
       "  <thead>\n",
       "    <tr style=\"text-align: right;\">\n",
       "      <th></th>\n",
       "      <th>tripduration</th>\n",
       "      <th>starttime</th>\n",
       "      <th>stoptime</th>\n",
       "      <th>start station id</th>\n",
       "      <th>start station name</th>\n",
       "      <th>start station latitude</th>\n",
       "      <th>start station longitude</th>\n",
       "      <th>end station id</th>\n",
       "      <th>end station name</th>\n",
       "      <th>end station latitude</th>\n",
       "      <th>end station longitude</th>\n",
       "      <th>bikeid</th>\n",
       "      <th>usertype</th>\n",
       "      <th>birth year</th>\n",
       "      <th>gender</th>\n",
       "    </tr>\n",
       "    <tr>\n",
       "      <th>starttime</th>\n",
       "      <th></th>\n",
       "      <th></th>\n",
       "      <th></th>\n",
       "      <th></th>\n",
       "      <th></th>\n",
       "      <th></th>\n",
       "      <th></th>\n",
       "      <th></th>\n",
       "      <th></th>\n",
       "      <th></th>\n",
       "      <th></th>\n",
       "      <th></th>\n",
       "      <th></th>\n",
       "      <th></th>\n",
       "      <th></th>\n",
       "    </tr>\n",
       "  </thead>\n",
       "  <tbody>\n",
       "    <tr>\n",
       "      <th>2020-10-09 15:25:40.452</th>\n",
       "      <td>75005</td>\n",
       "      <td>2020-10-09 15:25:40.4520</td>\n",
       "      <td>2020-10-10 12:15:46.1230</td>\n",
       "      <td>3134</td>\n",
       "      <td>3 Ave &amp; E 62 St</td>\n",
       "      <td>40.763126</td>\n",
       "      <td>-73.965269</td>\n",
       "      <td>3492</td>\n",
       "      <td>E 118 St &amp; Park Ave</td>\n",
       "      <td>40.800539</td>\n",
       "      <td>-73.941995</td>\n",
       "      <td>38969</td>\n",
       "      <td>Customer</td>\n",
       "      <td>1902</td>\n",
       "      <td>1</td>\n",
       "    </tr>\n",
       "  </tbody>\n",
       "</table>\n",
       "</div>"
      ],
      "text/plain": [
       "                         tripduration                 starttime  \\\n",
       "starttime                                                         \n",
       "2020-10-09 15:25:40.452         75005  2020-10-09 15:25:40.4520   \n",
       "\n",
       "                                         stoptime  start station id  \\\n",
       "starttime                                                             \n",
       "2020-10-09 15:25:40.452  2020-10-10 12:15:46.1230              3134   \n",
       "\n",
       "                        start station name  start station latitude  \\\n",
       "starttime                                                            \n",
       "2020-10-09 15:25:40.452    3 Ave & E 62 St               40.763126   \n",
       "\n",
       "                         start station longitude  end station id  \\\n",
       "starttime                                                          \n",
       "2020-10-09 15:25:40.452               -73.965269            3492   \n",
       "\n",
       "                            end station name  end station latitude  \\\n",
       "starttime                                                            \n",
       "2020-10-09 15:25:40.452  E 118 St & Park Ave             40.800539   \n",
       "\n",
       "                         end station longitude  bikeid  usertype  birth year  \\\n",
       "starttime                                                                      \n",
       "2020-10-09 15:25:40.452             -73.941995   38969  Customer        1902   \n",
       "\n",
       "                         gender  \n",
       "starttime                        \n",
       "2020-10-09 15:25:40.452       1  "
      ]
     },
     "execution_count": 46,
     "metadata": {},
     "output_type": "execute_result"
    }
   ],
   "source": [
    "# Show the outlier for Birth Year 1902\n",
    "df_merged.loc[(df_merged['birth year'] == 1902)]"
   ]
  },
  {
   "cell_type": "code",
   "execution_count": 50,
   "metadata": {},
   "outputs": [
    {
     "data": {
      "text/html": [
       "<div>\n",
       "<style scoped>\n",
       "    .dataframe tbody tr th:only-of-type {\n",
       "        vertical-align: middle;\n",
       "    }\n",
       "\n",
       "    .dataframe tbody tr th {\n",
       "        vertical-align: top;\n",
       "    }\n",
       "\n",
       "    .dataframe thead th {\n",
       "        text-align: right;\n",
       "    }\n",
       "</style>\n",
       "<table border=\"1\" class=\"dataframe\">\n",
       "  <thead>\n",
       "    <tr style=\"text-align: right;\">\n",
       "      <th></th>\n",
       "      <th>tripduration</th>\n",
       "      <th>starttime</th>\n",
       "      <th>stoptime</th>\n",
       "      <th>start station id</th>\n",
       "      <th>start station name</th>\n",
       "      <th>start station latitude</th>\n",
       "      <th>start station longitude</th>\n",
       "      <th>end station id</th>\n",
       "      <th>end station name</th>\n",
       "      <th>end station latitude</th>\n",
       "      <th>end station longitude</th>\n",
       "      <th>bikeid</th>\n",
       "      <th>usertype</th>\n",
       "      <th>birth year</th>\n",
       "      <th>gender</th>\n",
       "    </tr>\n",
       "    <tr>\n",
       "      <th>starttime</th>\n",
       "      <th></th>\n",
       "      <th></th>\n",
       "      <th></th>\n",
       "      <th></th>\n",
       "      <th></th>\n",
       "      <th></th>\n",
       "      <th></th>\n",
       "      <th></th>\n",
       "      <th></th>\n",
       "      <th></th>\n",
       "      <th></th>\n",
       "      <th></th>\n",
       "      <th></th>\n",
       "      <th></th>\n",
       "      <th></th>\n",
       "    </tr>\n",
       "  </thead>\n",
       "  <tbody>\n",
       "    <tr>\n",
       "      <th>2020-10-09 22:51:08.365</th>\n",
       "      <td>403565</td>\n",
       "      <td>2020-10-09 22:51:08.3650</td>\n",
       "      <td>2020-10-14 14:57:13.7350</td>\n",
       "      <td>3740</td>\n",
       "      <td>W Broadway &amp; W Houston St</td>\n",
       "      <td>40.726378</td>\n",
       "      <td>-74.000472</td>\n",
       "      <td>3435</td>\n",
       "      <td>Grand St &amp; Elizabeth St</td>\n",
       "      <td>40.718822</td>\n",
       "      <td>-73.99596</td>\n",
       "      <td>29018</td>\n",
       "      <td>Subscriber</td>\n",
       "      <td>1910</td>\n",
       "      <td>1</td>\n",
       "    </tr>\n",
       "  </tbody>\n",
       "</table>\n",
       "</div>"
      ],
      "text/plain": [
       "                         tripduration                 starttime  \\\n",
       "starttime                                                         \n",
       "2020-10-09 22:51:08.365        403565  2020-10-09 22:51:08.3650   \n",
       "\n",
       "                                         stoptime  start station id  \\\n",
       "starttime                                                             \n",
       "2020-10-09 22:51:08.365  2020-10-14 14:57:13.7350              3740   \n",
       "\n",
       "                                start station name  start station latitude  \\\n",
       "starttime                                                                    \n",
       "2020-10-09 22:51:08.365  W Broadway & W Houston St               40.726378   \n",
       "\n",
       "                         start station longitude  end station id  \\\n",
       "starttime                                                          \n",
       "2020-10-09 22:51:08.365               -74.000472            3435   \n",
       "\n",
       "                                end station name  end station latitude  \\\n",
       "starttime                                                                \n",
       "2020-10-09 22:51:08.365  Grand St & Elizabeth St             40.718822   \n",
       "\n",
       "                         end station longitude  bikeid    usertype  \\\n",
       "starttime                                                            \n",
       "2020-10-09 22:51:08.365              -73.99596   29018  Subscriber   \n",
       "\n",
       "                         birth year  gender  \n",
       "starttime                                    \n",
       "2020-10-09 22:51:08.365        1910       1  "
      ]
     },
     "execution_count": 50,
     "metadata": {},
     "output_type": "execute_result"
    }
   ],
   "source": [
    "# Show the outlier for Birth Year 1910\n",
    "df_merged.loc[(df_merged['birth year'] == 1910) & (df_merged['tripduration'] > 5000)]"
   ]
  },
  {
   "cell_type": "code",
   "execution_count": 42,
   "metadata": {},
   "outputs": [],
   "source": [
    "df_grouped_age_usertype = df_merged.groupby([\"birth year\",\"usertype\"]).count()"
   ]
  },
  {
   "cell_type": "code",
   "execution_count": 43,
   "metadata": {},
   "outputs": [
    {
     "data": {
      "text/html": [
       "<div>\n",
       "<style scoped>\n",
       "    .dataframe tbody tr th:only-of-type {\n",
       "        vertical-align: middle;\n",
       "    }\n",
       "\n",
       "    .dataframe tbody tr th {\n",
       "        vertical-align: top;\n",
       "    }\n",
       "\n",
       "    .dataframe thead th {\n",
       "        text-align: right;\n",
       "    }\n",
       "</style>\n",
       "<table border=\"1\" class=\"dataframe\">\n",
       "  <thead>\n",
       "    <tr style=\"text-align: right;\">\n",
       "      <th></th>\n",
       "      <th></th>\n",
       "      <th>tripduration</th>\n",
       "      <th>starttime</th>\n",
       "      <th>stoptime</th>\n",
       "      <th>start station id</th>\n",
       "      <th>start station name</th>\n",
       "      <th>start station latitude</th>\n",
       "      <th>start station longitude</th>\n",
       "      <th>end station id</th>\n",
       "      <th>end station name</th>\n",
       "      <th>end station latitude</th>\n",
       "      <th>end station longitude</th>\n",
       "      <th>bikeid</th>\n",
       "      <th>gender</th>\n",
       "    </tr>\n",
       "    <tr>\n",
       "      <th>birth year</th>\n",
       "      <th>usertype</th>\n",
       "      <th></th>\n",
       "      <th></th>\n",
       "      <th></th>\n",
       "      <th></th>\n",
       "      <th></th>\n",
       "      <th></th>\n",
       "      <th></th>\n",
       "      <th></th>\n",
       "      <th></th>\n",
       "      <th></th>\n",
       "      <th></th>\n",
       "      <th></th>\n",
       "      <th></th>\n",
       "    </tr>\n",
       "  </thead>\n",
       "  <tbody>\n",
       "    <tr>\n",
       "      <th>1873</th>\n",
       "      <th>Subscriber</th>\n",
       "      <td>12</td>\n",
       "      <td>12</td>\n",
       "      <td>12</td>\n",
       "      <td>12</td>\n",
       "      <td>12</td>\n",
       "      <td>12</td>\n",
       "      <td>12</td>\n",
       "      <td>12</td>\n",
       "      <td>12</td>\n",
       "      <td>12</td>\n",
       "      <td>12</td>\n",
       "      <td>12</td>\n",
       "      <td>12</td>\n",
       "    </tr>\n",
       "    <tr>\n",
       "      <th>1884</th>\n",
       "      <th>Subscriber</th>\n",
       "      <td>4</td>\n",
       "      <td>4</td>\n",
       "      <td>4</td>\n",
       "      <td>4</td>\n",
       "      <td>4</td>\n",
       "      <td>4</td>\n",
       "      <td>4</td>\n",
       "      <td>4</td>\n",
       "      <td>4</td>\n",
       "      <td>4</td>\n",
       "      <td>4</td>\n",
       "      <td>4</td>\n",
       "      <td>4</td>\n",
       "    </tr>\n",
       "    <tr>\n",
       "      <th>1885</th>\n",
       "      <th>Subscriber</th>\n",
       "      <td>79</td>\n",
       "      <td>79</td>\n",
       "      <td>79</td>\n",
       "      <td>79</td>\n",
       "      <td>79</td>\n",
       "      <td>79</td>\n",
       "      <td>79</td>\n",
       "      <td>79</td>\n",
       "      <td>79</td>\n",
       "      <td>79</td>\n",
       "      <td>79</td>\n",
       "      <td>79</td>\n",
       "      <td>79</td>\n",
       "    </tr>\n",
       "    <tr>\n",
       "      <th>1886</th>\n",
       "      <th>Subscriber</th>\n",
       "      <td>27</td>\n",
       "      <td>27</td>\n",
       "      <td>27</td>\n",
       "      <td>27</td>\n",
       "      <td>27</td>\n",
       "      <td>27</td>\n",
       "      <td>27</td>\n",
       "      <td>27</td>\n",
       "      <td>27</td>\n",
       "      <td>27</td>\n",
       "      <td>27</td>\n",
       "      <td>27</td>\n",
       "      <td>27</td>\n",
       "    </tr>\n",
       "    <tr>\n",
       "      <th>1887</th>\n",
       "      <th>Subscriber</th>\n",
       "      <td>17</td>\n",
       "      <td>17</td>\n",
       "      <td>17</td>\n",
       "      <td>17</td>\n",
       "      <td>17</td>\n",
       "      <td>17</td>\n",
       "      <td>17</td>\n",
       "      <td>17</td>\n",
       "      <td>17</td>\n",
       "      <td>17</td>\n",
       "      <td>17</td>\n",
       "      <td>17</td>\n",
       "      <td>17</td>\n",
       "    </tr>\n",
       "    <tr>\n",
       "      <th>...</th>\n",
       "      <th>...</th>\n",
       "      <td>...</td>\n",
       "      <td>...</td>\n",
       "      <td>...</td>\n",
       "      <td>...</td>\n",
       "      <td>...</td>\n",
       "      <td>...</td>\n",
       "      <td>...</td>\n",
       "      <td>...</td>\n",
       "      <td>...</td>\n",
       "      <td>...</td>\n",
       "      <td>...</td>\n",
       "      <td>...</td>\n",
       "      <td>...</td>\n",
       "    </tr>\n",
       "    <tr>\n",
       "      <th>2002</th>\n",
       "      <th>Subscriber</th>\n",
       "      <td>19853</td>\n",
       "      <td>19853</td>\n",
       "      <td>19853</td>\n",
       "      <td>19853</td>\n",
       "      <td>19853</td>\n",
       "      <td>19853</td>\n",
       "      <td>19853</td>\n",
       "      <td>19853</td>\n",
       "      <td>19853</td>\n",
       "      <td>19853</td>\n",
       "      <td>19853</td>\n",
       "      <td>19853</td>\n",
       "      <td>19853</td>\n",
       "    </tr>\n",
       "    <tr>\n",
       "      <th rowspan=\"2\" valign=\"top\">2003</th>\n",
       "      <th>Customer</th>\n",
       "      <td>5558</td>\n",
       "      <td>5558</td>\n",
       "      <td>5558</td>\n",
       "      <td>5558</td>\n",
       "      <td>5558</td>\n",
       "      <td>5558</td>\n",
       "      <td>5558</td>\n",
       "      <td>5558</td>\n",
       "      <td>5558</td>\n",
       "      <td>5558</td>\n",
       "      <td>5558</td>\n",
       "      <td>5558</td>\n",
       "      <td>5558</td>\n",
       "    </tr>\n",
       "    <tr>\n",
       "      <th>Subscriber</th>\n",
       "      <td>8927</td>\n",
       "      <td>8927</td>\n",
       "      <td>8927</td>\n",
       "      <td>8927</td>\n",
       "      <td>8927</td>\n",
       "      <td>8927</td>\n",
       "      <td>8927</td>\n",
       "      <td>8927</td>\n",
       "      <td>8927</td>\n",
       "      <td>8927</td>\n",
       "      <td>8927</td>\n",
       "      <td>8927</td>\n",
       "      <td>8927</td>\n",
       "    </tr>\n",
       "    <tr>\n",
       "      <th rowspan=\"2\" valign=\"top\">2004</th>\n",
       "      <th>Customer</th>\n",
       "      <td>2327</td>\n",
       "      <td>2327</td>\n",
       "      <td>2327</td>\n",
       "      <td>2327</td>\n",
       "      <td>2327</td>\n",
       "      <td>2327</td>\n",
       "      <td>2327</td>\n",
       "      <td>2327</td>\n",
       "      <td>2327</td>\n",
       "      <td>2327</td>\n",
       "      <td>2327</td>\n",
       "      <td>2327</td>\n",
       "      <td>2327</td>\n",
       "    </tr>\n",
       "    <tr>\n",
       "      <th>Subscriber</th>\n",
       "      <td>2572</td>\n",
       "      <td>2572</td>\n",
       "      <td>2572</td>\n",
       "      <td>2572</td>\n",
       "      <td>2572</td>\n",
       "      <td>2572</td>\n",
       "      <td>2572</td>\n",
       "      <td>2572</td>\n",
       "      <td>2572</td>\n",
       "      <td>2572</td>\n",
       "      <td>2572</td>\n",
       "      <td>2572</td>\n",
       "      <td>2572</td>\n",
       "    </tr>\n",
       "  </tbody>\n",
       "</table>\n",
       "<p>197 rows × 13 columns</p>\n",
       "</div>"
      ],
      "text/plain": [
       "                       tripduration  starttime  stoptime  start station id  \\\n",
       "birth year usertype                                                          \n",
       "1873       Subscriber            12         12        12                12   \n",
       "1884       Subscriber             4          4         4                 4   \n",
       "1885       Subscriber            79         79        79                79   \n",
       "1886       Subscriber            27         27        27                27   \n",
       "1887       Subscriber            17         17        17                17   \n",
       "...                             ...        ...       ...               ...   \n",
       "2002       Subscriber         19853      19853     19853             19853   \n",
       "2003       Customer            5558       5558      5558              5558   \n",
       "           Subscriber          8927       8927      8927              8927   \n",
       "2004       Customer            2327       2327      2327              2327   \n",
       "           Subscriber          2572       2572      2572              2572   \n",
       "\n",
       "                       start station name  start station latitude  \\\n",
       "birth year usertype                                                 \n",
       "1873       Subscriber                  12                      12   \n",
       "1884       Subscriber                   4                       4   \n",
       "1885       Subscriber                  79                      79   \n",
       "1886       Subscriber                  27                      27   \n",
       "1887       Subscriber                  17                      17   \n",
       "...                                   ...                     ...   \n",
       "2002       Subscriber               19853                   19853   \n",
       "2003       Customer                  5558                    5558   \n",
       "           Subscriber                8927                    8927   \n",
       "2004       Customer                  2327                    2327   \n",
       "           Subscriber                2572                    2572   \n",
       "\n",
       "                       start station longitude  end station id  \\\n",
       "birth year usertype                                              \n",
       "1873       Subscriber                       12              12   \n",
       "1884       Subscriber                        4               4   \n",
       "1885       Subscriber                       79              79   \n",
       "1886       Subscriber                       27              27   \n",
       "1887       Subscriber                       17              17   \n",
       "...                                        ...             ...   \n",
       "2002       Subscriber                    19853           19853   \n",
       "2003       Customer                       5558            5558   \n",
       "           Subscriber                     8927            8927   \n",
       "2004       Customer                       2327            2327   \n",
       "           Subscriber                     2572            2572   \n",
       "\n",
       "                       end station name  end station latitude  \\\n",
       "birth year usertype                                             \n",
       "1873       Subscriber                12                    12   \n",
       "1884       Subscriber                 4                     4   \n",
       "1885       Subscriber                79                    79   \n",
       "1886       Subscriber                27                    27   \n",
       "1887       Subscriber                17                    17   \n",
       "...                                 ...                   ...   \n",
       "2002       Subscriber             19853                 19853   \n",
       "2003       Customer                5558                  5558   \n",
       "           Subscriber              8927                  8927   \n",
       "2004       Customer                2327                  2327   \n",
       "           Subscriber              2572                  2572   \n",
       "\n",
       "                       end station longitude  bikeid  gender  \n",
       "birth year usertype                                           \n",
       "1873       Subscriber                     12      12      12  \n",
       "1884       Subscriber                      4       4       4  \n",
       "1885       Subscriber                     79      79      79  \n",
       "1886       Subscriber                     27      27      27  \n",
       "1887       Subscriber                     17      17      17  \n",
       "...                                      ...     ...     ...  \n",
       "2002       Subscriber                  19853   19853   19853  \n",
       "2003       Customer                     5558    5558    5558  \n",
       "           Subscriber                   8927    8927    8927  \n",
       "2004       Customer                     2327    2327    2327  \n",
       "           Subscriber                   2572    2572    2572  \n",
       "\n",
       "[197 rows x 13 columns]"
      ]
     },
     "execution_count": 43,
     "metadata": {},
     "output_type": "execute_result"
    }
   ],
   "source": [
    "df_grouped_age_usertype"
   ]
  },
  {
   "cell_type": "code",
   "execution_count": 58,
   "metadata": {},
   "outputs": [
    {
     "data": {
      "text/plain": [
       "Customer      643140\n",
       "Subscriber    116938\n",
       "Name: usertype, dtype: int64"
      ]
     },
     "execution_count": 58,
     "metadata": {},
     "output_type": "execute_result"
    }
   ],
   "source": [
    "# Verifind the outlier for birth year 1969\n",
    "df_merged['usertype'][df_merged['birth year'] == 1969].value_counts()"
   ]
  },
  {
   "cell_type": "code",
   "execution_count": 62,
   "metadata": {},
   "outputs": [
    {
     "data": {
      "text/html": [
       "<div>\n",
       "<style scoped>\n",
       "    .dataframe tbody tr th:only-of-type {\n",
       "        vertical-align: middle;\n",
       "    }\n",
       "\n",
       "    .dataframe tbody tr th {\n",
       "        vertical-align: top;\n",
       "    }\n",
       "\n",
       "    .dataframe thead th {\n",
       "        text-align: right;\n",
       "    }\n",
       "</style>\n",
       "<table border=\"1\" class=\"dataframe\">\n",
       "  <thead>\n",
       "    <tr style=\"text-align: right;\">\n",
       "      <th></th>\n",
       "      <th>tripduration</th>\n",
       "      <th>starttime</th>\n",
       "      <th>stoptime</th>\n",
       "      <th>start station id</th>\n",
       "      <th>start station name</th>\n",
       "      <th>start station latitude</th>\n",
       "      <th>start station longitude</th>\n",
       "      <th>end station id</th>\n",
       "      <th>end station name</th>\n",
       "      <th>end station latitude</th>\n",
       "      <th>end station longitude</th>\n",
       "      <th>bikeid</th>\n",
       "      <th>usertype</th>\n",
       "      <th>birth year</th>\n",
       "      <th>gender</th>\n",
       "    </tr>\n",
       "    <tr>\n",
       "      <th>starttime</th>\n",
       "      <th></th>\n",
       "      <th></th>\n",
       "      <th></th>\n",
       "      <th></th>\n",
       "      <th></th>\n",
       "      <th></th>\n",
       "      <th></th>\n",
       "      <th></th>\n",
       "      <th></th>\n",
       "      <th></th>\n",
       "      <th></th>\n",
       "      <th></th>\n",
       "      <th></th>\n",
       "      <th></th>\n",
       "      <th></th>\n",
       "    </tr>\n",
       "  </thead>\n",
       "  <tbody>\n",
       "    <tr>\n",
       "      <th>2020-11-01 00:00:47.816</th>\n",
       "      <td>682</td>\n",
       "      <td>2020-11-01 00:00:47.8160</td>\n",
       "      <td>2020-11-01 00:12:09.9180</td>\n",
       "      <td>460</td>\n",
       "      <td>S 4 St &amp; Wythe Ave</td>\n",
       "      <td>40.712859</td>\n",
       "      <td>-73.965903</td>\n",
       "      <td>3077</td>\n",
       "      <td>Stagg St &amp; Union Ave</td>\n",
       "      <td>40.708771</td>\n",
       "      <td>-73.950953</td>\n",
       "      <td>19879</td>\n",
       "      <td>Customer</td>\n",
       "      <td>1969</td>\n",
       "      <td>0</td>\n",
       "    </tr>\n",
       "    <tr>\n",
       "      <th>2020-11-01 00:01:45.576</th>\n",
       "      <td>132</td>\n",
       "      <td>2020-11-01 00:01:45.5760</td>\n",
       "      <td>2020-11-01 00:03:58.0030</td>\n",
       "      <td>4048</td>\n",
       "      <td>St. Nicholas Ave &amp; W 157 St</td>\n",
       "      <td>40.832314</td>\n",
       "      <td>-73.941020</td>\n",
       "      <td>3973</td>\n",
       "      <td>St Nicholas Ave &amp; W 150 St</td>\n",
       "      <td>40.827212</td>\n",
       "      <td>-73.942722</td>\n",
       "      <td>36636</td>\n",
       "      <td>Customer</td>\n",
       "      <td>1969</td>\n",
       "      <td>0</td>\n",
       "    </tr>\n",
       "    <tr>\n",
       "      <th>2020-11-01 00:01:49.433</th>\n",
       "      <td>632</td>\n",
       "      <td>2020-11-01 00:01:49.4330</td>\n",
       "      <td>2020-11-01 00:12:21.5090</td>\n",
       "      <td>3812</td>\n",
       "      <td>University Pl &amp; E 14 St</td>\n",
       "      <td>40.734814</td>\n",
       "      <td>-73.992085</td>\n",
       "      <td>293</td>\n",
       "      <td>Lafayette St &amp; E 8 St</td>\n",
       "      <td>40.730207</td>\n",
       "      <td>-73.991026</td>\n",
       "      <td>45230</td>\n",
       "      <td>Customer</td>\n",
       "      <td>1969</td>\n",
       "      <td>0</td>\n",
       "    </tr>\n",
       "    <tr>\n",
       "      <th>2020-11-01 00:02:45.950</th>\n",
       "      <td>1626</td>\n",
       "      <td>2020-11-01 00:02:45.9500</td>\n",
       "      <td>2020-11-01 00:29:52.0700</td>\n",
       "      <td>4102</td>\n",
       "      <td>Grand Concourse &amp; E 164 St</td>\n",
       "      <td>40.829608</td>\n",
       "      <td>-73.921461</td>\n",
       "      <td>4205</td>\n",
       "      <td>Crotona Park North &amp; Prospect Ave</td>\n",
       "      <td>40.841092</td>\n",
       "      <td>-73.892317</td>\n",
       "      <td>44714</td>\n",
       "      <td>Customer</td>\n",
       "      <td>1969</td>\n",
       "      <td>0</td>\n",
       "    </tr>\n",
       "    <tr>\n",
       "      <th>2020-11-01 00:03:43.098</th>\n",
       "      <td>1258</td>\n",
       "      <td>2020-11-01 00:03:43.0980</td>\n",
       "      <td>2020-11-01 00:24:41.2440</td>\n",
       "      <td>3737</td>\n",
       "      <td>Stanton St &amp; Norfolk St</td>\n",
       "      <td>40.720747</td>\n",
       "      <td>-73.986274</td>\n",
       "      <td>460</td>\n",
       "      <td>S 4 St &amp; Wythe Ave</td>\n",
       "      <td>40.712859</td>\n",
       "      <td>-73.965903</td>\n",
       "      <td>35359</td>\n",
       "      <td>Customer</td>\n",
       "      <td>1969</td>\n",
       "      <td>0</td>\n",
       "    </tr>\n",
       "    <tr>\n",
       "      <th>...</th>\n",
       "      <td>...</td>\n",
       "      <td>...</td>\n",
       "      <td>...</td>\n",
       "      <td>...</td>\n",
       "      <td>...</td>\n",
       "      <td>...</td>\n",
       "      <td>...</td>\n",
       "      <td>...</td>\n",
       "      <td>...</td>\n",
       "      <td>...</td>\n",
       "      <td>...</td>\n",
       "      <td>...</td>\n",
       "      <td>...</td>\n",
       "      <td>...</td>\n",
       "      <td>...</td>\n",
       "    </tr>\n",
       "    <tr>\n",
       "      <th>2020-09-30 23:58:57.294</th>\n",
       "      <td>3603</td>\n",
       "      <td>2020-09-30 23:58:57.2940</td>\n",
       "      <td>2020-10-01 00:59:00.3330</td>\n",
       "      <td>4043</td>\n",
       "      <td>W 78 St &amp; Amsterdam Ave</td>\n",
       "      <td>40.782536</td>\n",
       "      <td>-73.979085</td>\n",
       "      <td>3164</td>\n",
       "      <td>Columbus Ave &amp; W 72 St</td>\n",
       "      <td>40.777057</td>\n",
       "      <td>-73.978985</td>\n",
       "      <td>30241</td>\n",
       "      <td>Customer</td>\n",
       "      <td>1969</td>\n",
       "      <td>0</td>\n",
       "    </tr>\n",
       "    <tr>\n",
       "      <th>2020-09-30 23:59:00.874</th>\n",
       "      <td>426</td>\n",
       "      <td>2020-09-30 23:59:00.8740</td>\n",
       "      <td>2020-10-01 00:06:07.0460</td>\n",
       "      <td>3820</td>\n",
       "      <td>Willoughby Ave &amp; Myrtle Ave</td>\n",
       "      <td>40.697570</td>\n",
       "      <td>-73.930980</td>\n",
       "      <td>3760</td>\n",
       "      <td>Willoughby Ave &amp; Wyckoff Ave</td>\n",
       "      <td>40.705614</td>\n",
       "      <td>-73.921530</td>\n",
       "      <td>37051</td>\n",
       "      <td>Customer</td>\n",
       "      <td>1969</td>\n",
       "      <td>0</td>\n",
       "    </tr>\n",
       "    <tr>\n",
       "      <th>2020-09-30 23:59:04.048</th>\n",
       "      <td>338</td>\n",
       "      <td>2020-09-30 23:59:04.0480</td>\n",
       "      <td>2020-10-01 00:04:42.3960</td>\n",
       "      <td>3711</td>\n",
       "      <td>E 13 St &amp; Avenue A</td>\n",
       "      <td>40.729667</td>\n",
       "      <td>-73.980680</td>\n",
       "      <td>497</td>\n",
       "      <td>E 17 St &amp; Broadway</td>\n",
       "      <td>40.737050</td>\n",
       "      <td>-73.990093</td>\n",
       "      <td>37407</td>\n",
       "      <td>Customer</td>\n",
       "      <td>1969</td>\n",
       "      <td>0</td>\n",
       "    </tr>\n",
       "    <tr>\n",
       "      <th>2020-09-30 23:59:26.053</th>\n",
       "      <td>241</td>\n",
       "      <td>2020-09-30 23:59:26.0530</td>\n",
       "      <td>2020-10-01 00:03:27.3340</td>\n",
       "      <td>4110</td>\n",
       "      <td>Avenue D &amp; E 10 St</td>\n",
       "      <td>40.725066</td>\n",
       "      <td>-73.975158</td>\n",
       "      <td>341</td>\n",
       "      <td>Stanton St &amp; Mangin St</td>\n",
       "      <td>40.717821</td>\n",
       "      <td>-73.976289</td>\n",
       "      <td>36293</td>\n",
       "      <td>Customer</td>\n",
       "      <td>1969</td>\n",
       "      <td>0</td>\n",
       "    </tr>\n",
       "    <tr>\n",
       "      <th>2020-09-30 23:59:41.817</th>\n",
       "      <td>522</td>\n",
       "      <td>2020-09-30 23:59:41.8170</td>\n",
       "      <td>2020-10-01 00:08:24.1050</td>\n",
       "      <td>467</td>\n",
       "      <td>Dean St &amp; 4 Ave</td>\n",
       "      <td>40.683125</td>\n",
       "      <td>-73.978951</td>\n",
       "      <td>3571</td>\n",
       "      <td>Bedford Ave &amp; Bergen St</td>\n",
       "      <td>40.676368</td>\n",
       "      <td>-73.952918</td>\n",
       "      <td>47382</td>\n",
       "      <td>Customer</td>\n",
       "      <td>1969</td>\n",
       "      <td>0</td>\n",
       "    </tr>\n",
       "  </tbody>\n",
       "</table>\n",
       "<p>643140 rows × 15 columns</p>\n",
       "</div>"
      ],
      "text/plain": [
       "                         tripduration                 starttime  \\\n",
       "starttime                                                         \n",
       "2020-11-01 00:00:47.816           682  2020-11-01 00:00:47.8160   \n",
       "2020-11-01 00:01:45.576           132  2020-11-01 00:01:45.5760   \n",
       "2020-11-01 00:01:49.433           632  2020-11-01 00:01:49.4330   \n",
       "2020-11-01 00:02:45.950          1626  2020-11-01 00:02:45.9500   \n",
       "2020-11-01 00:03:43.098          1258  2020-11-01 00:03:43.0980   \n",
       "...                               ...                       ...   \n",
       "2020-09-30 23:58:57.294          3603  2020-09-30 23:58:57.2940   \n",
       "2020-09-30 23:59:00.874           426  2020-09-30 23:59:00.8740   \n",
       "2020-09-30 23:59:04.048           338  2020-09-30 23:59:04.0480   \n",
       "2020-09-30 23:59:26.053           241  2020-09-30 23:59:26.0530   \n",
       "2020-09-30 23:59:41.817           522  2020-09-30 23:59:41.8170   \n",
       "\n",
       "                                         stoptime  start station id  \\\n",
       "starttime                                                             \n",
       "2020-11-01 00:00:47.816  2020-11-01 00:12:09.9180               460   \n",
       "2020-11-01 00:01:45.576  2020-11-01 00:03:58.0030              4048   \n",
       "2020-11-01 00:01:49.433  2020-11-01 00:12:21.5090              3812   \n",
       "2020-11-01 00:02:45.950  2020-11-01 00:29:52.0700              4102   \n",
       "2020-11-01 00:03:43.098  2020-11-01 00:24:41.2440              3737   \n",
       "...                                           ...               ...   \n",
       "2020-09-30 23:58:57.294  2020-10-01 00:59:00.3330              4043   \n",
       "2020-09-30 23:59:00.874  2020-10-01 00:06:07.0460              3820   \n",
       "2020-09-30 23:59:04.048  2020-10-01 00:04:42.3960              3711   \n",
       "2020-09-30 23:59:26.053  2020-10-01 00:03:27.3340              4110   \n",
       "2020-09-30 23:59:41.817  2020-10-01 00:08:24.1050               467   \n",
       "\n",
       "                                  start station name  start station latitude  \\\n",
       "starttime                                                                      \n",
       "2020-11-01 00:00:47.816           S 4 St & Wythe Ave               40.712859   \n",
       "2020-11-01 00:01:45.576  St. Nicholas Ave & W 157 St               40.832314   \n",
       "2020-11-01 00:01:49.433      University Pl & E 14 St               40.734814   \n",
       "2020-11-01 00:02:45.950   Grand Concourse & E 164 St               40.829608   \n",
       "2020-11-01 00:03:43.098      Stanton St & Norfolk St               40.720747   \n",
       "...                                              ...                     ...   \n",
       "2020-09-30 23:58:57.294      W 78 St & Amsterdam Ave               40.782536   \n",
       "2020-09-30 23:59:00.874  Willoughby Ave & Myrtle Ave               40.697570   \n",
       "2020-09-30 23:59:04.048           E 13 St & Avenue A               40.729667   \n",
       "2020-09-30 23:59:26.053           Avenue D & E 10 St               40.725066   \n",
       "2020-09-30 23:59:41.817              Dean St & 4 Ave               40.683125   \n",
       "\n",
       "                         start station longitude  end station id  \\\n",
       "starttime                                                          \n",
       "2020-11-01 00:00:47.816               -73.965903            3077   \n",
       "2020-11-01 00:01:45.576               -73.941020            3973   \n",
       "2020-11-01 00:01:49.433               -73.992085             293   \n",
       "2020-11-01 00:02:45.950               -73.921461            4205   \n",
       "2020-11-01 00:03:43.098               -73.986274             460   \n",
       "...                                          ...             ...   \n",
       "2020-09-30 23:58:57.294               -73.979085            3164   \n",
       "2020-09-30 23:59:00.874               -73.930980            3760   \n",
       "2020-09-30 23:59:04.048               -73.980680             497   \n",
       "2020-09-30 23:59:26.053               -73.975158             341   \n",
       "2020-09-30 23:59:41.817               -73.978951            3571   \n",
       "\n",
       "                                          end station name  \\\n",
       "starttime                                                    \n",
       "2020-11-01 00:00:47.816               Stagg St & Union Ave   \n",
       "2020-11-01 00:01:45.576         St Nicholas Ave & W 150 St   \n",
       "2020-11-01 00:01:49.433              Lafayette St & E 8 St   \n",
       "2020-11-01 00:02:45.950  Crotona Park North & Prospect Ave   \n",
       "2020-11-01 00:03:43.098                 S 4 St & Wythe Ave   \n",
       "...                                                    ...   \n",
       "2020-09-30 23:58:57.294             Columbus Ave & W 72 St   \n",
       "2020-09-30 23:59:00.874       Willoughby Ave & Wyckoff Ave   \n",
       "2020-09-30 23:59:04.048                 E 17 St & Broadway   \n",
       "2020-09-30 23:59:26.053             Stanton St & Mangin St   \n",
       "2020-09-30 23:59:41.817            Bedford Ave & Bergen St   \n",
       "\n",
       "                         end station latitude  end station longitude  bikeid  \\\n",
       "starttime                                                                      \n",
       "2020-11-01 00:00:47.816             40.708771             -73.950953   19879   \n",
       "2020-11-01 00:01:45.576             40.827212             -73.942722   36636   \n",
       "2020-11-01 00:01:49.433             40.730207             -73.991026   45230   \n",
       "2020-11-01 00:02:45.950             40.841092             -73.892317   44714   \n",
       "2020-11-01 00:03:43.098             40.712859             -73.965903   35359   \n",
       "...                                       ...                    ...     ...   \n",
       "2020-09-30 23:58:57.294             40.777057             -73.978985   30241   \n",
       "2020-09-30 23:59:00.874             40.705614             -73.921530   37051   \n",
       "2020-09-30 23:59:04.048             40.737050             -73.990093   37407   \n",
       "2020-09-30 23:59:26.053             40.717821             -73.976289   36293   \n",
       "2020-09-30 23:59:41.817             40.676368             -73.952918   47382   \n",
       "\n",
       "                         usertype  birth year  gender  \n",
       "starttime                                              \n",
       "2020-11-01 00:00:47.816  Customer        1969       0  \n",
       "2020-11-01 00:01:45.576  Customer        1969       0  \n",
       "2020-11-01 00:01:49.433  Customer        1969       0  \n",
       "2020-11-01 00:02:45.950  Customer        1969       0  \n",
       "2020-11-01 00:03:43.098  Customer        1969       0  \n",
       "...                           ...         ...     ...  \n",
       "2020-09-30 23:58:57.294  Customer        1969       0  \n",
       "2020-09-30 23:59:00.874  Customer        1969       0  \n",
       "2020-09-30 23:59:04.048  Customer        1969       0  \n",
       "2020-09-30 23:59:26.053  Customer        1969       0  \n",
       "2020-09-30 23:59:41.817  Customer        1969       0  \n",
       "\n",
       "[643140 rows x 15 columns]"
      ]
     },
     "execution_count": 62,
     "metadata": {},
     "output_type": "execute_result"
    }
   ],
   "source": [
    "df_merged[(df_merged['birth year'] == 1969) & (df_merged['usertype'] == 'Customer')]"
   ]
  },
  {
   "cell_type": "code",
   "execution_count": null,
   "metadata": {},
   "outputs": [],
   "source": [
    "df_merged[['starttime','tripduration']][(df_merged['birth year'] == 1969) & (df_merged['usertype'] == 'Customer')].groupby('starttime').sum()"
   ]
  },
  {
   "cell_type": "markdown",
   "metadata": {},
   "source": [
    "<hr style=\"border-top: 3px solid gray;\">"
   ]
  },
  {
   "cell_type": "markdown",
   "metadata": {},
   "source": [
    "* What is the average distance in miles that a bike is ridden?"
   ]
  },
  {
   "cell_type": "code",
   "execution_count": null,
   "metadata": {},
   "outputs": [],
   "source": [
    "from geopy.distance import geodesic\n",
    "\n",
    "origin = (df_merged['start station latitude'].iloc[0], df_merged['start station longitude'].iloc[0])\n",
    "dist = (df_merged['end station latitude'].iloc[0], df_merged['end station longitude'].iloc[0])\n",
    "print(f\"Distance is {round(100*geodesic(origin, dist).miles)/100} miles\")"
   ]
  },
  {
   "cell_type": "code",
   "execution_count": null,
   "metadata": {},
   "outputs": [],
   "source": [
    "list_distances = []\n",
    "for index in range(len(df_merged.index)):\n",
    "    origin = (df_merged['start station latitude'].iloc[index], df_merged['start station longitude'].iloc[index])\n",
    "    dist = (df_merged['end station latitude'].iloc[index], df_merged['end station longitude'].iloc[index])\n",
    "#     print(f\"Distance is {round(100*geodesic(origin, dist).miles)/100} miles\")\n",
    "    list_distances.append(round(100*geodesic(origin, dist).miles)/100)"
   ]
  },
  {
   "cell_type": "code",
   "execution_count": null,
   "metadata": {},
   "outputs": [],
   "source": [
    "average_distance = sum(list_distances)/len(list_distances)"
   ]
  },
  {
   "cell_type": "code",
   "execution_count": null,
   "metadata": {},
   "outputs": [],
   "source": [
    "average_distance"
   ]
  },
  {
   "cell_type": "code",
   "execution_count": null,
   "metadata": {},
   "outputs": [],
   "source": [
    "pd.DataFrame(list_distances).hist()"
   ]
  },
  {
   "cell_type": "markdown",
   "metadata": {},
   "source": [
    "<hr style=\"border-top: 3px solid gray;\">"
   ]
  },
  {
   "cell_type": "markdown",
   "metadata": {},
   "source": [
    "* Which bikes (by ID) are most likely due for repair or inspection in the timespan?"
   ]
  },
  {
   "cell_type": "code",
   "execution_count": null,
   "metadata": {},
   "outputs": [],
   "source": [
    "df_groupby = df_merged.groupby(\"bikeid\")"
   ]
  },
  {
   "cell_type": "code",
   "execution_count": null,
   "metadata": {},
   "outputs": [],
   "source": [
    "ax = df_groupby['tripduration'].sum().sort_values(ascending=False).head(15).plot(kind=\"bar\", color=\"y\", alpha=1,figsize=(15, 5))\n",
    "ax.set_xlabel(\"bikeid\");\n",
    "ax.set_ylabel(\"Trip Duration (s)\");\n",
    "ax.set_title(\"Top 10 Bikes By Total Trip Time\");"
   ]
  },
  {
   "cell_type": "code",
   "execution_count": null,
   "metadata": {},
   "outputs": [],
   "source": [
    "ax = df_groupby['tripduration'].sum().sort_values(ascending=True).head(15).sort_values(ascending=False).plot(kind=\"bar\", color=\"g\", alpha=1,figsize=(15, 5))\n",
    "ax.set_xlabel(\"bikeid\");\n",
    "ax.set_ylabel(\"Trip Duration (s)\");\n",
    "ax.set_title(\"Bottom 10 Bikes By Total Trip Time\");"
   ]
  },
  {
   "cell_type": "markdown",
   "metadata": {},
   "source": [
    "<hr style=\"border-top: 3px solid gray;\">"
   ]
  },
  {
   "cell_type": "markdown",
   "metadata": {},
   "source": [
    "* How variable is the utilization by bike ID?"
   ]
  },
  {
   "cell_type": "code",
   "execution_count": null,
   "metadata": {},
   "outputs": [],
   "source": [
    "ax = df_groupby['tripduration'].count().plot(color=\"k\", alpha=1,figsize=(15, 5))\n",
    "ax.set_xlabel(\"bikeid\");\n",
    "ax.set_ylabel(\"Trip\");\n",
    "ax.set_title(\"Total Trips by Bike\");"
   ]
  },
  {
   "cell_type": "code",
   "execution_count": null,
   "metadata": {},
   "outputs": [],
   "source": [
    "ax = df_groupby['tripduration'].sum().plot(color=\"r\", alpha=1,figsize=(15, 5))\n",
    "ax.set_xlabel(\"bikeid\");\n",
    "ax.set_ylabel(\"Trip Duration (s)\");\n",
    "ax.set_title(\"Total Trip Duration by Bike\");"
   ]
  },
  {
   "cell_type": "markdown",
   "metadata": {},
   "source": [
    "<hr style=\"border-top: 3px solid gray;\">"
   ]
  },
  {
   "cell_type": "code",
   "execution_count": null,
   "metadata": {},
   "outputs": [],
   "source": []
  }
 ],
 "metadata": {
  "kernelspec": {
   "display_name": "Python 3",
   "language": "python",
   "name": "python3"
  },
  "language_info": {
   "codemirror_mode": {
    "name": "ipython",
    "version": 3
   },
   "file_extension": ".py",
   "mimetype": "text/x-python",
   "name": "python",
   "nbconvert_exporter": "python",
   "pygments_lexer": "ipython3",
   "version": "3.8.3"
  }
 },
 "nbformat": 4,
 "nbformat_minor": 4
}
