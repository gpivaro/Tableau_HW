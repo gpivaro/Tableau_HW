{
 "cells": [
  {
   "cell_type": "markdown",
   "metadata": {},
   "source": [
    "# Tableau Homework - Citi Bike Analytics"
   ]
  },
  {
   "cell_type": "markdown",
   "metadata": {},
   "source": [
    "Since 2013, the Citi Bike Program has implemented a robust infrastructure for collecting data on the program's utilization. Through the team's efforts, each month bike data is collected, organized, and made public on the Citi Bike Data [webpage](https://www.citibikenyc.com/system-data)"
   ]
  },
  {
   "cell_type": "markdown",
   "metadata": {},
   "source": [
    "Task\n",
    "Your task in this assignment is to aggregate the data found in the Citi Bike Trip History Logs and find two unexpected phenomena.\n",
    "\n",
    "Design 2-5 visualizations for each discovered phenomena (4-10 total). You may work with a timespan of your choosing. Optionally, you may merge multiple datasets from different periods."
   ]
  },
  {
   "cell_type": "markdown",
   "metadata": {},
   "source": [
    "### Import Dependencies"
   ]
  },
  {
   "cell_type": "code",
   "execution_count": 1,
   "metadata": {},
   "outputs": [],
   "source": [
    "import os\n",
    "import pandas as pd"
   ]
  },
  {
   "cell_type": "markdown",
   "metadata": {},
   "source": [
    "### Import and clean the data"
   ]
  },
  {
   "cell_type": "code",
   "execution_count": 2,
   "metadata": {},
   "outputs": [],
   "source": [
    "directory = os.path.join(\"data\",\"NY-2018-2020\")"
   ]
  },
  {
   "cell_type": "code",
   "execution_count": 3,
   "metadata": {},
   "outputs": [],
   "source": [
    "# Get list of files on the directory\n",
    "files_list = [];\n",
    "for filename in os.listdir(directory):\n",
    "    if filename.endswith(\".csv\"):\n",
    "        files_list.append(os.path.join(filename))\n",
    "\n",
    "    else:\n",
    "        continue"
   ]
  },
  {
   "cell_type": "code",
   "execution_count": 4,
   "metadata": {},
   "outputs": [],
   "source": [
    "df_merged = pd.DataFrame({'A' : []})"
   ]
  },
  {
   "cell_type": "code",
   "execution_count": 5,
   "metadata": {},
   "outputs": [],
   "source": [
    "n = 0\n",
    "for file in files_list:\n",
    "    if n == 0:\n",
    "        filepath = os.path.join(directory,file)\n",
    "        df_merged = pd.read_csv(filepath)\n",
    "    else:\n",
    "        filepath = os.path.join(directory,file)\n",
    "        df = pd.read_csv(filepath)\n",
    "        df_merged = pd.merge(df, df_merged, how='outer')\n",
    "    \n",
    "    n += 1"
   ]
  },
  {
   "cell_type": "code",
   "execution_count": 6,
   "metadata": {},
   "outputs": [
    {
     "data": {
      "text/html": [
       "<div>\n",
       "<style scoped>\n",
       "    .dataframe tbody tr th:only-of-type {\n",
       "        vertical-align: middle;\n",
       "    }\n",
       "\n",
       "    .dataframe tbody tr th {\n",
       "        vertical-align: top;\n",
       "    }\n",
       "\n",
       "    .dataframe thead th {\n",
       "        text-align: right;\n",
       "    }\n",
       "</style>\n",
       "<table border=\"1\" class=\"dataframe\">\n",
       "  <thead>\n",
       "    <tr style=\"text-align: right;\">\n",
       "      <th></th>\n",
       "      <th>tripduration</th>\n",
       "      <th>starttime</th>\n",
       "      <th>stoptime</th>\n",
       "      <th>start station id</th>\n",
       "      <th>start station name</th>\n",
       "      <th>start station latitude</th>\n",
       "      <th>start station longitude</th>\n",
       "      <th>end station id</th>\n",
       "      <th>end station name</th>\n",
       "      <th>end station latitude</th>\n",
       "      <th>end station longitude</th>\n",
       "      <th>bikeid</th>\n",
       "      <th>usertype</th>\n",
       "      <th>birth year</th>\n",
       "      <th>gender</th>\n",
       "    </tr>\n",
       "  </thead>\n",
       "  <tbody>\n",
       "    <tr>\n",
       "      <th>0</th>\n",
       "      <td>521</td>\n",
       "      <td>2020-11-01 00:00:07.0150</td>\n",
       "      <td>2020-11-01 00:08:48.3010</td>\n",
       "      <td>3467</td>\n",
       "      <td>W Broadway &amp; Spring St</td>\n",
       "      <td>40.724947</td>\n",
       "      <td>-74.001659</td>\n",
       "      <td>350</td>\n",
       "      <td>Clinton St &amp; Grand St</td>\n",
       "      <td>40.715595</td>\n",
       "      <td>-73.987030</td>\n",
       "      <td>40405</td>\n",
       "      <td>Subscriber</td>\n",
       "      <td>1989</td>\n",
       "      <td>1</td>\n",
       "    </tr>\n",
       "    <tr>\n",
       "      <th>1</th>\n",
       "      <td>492</td>\n",
       "      <td>2020-11-01 00:00:10.8080</td>\n",
       "      <td>2020-11-01 00:08:23.3170</td>\n",
       "      <td>3557</td>\n",
       "      <td>40 Ave &amp; 9 St</td>\n",
       "      <td>40.757420</td>\n",
       "      <td>-73.945133</td>\n",
       "      <td>3557</td>\n",
       "      <td>40 Ave &amp; 9 St</td>\n",
       "      <td>40.757420</td>\n",
       "      <td>-73.945133</td>\n",
       "      <td>46504</td>\n",
       "      <td>Subscriber</td>\n",
       "      <td>1970</td>\n",
       "      <td>2</td>\n",
       "    </tr>\n",
       "    <tr>\n",
       "      <th>2</th>\n",
       "      <td>1979</td>\n",
       "      <td>2020-11-01 00:00:14.7040</td>\n",
       "      <td>2020-11-01 00:33:14.1640</td>\n",
       "      <td>3085</td>\n",
       "      <td>Roebling St &amp; N 4 St</td>\n",
       "      <td>40.714690</td>\n",
       "      <td>-73.957390</td>\n",
       "      <td>3854</td>\n",
       "      <td>Morgan Ave &amp; Maspeth Ave</td>\n",
       "      <td>40.716657</td>\n",
       "      <td>-73.936370</td>\n",
       "      <td>37452</td>\n",
       "      <td>Subscriber</td>\n",
       "      <td>1989</td>\n",
       "      <td>2</td>\n",
       "    </tr>\n",
       "    <tr>\n",
       "      <th>3</th>\n",
       "      <td>2382</td>\n",
       "      <td>2020-11-01 00:00:14.7070</td>\n",
       "      <td>2020-11-01 00:39:57.0030</td>\n",
       "      <td>3783</td>\n",
       "      <td>Cliff St &amp; Fulton St</td>\n",
       "      <td>40.708380</td>\n",
       "      <td>-74.004950</td>\n",
       "      <td>3167</td>\n",
       "      <td>Amsterdam Ave &amp; W 73 St</td>\n",
       "      <td>40.779668</td>\n",
       "      <td>-73.980930</td>\n",
       "      <td>40417</td>\n",
       "      <td>Subscriber</td>\n",
       "      <td>1981</td>\n",
       "      <td>1</td>\n",
       "    </tr>\n",
       "    <tr>\n",
       "      <th>4</th>\n",
       "      <td>166</td>\n",
       "      <td>2020-11-01 00:00:15.9690</td>\n",
       "      <td>2020-11-01 00:03:02.8980</td>\n",
       "      <td>422</td>\n",
       "      <td>W 59 St &amp; 10 Ave</td>\n",
       "      <td>40.770513</td>\n",
       "      <td>-73.988038</td>\n",
       "      <td>3175</td>\n",
       "      <td>W 70 St &amp; Amsterdam Ave</td>\n",
       "      <td>40.777480</td>\n",
       "      <td>-73.982886</td>\n",
       "      <td>35776</td>\n",
       "      <td>Subscriber</td>\n",
       "      <td>1990</td>\n",
       "      <td>1</td>\n",
       "    </tr>\n",
       "    <tr>\n",
       "      <th>...</th>\n",
       "      <td>...</td>\n",
       "      <td>...</td>\n",
       "      <td>...</td>\n",
       "      <td>...</td>\n",
       "      <td>...</td>\n",
       "      <td>...</td>\n",
       "      <td>...</td>\n",
       "      <td>...</td>\n",
       "      <td>...</td>\n",
       "      <td>...</td>\n",
       "      <td>...</td>\n",
       "      <td>...</td>\n",
       "      <td>...</td>\n",
       "      <td>...</td>\n",
       "      <td>...</td>\n",
       "    </tr>\n",
       "    <tr>\n",
       "      <th>3985568</th>\n",
       "      <td>1120</td>\n",
       "      <td>2020-10-31 23:59:48.4470</td>\n",
       "      <td>2020-11-01 00:18:29.3280</td>\n",
       "      <td>471</td>\n",
       "      <td>Grand St &amp; Havemeyer St</td>\n",
       "      <td>40.712868</td>\n",
       "      <td>-73.956981</td>\n",
       "      <td>3764</td>\n",
       "      <td>Bushwick Ave &amp; McKibbin St</td>\n",
       "      <td>40.705517</td>\n",
       "      <td>-73.939360</td>\n",
       "      <td>35356</td>\n",
       "      <td>Customer</td>\n",
       "      <td>1996</td>\n",
       "      <td>1</td>\n",
       "    </tr>\n",
       "    <tr>\n",
       "      <th>3985569</th>\n",
       "      <td>859</td>\n",
       "      <td>2020-10-31 23:59:49.3770</td>\n",
       "      <td>2020-11-01 00:14:09.1920</td>\n",
       "      <td>4005</td>\n",
       "      <td>St. Nicholas Terrace &amp; Convent Ave</td>\n",
       "      <td>40.821294</td>\n",
       "      <td>-73.947868</td>\n",
       "      <td>3960</td>\n",
       "      <td>Hamilton Pl &amp; W 140 St</td>\n",
       "      <td>40.822756</td>\n",
       "      <td>-73.951346</td>\n",
       "      <td>48322</td>\n",
       "      <td>Customer</td>\n",
       "      <td>1999</td>\n",
       "      <td>1</td>\n",
       "    </tr>\n",
       "    <tr>\n",
       "      <th>3985570</th>\n",
       "      <td>546</td>\n",
       "      <td>2020-10-31 23:59:52.1040</td>\n",
       "      <td>2020-11-01 00:08:59.0710</td>\n",
       "      <td>4010</td>\n",
       "      <td>W 145 St &amp; Amsterdam Ave</td>\n",
       "      <td>40.825244</td>\n",
       "      <td>-73.947257</td>\n",
       "      <td>4057</td>\n",
       "      <td>Amsterdam Ave &amp; W 167 St</td>\n",
       "      <td>40.839443</td>\n",
       "      <td>-73.937044</td>\n",
       "      <td>44589</td>\n",
       "      <td>Subscriber</td>\n",
       "      <td>1976</td>\n",
       "      <td>1</td>\n",
       "    </tr>\n",
       "    <tr>\n",
       "      <th>3985571</th>\n",
       "      <td>748</td>\n",
       "      <td>2020-10-31 23:59:53.0290</td>\n",
       "      <td>2020-11-01 00:12:21.7830</td>\n",
       "      <td>3783</td>\n",
       "      <td>Cliff St &amp; Fulton St</td>\n",
       "      <td>40.708380</td>\n",
       "      <td>-74.004950</td>\n",
       "      <td>432</td>\n",
       "      <td>E 7 St &amp; Avenue A</td>\n",
       "      <td>40.726218</td>\n",
       "      <td>-73.983799</td>\n",
       "      <td>48511</td>\n",
       "      <td>Subscriber</td>\n",
       "      <td>1997</td>\n",
       "      <td>2</td>\n",
       "    </tr>\n",
       "    <tr>\n",
       "      <th>3985572</th>\n",
       "      <td>1366</td>\n",
       "      <td>2020-10-31 23:59:57.9770</td>\n",
       "      <td>2020-11-01 00:22:44.1290</td>\n",
       "      <td>402</td>\n",
       "      <td>Broadway &amp; E 22 St</td>\n",
       "      <td>40.740343</td>\n",
       "      <td>-73.989551</td>\n",
       "      <td>468</td>\n",
       "      <td>Broadway &amp; W 56 St</td>\n",
       "      <td>40.765265</td>\n",
       "      <td>-73.981923</td>\n",
       "      <td>37248</td>\n",
       "      <td>Subscriber</td>\n",
       "      <td>1974</td>\n",
       "      <td>2</td>\n",
       "    </tr>\n",
       "  </tbody>\n",
       "</table>\n",
       "<p>3985573 rows × 15 columns</p>\n",
       "</div>"
      ],
      "text/plain": [
       "         tripduration                 starttime                  stoptime  \\\n",
       "0                 521  2020-11-01 00:00:07.0150  2020-11-01 00:08:48.3010   \n",
       "1                 492  2020-11-01 00:00:10.8080  2020-11-01 00:08:23.3170   \n",
       "2                1979  2020-11-01 00:00:14.7040  2020-11-01 00:33:14.1640   \n",
       "3                2382  2020-11-01 00:00:14.7070  2020-11-01 00:39:57.0030   \n",
       "4                 166  2020-11-01 00:00:15.9690  2020-11-01 00:03:02.8980   \n",
       "...               ...                       ...                       ...   \n",
       "3985568          1120  2020-10-31 23:59:48.4470  2020-11-01 00:18:29.3280   \n",
       "3985569           859  2020-10-31 23:59:49.3770  2020-11-01 00:14:09.1920   \n",
       "3985570           546  2020-10-31 23:59:52.1040  2020-11-01 00:08:59.0710   \n",
       "3985571           748  2020-10-31 23:59:53.0290  2020-11-01 00:12:21.7830   \n",
       "3985572          1366  2020-10-31 23:59:57.9770  2020-11-01 00:22:44.1290   \n",
       "\n",
       "         start station id                  start station name  \\\n",
       "0                    3467              W Broadway & Spring St   \n",
       "1                    3557                       40 Ave & 9 St   \n",
       "2                    3085                Roebling St & N 4 St   \n",
       "3                    3783                Cliff St & Fulton St   \n",
       "4                     422                    W 59 St & 10 Ave   \n",
       "...                   ...                                 ...   \n",
       "3985568               471             Grand St & Havemeyer St   \n",
       "3985569              4005  St. Nicholas Terrace & Convent Ave   \n",
       "3985570              4010            W 145 St & Amsterdam Ave   \n",
       "3985571              3783                Cliff St & Fulton St   \n",
       "3985572               402                  Broadway & E 22 St   \n",
       "\n",
       "         start station latitude  start station longitude  end station id  \\\n",
       "0                     40.724947               -74.001659             350   \n",
       "1                     40.757420               -73.945133            3557   \n",
       "2                     40.714690               -73.957390            3854   \n",
       "3                     40.708380               -74.004950            3167   \n",
       "4                     40.770513               -73.988038            3175   \n",
       "...                         ...                      ...             ...   \n",
       "3985568               40.712868               -73.956981            3764   \n",
       "3985569               40.821294               -73.947868            3960   \n",
       "3985570               40.825244               -73.947257            4057   \n",
       "3985571               40.708380               -74.004950             432   \n",
       "3985572               40.740343               -73.989551             468   \n",
       "\n",
       "                   end station name  end station latitude  \\\n",
       "0             Clinton St & Grand St             40.715595   \n",
       "1                     40 Ave & 9 St             40.757420   \n",
       "2          Morgan Ave & Maspeth Ave             40.716657   \n",
       "3           Amsterdam Ave & W 73 St             40.779668   \n",
       "4           W 70 St & Amsterdam Ave             40.777480   \n",
       "...                             ...                   ...   \n",
       "3985568  Bushwick Ave & McKibbin St             40.705517   \n",
       "3985569      Hamilton Pl & W 140 St             40.822756   \n",
       "3985570    Amsterdam Ave & W 167 St             40.839443   \n",
       "3985571           E 7 St & Avenue A             40.726218   \n",
       "3985572          Broadway & W 56 St             40.765265   \n",
       "\n",
       "         end station longitude  bikeid    usertype  birth year  gender  \n",
       "0                   -73.987030   40405  Subscriber        1989       1  \n",
       "1                   -73.945133   46504  Subscriber        1970       2  \n",
       "2                   -73.936370   37452  Subscriber        1989       2  \n",
       "3                   -73.980930   40417  Subscriber        1981       1  \n",
       "4                   -73.982886   35776  Subscriber        1990       1  \n",
       "...                        ...     ...         ...         ...     ...  \n",
       "3985568             -73.939360   35356    Customer        1996       1  \n",
       "3985569             -73.951346   48322    Customer        1999       1  \n",
       "3985570             -73.937044   44589  Subscriber        1976       1  \n",
       "3985571             -73.983799   48511  Subscriber        1997       2  \n",
       "3985572             -73.981923   37248  Subscriber        1974       2  \n",
       "\n",
       "[3985573 rows x 15 columns]"
      ]
     },
     "execution_count": 6,
     "metadata": {},
     "output_type": "execute_result"
    }
   ],
   "source": [
    "df_merged"
   ]
  },
  {
   "cell_type": "code",
   "execution_count": 7,
   "metadata": {},
   "outputs": [
    {
     "data": {
      "text/plain": [
       "tripduration               0\n",
       "starttime                  0\n",
       "stoptime                   0\n",
       "start station id           0\n",
       "start station name         0\n",
       "start station latitude     0\n",
       "start station longitude    0\n",
       "end station id             0\n",
       "end station name           0\n",
       "end station latitude       0\n",
       "end station longitude      0\n",
       "bikeid                     0\n",
       "usertype                   0\n",
       "birth year                 0\n",
       "gender                     0\n",
       "dtype: int64"
      ]
     },
     "execution_count": 7,
     "metadata": {},
     "output_type": "execute_result"
    }
   ],
   "source": [
    "df_merged.isnull().sum()"
   ]
  },
  {
   "cell_type": "code",
   "execution_count": 8,
   "metadata": {},
   "outputs": [
    {
     "data": {
      "text/plain": [
       "False"
      ]
     },
     "execution_count": 8,
     "metadata": {},
     "output_type": "execute_result"
    }
   ],
   "source": [
    "df_merged.isnull().values.any()"
   ]
  },
  {
   "cell_type": "code",
   "execution_count": 9,
   "metadata": {},
   "outputs": [
    {
     "data": {
      "text/plain": [
       "count     3985573\n",
       "unique          1\n",
       "top         False\n",
       "freq      3985573\n",
       "Name: starttime, dtype: object"
      ]
     },
     "execution_count": 9,
     "metadata": {},
     "output_type": "execute_result"
    }
   ],
   "source": [
    "# creating bool series True for NaN values  \n",
    "bool_series = pd.isnull(df_merged['starttime'])  \n",
    "    \n",
    "bool_series.describe()"
   ]
  },
  {
   "cell_type": "markdown",
   "metadata": {},
   "source": [
    "### Analytics"
   ]
  },
  {
   "cell_type": "markdown",
   "metadata": {},
   "source": [
    "* How many trips have been recorded total during the chosen period?"
   ]
  },
  {
   "cell_type": "code",
   "execution_count": 10,
   "metadata": {},
   "outputs": [
    {
     "name": "stdout",
     "output_type": "stream",
     "text": [
      "How many trips have been recorded total during the chosen period? \n",
      "R:3985573\n"
     ]
    }
   ],
   "source": [
    "# How many trips have been recorded total during the chosen period?\n",
    "total_trips = df_merged['tripduration'].count()\n",
    "print(f\"How many trips have been recorded total during the chosen period? \\nR:{total_trips}\")"
   ]
  },
  {
   "cell_type": "markdown",
   "metadata": {},
   "source": [
    "<hr style=\"border-top: 3px solid gray;\">"
   ]
  },
  {
   "cell_type": "markdown",
   "metadata": {},
   "source": [
    "* By what percentage has total ridership grown?"
   ]
  },
  {
   "cell_type": "code",
   "execution_count": 11,
   "metadata": {},
   "outputs": [],
   "source": [
    "df_merged.index = pd.to_datetime(df_merged['starttime'],format='%Y-%m-%d')\n",
    "df_grouped_starttime = df_merged.groupby(by=[ df_merged.index.year])\n",
    "# df_grouped_starttime = df_merged.groupby(by=[ df_merged.index.year, df_merged.index.month])"
   ]
  },
  {
   "cell_type": "code",
   "execution_count": 12,
   "metadata": {},
   "outputs": [
    {
     "data": {
      "text/html": [
       "<div>\n",
       "<style scoped>\n",
       "    .dataframe tbody tr th:only-of-type {\n",
       "        vertical-align: middle;\n",
       "    }\n",
       "\n",
       "    .dataframe tbody tr th {\n",
       "        vertical-align: top;\n",
       "    }\n",
       "\n",
       "    .dataframe thead th {\n",
       "        text-align: right;\n",
       "    }\n",
       "</style>\n",
       "<table border=\"1\" class=\"dataframe\">\n",
       "  <thead>\n",
       "    <tr style=\"text-align: right;\">\n",
       "      <th></th>\n",
       "      <th>tripduration</th>\n",
       "      <th>starttime</th>\n",
       "      <th>stoptime</th>\n",
       "      <th>start station id</th>\n",
       "      <th>start station name</th>\n",
       "      <th>start station latitude</th>\n",
       "      <th>start station longitude</th>\n",
       "      <th>end station id</th>\n",
       "      <th>end station name</th>\n",
       "      <th>end station latitude</th>\n",
       "      <th>end station longitude</th>\n",
       "      <th>bikeid</th>\n",
       "      <th>usertype</th>\n",
       "      <th>birth year</th>\n",
       "      <th>gender</th>\n",
       "    </tr>\n",
       "    <tr>\n",
       "      <th>starttime</th>\n",
       "      <th></th>\n",
       "      <th></th>\n",
       "      <th></th>\n",
       "      <th></th>\n",
       "      <th></th>\n",
       "      <th></th>\n",
       "      <th></th>\n",
       "      <th></th>\n",
       "      <th></th>\n",
       "      <th></th>\n",
       "      <th></th>\n",
       "      <th></th>\n",
       "      <th></th>\n",
       "      <th></th>\n",
       "      <th></th>\n",
       "    </tr>\n",
       "  </thead>\n",
       "  <tbody>\n",
       "    <tr>\n",
       "      <th>2020</th>\n",
       "      <td>3985573</td>\n",
       "      <td>3985573</td>\n",
       "      <td>3985573</td>\n",
       "      <td>3985573</td>\n",
       "      <td>3985573</td>\n",
       "      <td>3985573</td>\n",
       "      <td>3985573</td>\n",
       "      <td>3985573</td>\n",
       "      <td>3985573</td>\n",
       "      <td>3985573</td>\n",
       "      <td>3985573</td>\n",
       "      <td>3985573</td>\n",
       "      <td>3985573</td>\n",
       "      <td>3985573</td>\n",
       "      <td>3985573</td>\n",
       "    </tr>\n",
       "  </tbody>\n",
       "</table>\n",
       "</div>"
      ],
      "text/plain": [
       "           tripduration  starttime  stoptime  start station id  \\\n",
       "starttime                                                        \n",
       "2020            3985573    3985573   3985573           3985573   \n",
       "\n",
       "           start station name  start station latitude  \\\n",
       "starttime                                               \n",
       "2020                  3985573                 3985573   \n",
       "\n",
       "           start station longitude  end station id  end station name  \\\n",
       "starttime                                                              \n",
       "2020                       3985573         3985573           3985573   \n",
       "\n",
       "           end station latitude  end station longitude   bikeid  usertype  \\\n",
       "starttime                                                                   \n",
       "2020                    3985573                3985573  3985573   3985573   \n",
       "\n",
       "           birth year   gender  \n",
       "starttime                       \n",
       "2020          3985573  3985573  "
      ]
     },
     "execution_count": 12,
     "metadata": {},
     "output_type": "execute_result"
    }
   ],
   "source": [
    "df_grouped_year = df_grouped_starttime.count()\n",
    "df_grouped_year"
   ]
  },
  {
   "cell_type": "code",
   "execution_count": 13,
   "metadata": {},
   "outputs": [
    {
     "data": {
      "image/png": "[encoded data removed]",
      "text/plain": [
       "<Figure size 1080x360 with 1 Axes>"
      ]
     },
     "metadata": {
      "needs_background": "light"
     },
     "output_type": "display_data"
    }
   ],
   "source": [
    "ax = df_grouped_year['tripduration'].plot(kind=\"bar\",color=\"black\", alpha=0.5,rot=0,figsize=(15, 5))\n",
    "ax.set_xlabel(\"\");\n",
    "ax.set_ylabel(\"Trips\");\n",
    "ax.set_title(\"Total Bike Trips by Year\");"
   ]
  },
  {
   "cell_type": "code",
   "execution_count": 14,
   "metadata": {},
   "outputs": [
    {
     "ename": "IndexError",
     "evalue": "single positional indexer is out-of-bounds",
     "output_type": "error",
     "traceback": [
      "\u001b[0;31m---------------------------------------------------------------------------\u001b[0m",
      "\u001b[0;31mIndexError\u001b[0m                                Traceback (most recent call last)",
      "\u001b[0;32m<ipython-input-14-94ced279684a>\u001b[0m in \u001b[0;36m<module>\u001b[0;34m\u001b[0m\n\u001b[0;32m----> 1\u001b[0;31m \u001b[0mgrowth_2019\u001b[0m \u001b[0;34m=\u001b[0m \u001b[0mdf_grouped_year\u001b[0m\u001b[0;34m[\u001b[0m\u001b[0;34m'tripduration'\u001b[0m\u001b[0;34m]\u001b[0m\u001b[0;34m.\u001b[0m\u001b[0miloc\u001b[0m\u001b[0;34m[\u001b[0m\u001b[0;36m1\u001b[0m\u001b[0;34m]\u001b[0m \u001b[0;34m/\u001b[0m \u001b[0mdf_grouped_year\u001b[0m\u001b[0;34m[\u001b[0m\u001b[0;34m'tripduration'\u001b[0m\u001b[0;34m]\u001b[0m\u001b[0;34m.\u001b[0m\u001b[0miloc\u001b[0m\u001b[0;34m[\u001b[0m\u001b[0;36m0\u001b[0m\u001b[0;34m]\u001b[0m\u001b[0;34m\u001b[0m\u001b[0;34m\u001b[0m\u001b[0m\n\u001b[0m\u001b[1;32m      2\u001b[0m \u001b[0mgrowth_2020\u001b[0m \u001b[0;34m=\u001b[0m \u001b[0mdf_grouped_year\u001b[0m\u001b[0;34m[\u001b[0m\u001b[0;34m'tripduration'\u001b[0m\u001b[0;34m]\u001b[0m\u001b[0;34m.\u001b[0m\u001b[0miloc\u001b[0m\u001b[0;34m[\u001b[0m\u001b[0;36m2\u001b[0m\u001b[0;34m]\u001b[0m \u001b[0;34m/\u001b[0m \u001b[0mdf_grouped_year\u001b[0m\u001b[0;34m[\u001b[0m\u001b[0;34m'tripduration'\u001b[0m\u001b[0;34m]\u001b[0m\u001b[0;34m.\u001b[0m\u001b[0miloc\u001b[0m\u001b[0;34m[\u001b[0m\u001b[0;36m1\u001b[0m\u001b[0;34m]\u001b[0m\u001b[0;34m\u001b[0m\u001b[0;34m\u001b[0m\u001b[0m\n",
      "\u001b[0;32m~/opt/anaconda3/lib/python3.7/site-packages/pandas/core/indexing.py\u001b[0m in \u001b[0;36m__getitem__\u001b[0;34m(self, key)\u001b[0m\n\u001b[1;32m    877\u001b[0m \u001b[0;34m\u001b[0m\u001b[0m\n\u001b[1;32m    878\u001b[0m             \u001b[0mmaybe_callable\u001b[0m \u001b[0;34m=\u001b[0m \u001b[0mcom\u001b[0m\u001b[0;34m.\u001b[0m\u001b[0mapply_if_callable\u001b[0m\u001b[0;34m(\u001b[0m\u001b[0mkey\u001b[0m\u001b[0;34m,\u001b[0m \u001b[0mself\u001b[0m\u001b[0;34m.\u001b[0m\u001b[0mobj\u001b[0m\u001b[0;34m)\u001b[0m\u001b[0;34m\u001b[0m\u001b[0;34m\u001b[0m\u001b[0m\n\u001b[0;32m--> 879\u001b[0;31m             \u001b[0;32mreturn\u001b[0m \u001b[0mself\u001b[0m\u001b[0;34m.\u001b[0m\u001b[0m_getitem_axis\u001b[0m\u001b[0;34m(\u001b[0m\u001b[0mmaybe_callable\u001b[0m\u001b[0;34m,\u001b[0m \u001b[0maxis\u001b[0m\u001b[0;34m=\u001b[0m\u001b[0maxis\u001b[0m\u001b[0;34m)\u001b[0m\u001b[0;34m\u001b[0m\u001b[0;34m\u001b[0m\u001b[0m\n\u001b[0m\u001b[1;32m    880\u001b[0m \u001b[0;34m\u001b[0m\u001b[0m\n\u001b[1;32m    881\u001b[0m     \u001b[0;32mdef\u001b[0m \u001b[0m_is_scalar_access\u001b[0m\u001b[0;34m(\u001b[0m\u001b[0mself\u001b[0m\u001b[0;34m,\u001b[0m \u001b[0mkey\u001b[0m\u001b[0;34m:\u001b[0m \u001b[0mTuple\u001b[0m\u001b[0;34m)\u001b[0m\u001b[0;34m:\u001b[0m\u001b[0;34m\u001b[0m\u001b[0;34m\u001b[0m\u001b[0m\n",
      "\u001b[0;32m~/opt/anaconda3/lib/python3.7/site-packages/pandas/core/indexing.py\u001b[0m in \u001b[0;36m_getitem_axis\u001b[0;34m(self, key, axis)\u001b[0m\n\u001b[1;32m   1494\u001b[0m \u001b[0;34m\u001b[0m\u001b[0m\n\u001b[1;32m   1495\u001b[0m             \u001b[0;31m# validate the location\u001b[0m\u001b[0;34m\u001b[0m\u001b[0;34m\u001b[0m\u001b[0;34m\u001b[0m\u001b[0m\n\u001b[0;32m-> 1496\u001b[0;31m             \u001b[0mself\u001b[0m\u001b[0;34m.\u001b[0m\u001b[0m_validate_integer\u001b[0m\u001b[0;34m(\u001b[0m\u001b[0mkey\u001b[0m\u001b[0;34m,\u001b[0m \u001b[0maxis\u001b[0m\u001b[0;34m)\u001b[0m\u001b[0;34m\u001b[0m\u001b[0;34m\u001b[0m\u001b[0m\n\u001b[0m\u001b[1;32m   1497\u001b[0m \u001b[0;34m\u001b[0m\u001b[0m\n\u001b[1;32m   1498\u001b[0m             \u001b[0;32mreturn\u001b[0m \u001b[0mself\u001b[0m\u001b[0;34m.\u001b[0m\u001b[0mobj\u001b[0m\u001b[0;34m.\u001b[0m\u001b[0m_ixs\u001b[0m\u001b[0;34m(\u001b[0m\u001b[0mkey\u001b[0m\u001b[0;34m,\u001b[0m \u001b[0maxis\u001b[0m\u001b[0;34m=\u001b[0m\u001b[0maxis\u001b[0m\u001b[0;34m)\u001b[0m\u001b[0;34m\u001b[0m\u001b[0;34m\u001b[0m\u001b[0m\n",
      "\u001b[0;32m~/opt/anaconda3/lib/python3.7/site-packages/pandas/core/indexing.py\u001b[0m in \u001b[0;36m_validate_integer\u001b[0;34m(self, key, axis)\u001b[0m\n\u001b[1;32m   1435\u001b[0m         \u001b[0mlen_axis\u001b[0m \u001b[0;34m=\u001b[0m \u001b[0mlen\u001b[0m\u001b[0;34m(\u001b[0m\u001b[0mself\u001b[0m\u001b[0;34m.\u001b[0m\u001b[0mobj\u001b[0m\u001b[0;34m.\u001b[0m\u001b[0m_get_axis\u001b[0m\u001b[0;34m(\u001b[0m\u001b[0maxis\u001b[0m\u001b[0;34m)\u001b[0m\u001b[0;34m)\u001b[0m\u001b[0;34m\u001b[0m\u001b[0;34m\u001b[0m\u001b[0m\n\u001b[1;32m   1436\u001b[0m         \u001b[0;32mif\u001b[0m \u001b[0mkey\u001b[0m \u001b[0;34m>=\u001b[0m \u001b[0mlen_axis\u001b[0m \u001b[0;32mor\u001b[0m \u001b[0mkey\u001b[0m \u001b[0;34m<\u001b[0m \u001b[0;34m-\u001b[0m\u001b[0mlen_axis\u001b[0m\u001b[0;34m:\u001b[0m\u001b[0;34m\u001b[0m\u001b[0;34m\u001b[0m\u001b[0m\n\u001b[0;32m-> 1437\u001b[0;31m             \u001b[0;32mraise\u001b[0m \u001b[0mIndexError\u001b[0m\u001b[0;34m(\u001b[0m\u001b[0;34m\"single positional indexer is out-of-bounds\"\u001b[0m\u001b[0;34m)\u001b[0m\u001b[0;34m\u001b[0m\u001b[0;34m\u001b[0m\u001b[0m\n\u001b[0m\u001b[1;32m   1438\u001b[0m \u001b[0;34m\u001b[0m\u001b[0m\n\u001b[1;32m   1439\u001b[0m     \u001b[0;31m# -------------------------------------------------------------------\u001b[0m\u001b[0;34m\u001b[0m\u001b[0;34m\u001b[0m\u001b[0;34m\u001b[0m\u001b[0m\n",
      "\u001b[0;31mIndexError\u001b[0m: single positional indexer is out-of-bounds"
     ]
    }
   ],
   "source": [
    "growth_2019 = df_grouped_year['tripduration'].iloc[1] / df_grouped_year['tripduration'].iloc[0]\n",
    "growth_2020 = df_grouped_year['tripduration'].iloc[2] / df_grouped_year['tripduration'].iloc[1]"
   ]
  },
  {
   "cell_type": "code",
   "execution_count": null,
   "metadata": {},
   "outputs": [],
   "source": [
    "print(f\"Growth 2019: {round(growth_2019*100)}%\")\n",
    "print(f\"Growth 2020*: {round(growth_2020*100)}%\")\n",
    "print(\"\\n* for 2020 still missing December\")"
   ]
  },
  {
   "cell_type": "markdown",
   "metadata": {},
   "source": [
    "<hr style=\"border-top: 3px solid gray;\">"
   ]
  },
  {
   "cell_type": "markdown",
   "metadata": {},
   "source": [
    "* How has the proportion of short-term customers and annual subscribers changed?"
   ]
  },
  {
   "cell_type": "code",
   "execution_count": 15,
   "metadata": {},
   "outputs": [
    {
     "data": {
      "text/html": [
       "<div>\n",
       "<style scoped>\n",
       "    .dataframe tbody tr th:only-of-type {\n",
       "        vertical-align: middle;\n",
       "    }\n",
       "\n",
       "    .dataframe tbody tr th {\n",
       "        vertical-align: top;\n",
       "    }\n",
       "\n",
       "    .dataframe thead th {\n",
       "        text-align: right;\n",
       "    }\n",
       "</style>\n",
       "<table border=\"1\" class=\"dataframe\">\n",
       "  <thead>\n",
       "    <tr style=\"text-align: right;\">\n",
       "      <th></th>\n",
       "      <th>tripduration</th>\n",
       "      <th>starttime</th>\n",
       "      <th>stoptime</th>\n",
       "      <th>start station id</th>\n",
       "      <th>start station name</th>\n",
       "      <th>start station latitude</th>\n",
       "      <th>start station longitude</th>\n",
       "      <th>end station id</th>\n",
       "      <th>end station name</th>\n",
       "      <th>end station latitude</th>\n",
       "      <th>end station longitude</th>\n",
       "      <th>bikeid</th>\n",
       "      <th>usertype</th>\n",
       "      <th>birth year</th>\n",
       "      <th>gender</th>\n",
       "    </tr>\n",
       "    <tr>\n",
       "      <th>starttime</th>\n",
       "      <th></th>\n",
       "      <th></th>\n",
       "      <th></th>\n",
       "      <th></th>\n",
       "      <th></th>\n",
       "      <th></th>\n",
       "      <th></th>\n",
       "      <th></th>\n",
       "      <th></th>\n",
       "      <th></th>\n",
       "      <th></th>\n",
       "      <th></th>\n",
       "      <th></th>\n",
       "      <th></th>\n",
       "      <th></th>\n",
       "    </tr>\n",
       "  </thead>\n",
       "  <tbody>\n",
       "    <tr>\n",
       "      <th>2020</th>\n",
       "      <td>3064523</td>\n",
       "      <td>3064523</td>\n",
       "      <td>3064523</td>\n",
       "      <td>3064523</td>\n",
       "      <td>3064523</td>\n",
       "      <td>3064523</td>\n",
       "      <td>3064523</td>\n",
       "      <td>3064523</td>\n",
       "      <td>3064523</td>\n",
       "      <td>3064523</td>\n",
       "      <td>3064523</td>\n",
       "      <td>3064523</td>\n",
       "      <td>3064523</td>\n",
       "      <td>3064523</td>\n",
       "      <td>3064523</td>\n",
       "    </tr>\n",
       "  </tbody>\n",
       "</table>\n",
       "</div>"
      ],
      "text/plain": [
       "           tripduration  starttime  stoptime  start station id  \\\n",
       "starttime                                                        \n",
       "2020            3064523    3064523   3064523           3064523   \n",
       "\n",
       "           start station name  start station latitude  \\\n",
       "starttime                                               \n",
       "2020                  3064523                 3064523   \n",
       "\n",
       "           start station longitude  end station id  end station name  \\\n",
       "starttime                                                              \n",
       "2020                       3064523         3064523           3064523   \n",
       "\n",
       "           end station latitude  end station longitude   bikeid  usertype  \\\n",
       "starttime                                                                   \n",
       "2020                    3064523                3064523  3064523   3064523   \n",
       "\n",
       "           birth year   gender  \n",
       "starttime                       \n",
       "2020          3064523  3064523  "
      ]
     },
     "execution_count": 15,
     "metadata": {},
     "output_type": "execute_result"
    }
   ],
   "source": [
    "df_Subscriber = df_merged.loc[df_merged['usertype'] == 'Subscriber']\n",
    "df_Subscriber_grouped_year = df_Subscriber.groupby(by=[ df_Subscriber.index.year]).count()\n",
    "df_Subscriber_grouped_year"
   ]
  },
  {
   "cell_type": "code",
   "execution_count": 16,
   "metadata": {},
   "outputs": [
    {
     "data": {
      "text/plain": [
       "<AxesSubplot:xlabel='starttime'>"
      ]
     },
     "execution_count": 16,
     "metadata": {},
     "output_type": "execute_result"
    },
    {
     "data": {
      "image/png": "[encoded data removed]",
      "text/plain": [
       "<Figure size 1080x360 with 1 Axes>"
      ]
     },
     "metadata": {
      "needs_background": "light"
     },
     "output_type": "display_data"
    }
   ],
   "source": [
    "subscriber_to_total = 100*df_Subscriber_grouped_year['tripduration']/df_grouped_year['tripduration']\n",
    "subscriber_to_total.plot(kind='bar',figsize=(15, 5))"
   ]
  },
  {
   "cell_type": "code",
   "execution_count": 17,
   "metadata": {},
   "outputs": [
    {
     "data": {
      "image/png": "[encoded data removed]",
      "text/plain": [
       "<Figure size 1080x360 with 1 Axes>"
      ]
     },
     "metadata": {
      "needs_background": "light"
     },
     "output_type": "display_data"
    }
   ],
   "source": [
    "customer_to_total = 100*(1-df_Subscriber_grouped_year['tripduration']/df_grouped_year['tripduration'])\n",
    "ax = customer_to_total.plot(kind='bar',color=\"r\", alpha=0.5,rot=0,figsize=(15, 5))\n",
    "ax.set_xlabel(\"\");\n",
    "ax.set_ylabel(\"%\");\n",
    "ax.set_title(\"Non-Subscriber's Growth by Year\");"
   ]
  },
  {
   "cell_type": "markdown",
   "metadata": {},
   "source": [
    "<hr style=\"border-top: 3px solid gray;\">"
   ]
  },
  {
   "cell_type": "markdown",
   "metadata": {},
   "source": [
    "* What are the peak hours in which bikes are used during summer months?"
   ]
  },
  {
   "cell_type": "code",
   "execution_count": null,
   "metadata": {},
   "outputs": [],
   "source": [
    "# summer (June, July, August)\n",
    "df_resampled_year = df_merged['starttime'].resample('Y')\n",
    "df_resampled_year\n"
   ]
  },
  {
   "cell_type": "code",
   "execution_count": null,
   "metadata": {},
   "outputs": [],
   "source": [
    "df_resampled_year.count()"
   ]
  },
  {
   "cell_type": "code",
   "execution_count": null,
   "metadata": {},
   "outputs": [],
   "source": [
    "df_resampled_by_hour = df_merged['starttime'].resample('H').count()"
   ]
  },
  {
   "cell_type": "code",
   "execution_count": null,
   "metadata": {},
   "outputs": [],
   "source": [
    "df_resampled_by_hour"
   ]
  },
  {
   "cell_type": "code",
   "execution_count": null,
   "metadata": {},
   "outputs": [],
   "source": [
    "df_resampled_by_hour_summer_2018 = df_resampled_by_hour.loc[(df_resampled_by_hour.index >= \"2018-06-01\")]"
   ]
  },
  {
   "cell_type": "code",
   "execution_count": null,
   "metadata": {},
   "outputs": [],
   "source": [
    "df_resampled_by_hour_summer_2018 = df_resampled_by_hour_summer_2018.loc[(df_resampled_by_hour_summer_2018.index < \"2018-09-01\")]"
   ]
  },
  {
   "cell_type": "code",
   "execution_count": null,
   "metadata": {},
   "outputs": [],
   "source": [
    "df_summer_2018 = pd.DataFrame(df_resampled_by_hour_summer_2018.resample('H').sum())"
   ]
  },
  {
   "cell_type": "code",
   "execution_count": null,
   "metadata": {},
   "outputs": [],
   "source": [
    "df_summer_2018.plot()"
   ]
  },
  {
   "cell_type": "code",
   "execution_count": null,
   "metadata": {},
   "outputs": [],
   "source": [
    "ax = df_summer_2018.groupby(by=[ df_summer_2018.index.hour]).sum().plot(kind=\"bar\", color=\"g\", alpha=0.5,rot=0,figsize=(15, 5))\n",
    "ax.set_xlabel(\"Hour\");\n",
    "ax.set_ylabel(\"Trips\");\n",
    "ax.set_title(\"Trips by Hour (Summer 2018)\");"
   ]
  },
  {
   "cell_type": "code",
   "execution_count": null,
   "metadata": {},
   "outputs": [],
   "source": [
    "df_resampled_by_hour_summer_2019 = df_resampled_by_hour.loc[(df_resampled_by_hour.index >= \"2019-06-01\")]\n",
    "df_resampled_by_hour_summer_2019 = df_resampled_by_hour_summer_2019.loc[(df_resampled_by_hour_summer_2019.index < \"2019-09-01\")]\n",
    "df_summer_2019 = pd.DataFrame(df_resampled_by_hour_summer_2019.resample('H').sum())\n",
    "ax = df_summer_2019.groupby(by=[ df_summer_2019.index.hour]).sum().plot(kind=\"bar\", color=\"b\", alpha=0.5,rot=0,figsize=(15, 5))\n",
    "ax.set_xlabel(\"Hour\");\n",
    "ax.set_ylabel(\"Trips\");\n",
    "ax.set_title(\"Trips by Hour (Summer 2019)\");"
   ]
  },
  {
   "cell_type": "code",
   "execution_count": null,
   "metadata": {},
   "outputs": [],
   "source": [
    "df_resampled_by_hour_summer_2020 = df_resampled_by_hour.loc[(df_resampled_by_hour.index >= \"2020-06-01\")]\n",
    "df_resampled_by_hour_summer_2020 = df_resampled_by_hour_summer_2020.loc[(df_resampled_by_hour_summer_2020.index < \"2020-09-01\")]\n",
    "df_summer_2020 = pd.DataFrame(df_resampled_by_hour_summer_2020.resample('H').sum())\n",
    "ax = df_summer_2020.groupby(by=[ df_summer_2020.index.hour]).sum().plot(kind=\"bar\", color=\"r\", alpha=0.5,rot=0,figsize=(15, 5))\n",
    "ax.set_xlabel(\"Hour\");\n",
    "ax.set_ylabel(\"Trips\");\n",
    "ax.set_title(\"Trips by Hour (Summer 2020)\");"
   ]
  },
  {
   "cell_type": "markdown",
   "metadata": {},
   "source": [
    "<hr style=\"border-top: 3px solid gray;\">"
   ]
  },
  {
   "cell_type": "markdown",
   "metadata": {},
   "source": [
    "* What are the peak hours in which bikes are used during winter months?"
   ]
  },
  {
   "cell_type": "code",
   "execution_count": null,
   "metadata": {},
   "outputs": [],
   "source": [
    "df_resampled_by_hour_winter_2018 = df_resampled_by_hour.loc[(df_resampled_by_hour.index >= \"2018-01-01\")]\n",
    "df_resampled_by_hour_winter_2018 = df_resampled_by_hour_winter_2018.loc[(df_resampled_by_hour_winter_2018.index < \"2018-03-01\")]\n",
    "df_winter_2018 = pd.DataFrame(df_resampled_by_hour_winter_2018.resample('H').sum())\n",
    "ax = df_winter_2018.groupby(by=[ df_winter_2018.index.hour]).sum().plot(kind=\"bar\", color=\"g\", alpha=0.5,rot=0,figsize=(15, 5))\n",
    "ax.set_xlabel(\"Hour\");\n",
    "ax.set_ylabel(\"Trips\");\n",
    "ax.set_title(\"Trips by Hour (Winter 2018)\");"
   ]
  },
  {
   "cell_type": "code",
   "execution_count": null,
   "metadata": {},
   "outputs": [],
   "source": [
    "df_resampled_by_hour_winter_2019 = df_resampled_by_hour.loc[(df_resampled_by_hour.index >= \"2019-01-01\")]\n",
    "df_resampled_by_hour_winter_2019 = df_resampled_by_hour_winter_2019.loc[(df_resampled_by_hour_winter_2019.index < \"2019-03-01\")]\n",
    "df_winter_2019 = pd.DataFrame(df_resampled_by_hour_winter_2019.resample('H').sum())\n",
    "ax = df_winter_2019.groupby(by=[ df_winter_2019.index.hour]).sum().plot(kind=\"bar\", color=\"b\", alpha=0.5,rot=0,figsize=(15, 5))\n",
    "ax.set_xlabel(\"Hour\");\n",
    "ax.set_ylabel(\"Trips\");\n",
    "ax.set_title(\"Trips by Hour (Winter 2019)\");"
   ]
  },
  {
   "cell_type": "code",
   "execution_count": null,
   "metadata": {},
   "outputs": [],
   "source": [
    "df_resampled_by_hour_winter_2020 = df_resampled_by_hour.loc[(df_resampled_by_hour.index >= \"2020-01-01\")]\n",
    "df_resampled_by_hour_winter_2020 = df_resampled_by_hour_winter_2020.loc[(df_resampled_by_hour_winter_2020.index < \"2020-03-01\")]\n",
    "df_winter_2020 = pd.DataFrame(df_resampled_by_hour_winter_2020.resample('H').sum())\n",
    "ax = df_winter_2020.groupby(by=[ df_winter_2020.index.hour]).sum().plot(kind=\"bar\", color=\"r\", alpha=0.5,rot=0,figsize=(15, 5))\n",
    "ax.set_xlabel(\"Hour\");\n",
    "ax.set_ylabel(\"Trips\");\n",
    "ax.set_title(\"Trips by Hour (Winter 2020)\");"
   ]
  },
  {
   "cell_type": "markdown",
   "metadata": {},
   "source": [
    "<hr style=\"border-top: 3px solid gray;\">"
   ]
  },
  {
   "cell_type": "markdown",
   "metadata": {},
   "source": [
    "* Today, what are the top 10 stations in the city for starting a journey? (Based on data, why do you hypothesize these are the top locations?)"
   ]
  },
  {
   "cell_type": "code",
   "execution_count": 18,
   "metadata": {},
   "outputs": [
    {
     "data": {
      "image/png": "[encoded data removed]",
      "text/plain": [
       "<Figure size 1080x360 with 1 Axes>"
      ]
     },
     "metadata": {
      "needs_background": "light"
     },
     "output_type": "display_data"
    }
   ],
   "source": [
    "top10_start_stations = df_merged.loc[(df_merged.index >= \"2020-11-01\")].groupby(\"start station name\").sum().sort_values(\"tripduration\",ascending=False).head(10)\n",
    "ax = top10_start_stations['tripduration'].plot(kind=\"bar\", color=\"fuchsia\", alpha=1,figsize=(15, 5))\n",
    "ax.set_xlabel(\"\");\n",
    "ax.set_ylabel(\"Trips\");\n",
    "ax.set_title(\"Top 10 Stations For Starting A Journey\");"
   ]
  },
  {
   "cell_type": "markdown",
   "metadata": {},
   "source": [
    "<hr style=\"border-top: 3px solid gray;\">"
   ]
  },
  {
   "cell_type": "markdown",
   "metadata": {},
   "source": [
    "* Today, what are the top 10 stations in the city for ending a journey? (Based on data, why?)"
   ]
  },
  {
   "cell_type": "code",
   "execution_count": 19,
   "metadata": {},
   "outputs": [
    {
     "data": {
      "image/png": "[encoded data removed]",
      "text/plain": [
       "<Figure size 1080x360 with 1 Axes>"
      ]
     },
     "metadata": {
      "needs_background": "light"
     },
     "output_type": "display_data"
    }
   ],
   "source": [
    "top10_ending_stations = df_merged.loc[(df_merged.index >= \"2020-11-01\")].groupby(\"end station name\").sum().sort_values(\"tripduration\",ascending=False).head(10)\n",
    "ax = top10_ending_stations['tripduration'].plot(kind=\"bar\", color=\"tan\", alpha=1,figsize=(15, 5))\n",
    "ax.set_xlabel(\"\");\n",
    "ax.set_ylabel(\"Trips\");\n",
    "ax.set_title(\"Top 10 Stations For Ending A Journey\");"
   ]
  },
  {
   "cell_type": "markdown",
   "metadata": {},
   "source": [
    "<hr style=\"border-top: 3px solid gray;\">"
   ]
  },
  {
   "cell_type": "markdown",
   "metadata": {},
   "source": [
    "* Today, what are the bottom 10 stations in the city for starting a journey? (Based on data, why?)"
   ]
  },
  {
   "cell_type": "code",
   "execution_count": 20,
   "metadata": {},
   "outputs": [
    {
     "data": {
      "image/png": "[encoded data removed]",
      "text/plain": [
       "<Figure size 1080x360 with 1 Axes>"
      ]
     },
     "metadata": {
      "needs_background": "light"
     },
     "output_type": "display_data"
    }
   ],
   "source": [
    "bottom10_start_stations = df_merged.loc[(df_merged.index >= \"2020-11-01\")].groupby(\"start station name\").sum().sort_values(\"tripduration\",ascending=True).head(10).sort_values(\"tripduration\",ascending=False)\n",
    "ax = bottom10_start_stations['tripduration'].plot(kind=\"bar\", color=\"sienna\", alpha=1,figsize=(15, 5))\n",
    "ax.set_xlabel(\"\");\n",
    "ax.set_ylabel(\"Trips\");\n",
    "ax.set_title(\"Bottom 10 Stations For Starting A Journey\");"
   ]
  },
  {
   "cell_type": "markdown",
   "metadata": {},
   "source": [
    "<hr style=\"border-top: 3px solid gray;\">"
   ]
  },
  {
   "cell_type": "markdown",
   "metadata": {},
   "source": [
    "* Today, what are the bottom 10 stations in the city for ending a journey (Based on data, why?)"
   ]
  },
  {
   "cell_type": "code",
   "execution_count": 21,
   "metadata": {},
   "outputs": [
    {
     "data": {
      "image/png": "[encoded data removed]",
      "text/plain": [
       "<Figure size 1080x360 with 1 Axes>"
      ]
     },
     "metadata": {
      "needs_background": "light"
     },
     "output_type": "display_data"
    }
   ],
   "source": [
    "bottom10_ending_stations = df_merged.loc[(df_merged.index >= \"2020-11-01\")].groupby(\"end station name\").sum().sort_values(\"tripduration\",ascending=True).head(10).sort_values(\"tripduration\",ascending=False)\n",
    "ax = bottom10_ending_stations['tripduration'].plot(kind=\"bar\", color=\"teal\", alpha=1,figsize=(15, 5))\n",
    "ax.set_xlabel(\"\");\n",
    "ax.set_ylabel(\"Trips\");\n",
    "ax.set_title(\"Bottom 10 Stations For Ending A Journey\");"
   ]
  },
  {
   "cell_type": "markdown",
   "metadata": {},
   "source": [
    "<hr style=\"border-top: 3px solid gray;\">"
   ]
  },
  {
   "cell_type": "markdown",
   "metadata": {},
   "source": [
    "* Today, what is the gender breakdown of active participants (Male v. Female)?"
   ]
  },
  {
   "cell_type": "code",
   "execution_count": 22,
   "metadata": {},
   "outputs": [
    {
     "data": {
      "image/png": "[encoded data removed]",
      "text/plain": [
       "<Figure size 1080x360 with 1 Axes>"
      ]
     },
     "metadata": {
      "needs_background": "light"
     },
     "output_type": "display_data"
    }
   ],
   "source": [
    "gender_breakdown = df_merged.loc[(df_merged.index >= \"2020-11-01\") & (df_merged.gender != 0)].groupby(\"gender\")\n",
    "ax = gender_breakdown['tripduration'].count().plot(kind=\"bar\", rot=0,color=\"violet\", alpha=1,figsize=(15, 5))\n",
    "ax.set_xlabel(\"1=male; 2=female\");\n",
    "ax.set_ylabel(\"Trips\");\n",
    "ax.set_title(\"Gender Breakdown\");"
   ]
  },
  {
   "cell_type": "markdown",
   "metadata": {},
   "source": [
    "<hr style=\"border-top: 3px solid gray;\">"
   ]
  },
  {
   "cell_type": "markdown",
   "metadata": {},
   "source": [
    "* How effective has gender outreach been in increasing female ridership over the timespan?"
   ]
  },
  {
   "cell_type": "code",
   "execution_count": 23,
   "metadata": {},
   "outputs": [
    {
     "data": {
      "image/png": "[encoded data removed]",
      "text/plain": [
       "<Figure size 1080x360 with 1 Axes>"
      ]
     },
     "metadata": {
      "needs_background": "light"
     },
     "output_type": "display_data"
    }
   ],
   "source": [
    "female_ridership_by_month = df_merged['tripduration'].loc[(df_merged.gender == 2)].resample(\"M\").count() / df_merged['tripduration'].resample(\"M\").count()\n",
    "ax = female_ridership_by_month.plot(color=\"violet\",marker='*', alpha=1,figsize=(15, 5))\n",
    "ax.set_xlabel(\"\");\n",
    "ax.set_ylabel(\"Trips\");\n",
    "ax.set_title(\"Female Ridership By Month\");"
   ]
  },
  {
   "cell_type": "markdown",
   "metadata": {},
   "source": [
    "<hr style=\"border-top: 3px solid gray;\">"
   ]
  },
  {
   "cell_type": "markdown",
   "metadata": {},
   "source": [
    "* How does the average trip duration change by age?"
   ]
  },
  {
   "cell_type": "code",
   "execution_count": 24,
   "metadata": {},
   "outputs": [
    {
     "data": {
      "image/png": "[encoded data removed]",
      "text/plain": [
       "<Figure size 1080x360 with 1 Axes>"
      ]
     },
     "metadata": {
      "needs_background": "light"
     },
     "output_type": "display_data"
    }
   ],
   "source": [
    "ax = df_merged['birth year'].hist(bins=50,color=\"b\", alpha=.3,figsize=(15, 5))\n",
    "ax.set_xlabel(\"Birth Year\");\n",
    "ax.set_ylabel(\"Trip Frequency\");\n",
    "ax.set_title(\"Birth Year Distribution By Trip\");"
   ]
  },
  {
   "cell_type": "code",
   "execution_count": 25,
   "metadata": {},
   "outputs": [],
   "source": [
    "df_grouped_age = df_merged.groupby(\"birth year\")"
   ]
  },
  {
   "cell_type": "code",
   "execution_count": 26,
   "metadata": {},
   "outputs": [
    {
     "data": {
      "image/png": "[encoded data removed]",
      "text/plain": [
       "<Figure size 1080x360 with 1 Axes>"
      ]
     },
     "metadata": {
      "needs_background": "light"
     },
     "output_type": "display_data"
    }
   ],
   "source": [
    "ax = df_grouped_age['tripduration'].mean().plot(kind=\"bar\",color=\"k\", alpha=1,figsize=(15, 5))\n",
    "ax.set_xlabel(\"Year\");\n",
    "ax.set_ylabel(\"Average Trip Duration (s)\");\n",
    "ax.set_title(\"Average Trip Duration By Birth Date\");"
   ]
  },
  {
   "cell_type": "code",
   "execution_count": 27,
   "metadata": {},
   "outputs": [],
   "source": [
    "df_grouped_age_usertype = df_merged.groupby([\"birth year\",\"usertype\"]).count()"
   ]
  },
  {
   "cell_type": "code",
   "execution_count": 28,
   "metadata": {},
   "outputs": [
    {
     "data": {
      "text/html": [
       "<div>\n",
       "<style scoped>\n",
       "    .dataframe tbody tr th:only-of-type {\n",
       "        vertical-align: middle;\n",
       "    }\n",
       "\n",
       "    .dataframe tbody tr th {\n",
       "        vertical-align: top;\n",
       "    }\n",
       "\n",
       "    .dataframe thead th {\n",
       "        text-align: right;\n",
       "    }\n",
       "</style>\n",
       "<table border=\"1\" class=\"dataframe\">\n",
       "  <thead>\n",
       "    <tr style=\"text-align: right;\">\n",
       "      <th></th>\n",
       "      <th></th>\n",
       "      <th>tripduration</th>\n",
       "      <th>starttime</th>\n",
       "      <th>stoptime</th>\n",
       "      <th>start station id</th>\n",
       "      <th>start station name</th>\n",
       "      <th>start station latitude</th>\n",
       "      <th>start station longitude</th>\n",
       "      <th>end station id</th>\n",
       "      <th>end station name</th>\n",
       "      <th>end station latitude</th>\n",
       "      <th>end station longitude</th>\n",
       "      <th>bikeid</th>\n",
       "      <th>gender</th>\n",
       "    </tr>\n",
       "    <tr>\n",
       "      <th>birth year</th>\n",
       "      <th>usertype</th>\n",
       "      <th></th>\n",
       "      <th></th>\n",
       "      <th></th>\n",
       "      <th></th>\n",
       "      <th></th>\n",
       "      <th></th>\n",
       "      <th></th>\n",
       "      <th></th>\n",
       "      <th></th>\n",
       "      <th></th>\n",
       "      <th></th>\n",
       "      <th></th>\n",
       "      <th></th>\n",
       "    </tr>\n",
       "  </thead>\n",
       "  <tbody>\n",
       "    <tr>\n",
       "      <th>1873</th>\n",
       "      <th>Subscriber</th>\n",
       "      <td>2</td>\n",
       "      <td>2</td>\n",
       "      <td>2</td>\n",
       "      <td>2</td>\n",
       "      <td>2</td>\n",
       "      <td>2</td>\n",
       "      <td>2</td>\n",
       "      <td>2</td>\n",
       "      <td>2</td>\n",
       "      <td>2</td>\n",
       "      <td>2</td>\n",
       "      <td>2</td>\n",
       "      <td>2</td>\n",
       "    </tr>\n",
       "    <tr>\n",
       "      <th>1884</th>\n",
       "      <th>Subscriber</th>\n",
       "      <td>3</td>\n",
       "      <td>3</td>\n",
       "      <td>3</td>\n",
       "      <td>3</td>\n",
       "      <td>3</td>\n",
       "      <td>3</td>\n",
       "      <td>3</td>\n",
       "      <td>3</td>\n",
       "      <td>3</td>\n",
       "      <td>3</td>\n",
       "      <td>3</td>\n",
       "      <td>3</td>\n",
       "      <td>3</td>\n",
       "    </tr>\n",
       "    <tr>\n",
       "      <th>1885</th>\n",
       "      <th>Subscriber</th>\n",
       "      <td>52</td>\n",
       "      <td>52</td>\n",
       "      <td>52</td>\n",
       "      <td>52</td>\n",
       "      <td>52</td>\n",
       "      <td>52</td>\n",
       "      <td>52</td>\n",
       "      <td>52</td>\n",
       "      <td>52</td>\n",
       "      <td>52</td>\n",
       "      <td>52</td>\n",
       "      <td>52</td>\n",
       "      <td>52</td>\n",
       "    </tr>\n",
       "    <tr>\n",
       "      <th>1886</th>\n",
       "      <th>Subscriber</th>\n",
       "      <td>24</td>\n",
       "      <td>24</td>\n",
       "      <td>24</td>\n",
       "      <td>24</td>\n",
       "      <td>24</td>\n",
       "      <td>24</td>\n",
       "      <td>24</td>\n",
       "      <td>24</td>\n",
       "      <td>24</td>\n",
       "      <td>24</td>\n",
       "      <td>24</td>\n",
       "      <td>24</td>\n",
       "      <td>24</td>\n",
       "    </tr>\n",
       "    <tr>\n",
       "      <th>1888</th>\n",
       "      <th>Subscriber</th>\n",
       "      <td>131</td>\n",
       "      <td>131</td>\n",
       "      <td>131</td>\n",
       "      <td>131</td>\n",
       "      <td>131</td>\n",
       "      <td>131</td>\n",
       "      <td>131</td>\n",
       "      <td>131</td>\n",
       "      <td>131</td>\n",
       "      <td>131</td>\n",
       "      <td>131</td>\n",
       "      <td>131</td>\n",
       "      <td>131</td>\n",
       "    </tr>\n",
       "    <tr>\n",
       "      <th>...</th>\n",
       "      <th>...</th>\n",
       "      <td>...</td>\n",
       "      <td>...</td>\n",
       "      <td>...</td>\n",
       "      <td>...</td>\n",
       "      <td>...</td>\n",
       "      <td>...</td>\n",
       "      <td>...</td>\n",
       "      <td>...</td>\n",
       "      <td>...</td>\n",
       "      <td>...</td>\n",
       "      <td>...</td>\n",
       "      <td>...</td>\n",
       "      <td>...</td>\n",
       "    </tr>\n",
       "    <tr>\n",
       "      <th>2002</th>\n",
       "      <th>Subscriber</th>\n",
       "      <td>13150</td>\n",
       "      <td>13150</td>\n",
       "      <td>13150</td>\n",
       "      <td>13150</td>\n",
       "      <td>13150</td>\n",
       "      <td>13150</td>\n",
       "      <td>13150</td>\n",
       "      <td>13150</td>\n",
       "      <td>13150</td>\n",
       "      <td>13150</td>\n",
       "      <td>13150</td>\n",
       "      <td>13150</td>\n",
       "      <td>13150</td>\n",
       "    </tr>\n",
       "    <tr>\n",
       "      <th rowspan=\"2\" valign=\"top\">2003</th>\n",
       "      <th>Customer</th>\n",
       "      <td>3207</td>\n",
       "      <td>3207</td>\n",
       "      <td>3207</td>\n",
       "      <td>3207</td>\n",
       "      <td>3207</td>\n",
       "      <td>3207</td>\n",
       "      <td>3207</td>\n",
       "      <td>3207</td>\n",
       "      <td>3207</td>\n",
       "      <td>3207</td>\n",
       "      <td>3207</td>\n",
       "      <td>3207</td>\n",
       "      <td>3207</td>\n",
       "    </tr>\n",
       "    <tr>\n",
       "      <th>Subscriber</th>\n",
       "      <td>5778</td>\n",
       "      <td>5778</td>\n",
       "      <td>5778</td>\n",
       "      <td>5778</td>\n",
       "      <td>5778</td>\n",
       "      <td>5778</td>\n",
       "      <td>5778</td>\n",
       "      <td>5778</td>\n",
       "      <td>5778</td>\n",
       "      <td>5778</td>\n",
       "      <td>5778</td>\n",
       "      <td>5778</td>\n",
       "      <td>5778</td>\n",
       "    </tr>\n",
       "    <tr>\n",
       "      <th rowspan=\"2\" valign=\"top\">2004</th>\n",
       "      <th>Customer</th>\n",
       "      <td>1408</td>\n",
       "      <td>1408</td>\n",
       "      <td>1408</td>\n",
       "      <td>1408</td>\n",
       "      <td>1408</td>\n",
       "      <td>1408</td>\n",
       "      <td>1408</td>\n",
       "      <td>1408</td>\n",
       "      <td>1408</td>\n",
       "      <td>1408</td>\n",
       "      <td>1408</td>\n",
       "      <td>1408</td>\n",
       "      <td>1408</td>\n",
       "    </tr>\n",
       "    <tr>\n",
       "      <th>Subscriber</th>\n",
       "      <td>1719</td>\n",
       "      <td>1719</td>\n",
       "      <td>1719</td>\n",
       "      <td>1719</td>\n",
       "      <td>1719</td>\n",
       "      <td>1719</td>\n",
       "      <td>1719</td>\n",
       "      <td>1719</td>\n",
       "      <td>1719</td>\n",
       "      <td>1719</td>\n",
       "      <td>1719</td>\n",
       "      <td>1719</td>\n",
       "      <td>1719</td>\n",
       "    </tr>\n",
       "  </tbody>\n",
       "</table>\n",
       "<p>192 rows × 13 columns</p>\n",
       "</div>"
      ],
      "text/plain": [
       "                       tripduration  starttime  stoptime  start station id  \\\n",
       "birth year usertype                                                          \n",
       "1873       Subscriber             2          2         2                 2   \n",
       "1884       Subscriber             3          3         3                 3   \n",
       "1885       Subscriber            52         52        52                52   \n",
       "1886       Subscriber            24         24        24                24   \n",
       "1888       Subscriber           131        131       131               131   \n",
       "...                             ...        ...       ...               ...   \n",
       "2002       Subscriber         13150      13150     13150             13150   \n",
       "2003       Customer            3207       3207      3207              3207   \n",
       "           Subscriber          5778       5778      5778              5778   \n",
       "2004       Customer            1408       1408      1408              1408   \n",
       "           Subscriber          1719       1719      1719              1719   \n",
       "\n",
       "                       start station name  start station latitude  \\\n",
       "birth year usertype                                                 \n",
       "1873       Subscriber                   2                       2   \n",
       "1884       Subscriber                   3                       3   \n",
       "1885       Subscriber                  52                      52   \n",
       "1886       Subscriber                  24                      24   \n",
       "1888       Subscriber                 131                     131   \n",
       "...                                   ...                     ...   \n",
       "2002       Subscriber               13150                   13150   \n",
       "2003       Customer                  3207                    3207   \n",
       "           Subscriber                5778                    5778   \n",
       "2004       Customer                  1408                    1408   \n",
       "           Subscriber                1719                    1719   \n",
       "\n",
       "                       start station longitude  end station id  \\\n",
       "birth year usertype                                              \n",
       "1873       Subscriber                        2               2   \n",
       "1884       Subscriber                        3               3   \n",
       "1885       Subscriber                       52              52   \n",
       "1886       Subscriber                       24              24   \n",
       "1888       Subscriber                      131             131   \n",
       "...                                        ...             ...   \n",
       "2002       Subscriber                    13150           13150   \n",
       "2003       Customer                       3207            3207   \n",
       "           Subscriber                     5778            5778   \n",
       "2004       Customer                       1408            1408   \n",
       "           Subscriber                     1719            1719   \n",
       "\n",
       "                       end station name  end station latitude  \\\n",
       "birth year usertype                                             \n",
       "1873       Subscriber                 2                     2   \n",
       "1884       Subscriber                 3                     3   \n",
       "1885       Subscriber                52                    52   \n",
       "1886       Subscriber                24                    24   \n",
       "1888       Subscriber               131                   131   \n",
       "...                                 ...                   ...   \n",
       "2002       Subscriber             13150                 13150   \n",
       "2003       Customer                3207                  3207   \n",
       "           Subscriber              5778                  5778   \n",
       "2004       Customer                1408                  1408   \n",
       "           Subscriber              1719                  1719   \n",
       "\n",
       "                       end station longitude  bikeid  gender  \n",
       "birth year usertype                                           \n",
       "1873       Subscriber                      2       2       2  \n",
       "1884       Subscriber                      3       3       3  \n",
       "1885       Subscriber                     52      52      52  \n",
       "1886       Subscriber                     24      24      24  \n",
       "1888       Subscriber                    131     131     131  \n",
       "...                                      ...     ...     ...  \n",
       "2002       Subscriber                  13150   13150   13150  \n",
       "2003       Customer                     3207    3207    3207  \n",
       "           Subscriber                   5778    5778    5778  \n",
       "2004       Customer                     1408    1408    1408  \n",
       "           Subscriber                   1719    1719    1719  \n",
       "\n",
       "[192 rows x 13 columns]"
      ]
     },
     "execution_count": 28,
     "metadata": {},
     "output_type": "execute_result"
    }
   ],
   "source": [
    "df_grouped_age_usertype"
   ]
  },
  {
   "cell_type": "markdown",
   "metadata": {},
   "source": [
    "<hr style=\"border-top: 3px solid gray;\">"
   ]
  },
  {
   "cell_type": "markdown",
   "metadata": {},
   "source": [
    "* What is the average distance in miles that a bike is ridden?"
   ]
  },
  {
   "cell_type": "code",
   "execution_count": 29,
   "metadata": {},
   "outputs": [
    {
     "name": "stdout",
     "output_type": "stream",
     "text": [
      "Distance is 1.0 miles\n"
     ]
    }
   ],
   "source": [
    "from geopy.distance import geodesic\n",
    "\n",
    "origin = (df_merged['start station latitude'].iloc[0], df_merged['start station longitude'].iloc[0])\n",
    "dist = (df_merged['end station latitude'].iloc[0], df_merged['end station longitude'].iloc[0])\n",
    "print(f\"Distance is {round(100*geodesic(origin, dist).miles)/100} miles\")"
   ]
  },
  {
   "cell_type": "code",
   "execution_count": null,
   "metadata": {},
   "outputs": [],
   "source": [
    "list_distances = []\n",
    "for index in range(len(df_merged.index)):\n",
    "    origin = (df_merged['start station latitude'].iloc[index], df_merged['start station longitude'].iloc[index])\n",
    "    dist = (df_merged['end station latitude'].iloc[index], df_merged['end station longitude'].iloc[index])\n",
    "#     print(f\"Distance is {round(100*geodesic(origin, dist).miles)/100} miles\")\n",
    "    list_distances.append(round(100*geodesic(origin, dist).miles)/100)"
   ]
  },
  {
   "cell_type": "code",
   "execution_count": null,
   "metadata": {},
   "outputs": [],
   "source": [
    "average_distance = sum(list_distances)/len(list_distances)"
   ]
  },
  {
   "cell_type": "code",
   "execution_count": null,
   "metadata": {},
   "outputs": [],
   "source": [
    "average_distance"
   ]
  },
  {
   "cell_type": "code",
   "execution_count": null,
   "metadata": {},
   "outputs": [],
   "source": [
    "pd.DataFrame(list_distances).hist()"
   ]
  },
  {
   "cell_type": "markdown",
   "metadata": {},
   "source": [
    "<hr style=\"border-top: 3px solid gray;\">"
   ]
  },
  {
   "cell_type": "markdown",
   "metadata": {},
   "source": [
    "* Which bikes (by ID) are most likely due for repair or inspection in the timespan?"
   ]
  },
  {
   "cell_type": "code",
   "execution_count": null,
   "metadata": {},
   "outputs": [],
   "source": [
    "df_groupby = df_merged.groupby(\"bikeid\")"
   ]
  },
  {
   "cell_type": "code",
   "execution_count": null,
   "metadata": {},
   "outputs": [],
   "source": [
    "ax = df_groupby['tripduration'].sum().sort_values(ascending=False).head(15).plot(kind=\"bar\", color=\"y\", alpha=1,figsize=(15, 5))\n",
    "ax.set_xlabel(\"bikeid\");\n",
    "ax.set_ylabel(\"Trip Duration (s)\");\n",
    "ax.set_title(\"Top 10 Bikes By Total Trip Time\");"
   ]
  },
  {
   "cell_type": "code",
   "execution_count": null,
   "metadata": {},
   "outputs": [],
   "source": [
    "ax = df_groupby['tripduration'].sum().sort_values(ascending=True).head(15).sort_values(ascending=False).plot(kind=\"bar\", color=\"g\", alpha=1,figsize=(15, 5))\n",
    "ax.set_xlabel(\"bikeid\");\n",
    "ax.set_ylabel(\"Trip Duration (s)\");\n",
    "ax.set_title(\"Bottom 10 Bikes By Total Trip Time\");"
   ]
  },
  {
   "cell_type": "markdown",
   "metadata": {},
   "source": [
    "<hr style=\"border-top: 3px solid gray;\">"
   ]
  },
  {
   "cell_type": "markdown",
   "metadata": {},
   "source": [
    "* How variable is the utilization by bike ID?"
   ]
  },
  {
   "cell_type": "code",
   "execution_count": null,
   "metadata": {},
   "outputs": [],
   "source": [
    "ax = df_groupby['tripduration'].count().plot(color=\"k\", alpha=1,figsize=(15, 5))\n",
    "ax.set_xlabel(\"bikeid\");\n",
    "ax.set_ylabel(\"Trip\");\n",
    "ax.set_title(\"Total Trips by Bike\");"
   ]
  },
  {
   "cell_type": "code",
   "execution_count": null,
   "metadata": {},
   "outputs": [],
   "source": [
    "ax = df_groupby['tripduration'].sum().plot(color=\"r\", alpha=1,figsize=(15, 5))\n",
    "ax.set_xlabel(\"bikeid\");\n",
    "ax.set_ylabel(\"Trip Duration (s)\");\n",
    "ax.set_title(\"Total Trip Duration by Bike\");"
   ]
  },
  {
   "cell_type": "markdown",
   "metadata": {},
   "source": [
    "<hr style=\"border-top: 3px solid gray;\">"
   ]
  },
  {
   "cell_type": "code",
   "execution_count": null,
   "metadata": {},
   "outputs": [],
   "source": []
  }
 ],
 "metadata": {
  "kernelspec": {
   "display_name": "Python 3",
   "language": "python",
   "name": "python3"
  },
  "language_info": {
   "codemirror_mode": {
    "name": "ipython",
    "version": 3
   },
   "file_extension": ".py",
   "mimetype": "text/x-python",
   "name": "python",
   "nbconvert_exporter": "python",
   "pygments_lexer": "ipython3",
   "version": "3.7.9"
  }
 },
 "nbformat": 4,
 "nbformat_minor": 4
}
