{
 "cells": [
  {
   "cell_type": "markdown",
   "metadata": {},
   "source": [
    "# Tableau Homework - Citi Bike Analytics"
   ]
  },
  {
   "cell_type": "markdown",
   "metadata": {},
   "source": [
    "Since 2013, the Citi Bike Program has implemented a robust infrastructure for collecting data on the program's utilization. Through the team's efforts, each month bike data is collected, organized, and made public on the Citi Bike Data [webpage](https://www.citibikenyc.com/system-data)"
   ]
  },
  {
   "cell_type": "markdown",
   "metadata": {},
   "source": [
    "Task\n",
    "Your task in this assignment is to aggregate the data found in the Citi Bike Trip History Logs and find two unexpected phenomena.\n",
    "\n",
    "Design 2-5 visualizations for each discovered phenomena (4-10 total). You may work with a timespan of your choosing. Optionally, you may merge multiple datasets from different periods."
   ]
  },
  {
   "cell_type": "markdown",
   "metadata": {},
   "source": [
    "### Import Dependencies"
   ]
  },
  {
   "cell_type": "code",
   "execution_count": 1,
   "metadata": {},
   "outputs": [],
   "source": [
    "import os\n",
    "import pandas as pd"
   ]
  },
  {
   "cell_type": "markdown",
   "metadata": {},
   "source": [
    "### Import and clean the data"
   ]
  },
  {
   "cell_type": "code",
   "execution_count": 2,
   "metadata": {},
   "outputs": [],
   "source": [
    "directory = os.path.join(\"data\",\"NY-2018-2020\")"
   ]
  },
  {
   "cell_type": "code",
   "execution_count": 3,
   "metadata": {
    "scrolled": false
   },
   "outputs": [
    {
     "name": "stdout",
     "output_type": "stream",
     "text": [
      "['202001-citibike-tripdata.csv', '202002-citibike-tripdata.csv', '202003-citibike-tripdata.csv', '202004-citibike-tripdata.csv', '202005-citibike-tripdata.csv', '202006-citibike-tripdata.csv', '202007-citibike-tripdata.csv', '202008-citibike-tripdata.csv', '202009-citibike-tripdata.csv', '202010-citibike-tripdata.csv', '202011-citibike-tripdata.csv']\n"
     ]
    }
   ],
   "source": [
    "# Get list of files on the directory\n",
    "files_list = [];\n",
    "for filename in os.listdir(directory):\n",
    "    if filename.endswith(\".csv\"):\n",
    "        files_list.append(os.path.join(filename))\n",
    "\n",
    "    else:\n",
    "        continue\n",
    "print(files_list)"
   ]
  },
  {
   "cell_type": "code",
   "execution_count": 4,
   "metadata": {},
   "outputs": [],
   "source": [
    "df_merged = pd.DataFrame({'A' : []})"
   ]
  },
  {
   "cell_type": "code",
   "execution_count": null,
   "metadata": {},
   "outputs": [
    {
     "name": "stdout",
     "output_type": "stream",
     "text": [
      "______________________________\n",
      "202001-citibike-tripdata.csv\n",
      "______________________________\n",
      "202002-citibike-tripdata.csv\n",
      "______________________________\n",
      "202003-citibike-tripdata.csv\n",
      "______________________________\n",
      "202004-citibike-tripdata.csv\n",
      "______________________________\n",
      "202005-citibike-tripdata.csv\n",
      "______________________________\n",
      "202006-citibike-tripdata.csv\n",
      "______________________________\n",
      "202007-citibike-tripdata.csv\n",
      "______________________________\n",
      "202008-citibike-tripdata.csv\n",
      "______________________________\n",
      "202009-citibike-tripdata.csv\n",
      "______________________________\n",
      "202010-citibike-tripdata.csv\n"
     ]
    }
   ],
   "source": [
    "n = 0\n",
    "for file in files_list:\n",
    "    print('--'*30)\n",
    "    print(f\"File {n} of {len(files_list)}: {file}\")\n",
    "    if n == 0:\n",
    "        filepath = os.path.join(directory,file)\n",
    "        df_merged = pd.read_csv(filepath)\n",
    "    else:\n",
    "        filepath = os.path.join(directory,file)\n",
    "        df = pd.read_csv(filepath)\n",
    "        df_merged = pd.merge(df, df_merged, how='outer')\n",
    "    \n",
    "    n += 1"
   ]
  },
  {
   "cell_type": "code",
   "execution_count": null,
   "metadata": {},
   "outputs": [],
   "source": [
    "df_merged"
   ]
  },
  {
   "cell_type": "code",
   "execution_count": null,
   "metadata": {},
   "outputs": [],
   "source": [
    "df_merged.isnull().sum()"
   ]
  },
  {
   "cell_type": "code",
   "execution_count": null,
   "metadata": {},
   "outputs": [],
   "source": [
    "df_merged.isnull().values.any()"
   ]
  },
  {
   "cell_type": "code",
   "execution_count": null,
   "metadata": {},
   "outputs": [],
   "source": [
    "# creating bool series True for NaN values  \n",
    "bool_series = pd.isnull(df_merged['starttime'])  \n",
    "    \n",
    "bool_series.describe()"
   ]
  },
  {
   "cell_type": "markdown",
   "metadata": {},
   "source": [
    "### Analytics"
   ]
  },
  {
   "cell_type": "markdown",
   "metadata": {},
   "source": [
    "* How many trips have been recorded total during the chosen period?"
   ]
  },
  {
   "cell_type": "code",
   "execution_count": null,
   "metadata": {},
   "outputs": [],
   "source": [
    "# How many trips have been recorded total during the chosen period?\n",
    "total_trips = df_merged['tripduration'].count()\n",
    "print(f\"How many trips have been recorded total during the chosen period? \\nR:{total_trips}\")"
   ]
  },
  {
   "cell_type": "markdown",
   "metadata": {},
   "source": [
    "<hr style=\"border-top: 3px solid gray;\">"
   ]
  },
  {
   "cell_type": "markdown",
   "metadata": {},
   "source": [
    "* By what percentage has total ridership grown?"
   ]
  },
  {
   "cell_type": "code",
   "execution_count": null,
   "metadata": {},
   "outputs": [],
   "source": [
    "df_merged.index = pd.to_datetime(df_merged['starttime'],format='%Y-%m-%d')\n",
    "df_grouped_starttime = df_merged.groupby(by=[ df_merged.index.year])\n",
    "# df_grouped_starttime = df_merged.groupby(by=[ df_merged.index.year, df_merged.index.month])"
   ]
  },
  {
   "cell_type": "code",
   "execution_count": null,
   "metadata": {},
   "outputs": [],
   "source": [
    "df_grouped_year = df_grouped_starttime.count()\n",
    "df_grouped_year"
   ]
  },
  {
   "cell_type": "code",
   "execution_count": null,
   "metadata": {},
   "outputs": [],
   "source": [
    "ax = df_grouped_year['tripduration'].plot(kind=\"bar\",color=\"black\", alpha=0.5,rot=0,figsize=(15, 5))\n",
    "ax.set_xlabel(\"\");\n",
    "ax.set_ylabel(\"Trips\");\n",
    "ax.set_title(\"Total Bike Trips by Year\");"
   ]
  },
  {
   "cell_type": "code",
   "execution_count": null,
   "metadata": {},
   "outputs": [],
   "source": [
    "growth_2019 = df_grouped_year['tripduration'].iloc[1] / df_grouped_year['tripduration'].iloc[0]\n",
    "growth_2020 = df_grouped_year['tripduration'].iloc[2] / df_grouped_year['tripduration'].iloc[1]"
   ]
  },
  {
   "cell_type": "code",
   "execution_count": null,
   "metadata": {},
   "outputs": [],
   "source": [
    "print(f\"Growth 2019: {round(growth_2019*100)}%\")\n",
    "print(f\"Growth 2020*: {round(growth_2020*100)}%\")\n",
    "print(\"\\n* for 2020 still missing December\")"
   ]
  },
  {
   "cell_type": "markdown",
   "metadata": {},
   "source": [
    "<hr style=\"border-top: 3px solid gray;\">"
   ]
  },
  {
   "cell_type": "markdown",
   "metadata": {},
   "source": [
    "* How has the proportion of short-term customers and annual subscribers changed?"
   ]
  },
  {
   "cell_type": "code",
   "execution_count": null,
   "metadata": {},
   "outputs": [],
   "source": [
    "df_Subscriber = df_merged.loc[df_merged['usertype'] == 'Subscriber']\n",
    "df_Subscriber_grouped_year = df_Subscriber.groupby(by=[ df_Subscriber.index.year]).count()\n",
    "df_Subscriber_grouped_year"
   ]
  },
  {
   "cell_type": "code",
   "execution_count": null,
   "metadata": {},
   "outputs": [],
   "source": [
    "subscriber_to_total = 100*df_Subscriber_grouped_year['tripduration']/df_grouped_year['tripduration']\n",
    "subscriber_to_total.plot(kind='bar',figsize=(15, 5))"
   ]
  },
  {
   "cell_type": "code",
   "execution_count": null,
   "metadata": {},
   "outputs": [],
   "source": [
    "customer_to_total = 100*(1-df_Subscriber_grouped_year['tripduration']/df_grouped_year['tripduration'])\n",
    "ax = customer_to_total.plot(kind='bar',color=\"r\", alpha=0.5,rot=0,figsize=(15, 5))\n",
    "ax.set_xlabel(\"\");\n",
    "ax.set_ylabel(\"%\");\n",
    "ax.set_title(\"Non-Subscriber's Growth by Year\");"
   ]
  },
  {
   "cell_type": "markdown",
   "metadata": {},
   "source": [
    "<hr style=\"border-top: 3px solid gray;\">"
   ]
  },
  {
   "cell_type": "markdown",
   "metadata": {},
   "source": [
    "* What are the peak hours in which bikes are used during summer months?"
   ]
  },
  {
   "cell_type": "code",
   "execution_count": null,
   "metadata": {},
   "outputs": [],
   "source": [
    "# summer (June, July, August)\n",
    "df_resampled_year = df_merged['starttime'].resample('Y')\n",
    "df_resampled_year\n"
   ]
  },
  {
   "cell_type": "code",
   "execution_count": null,
   "metadata": {},
   "outputs": [],
   "source": [
    "df_resampled_year.count()"
   ]
  },
  {
   "cell_type": "code",
   "execution_count": null,
   "metadata": {},
   "outputs": [],
   "source": [
    "df_resampled_by_hour = df_merged['starttime'].resample('H').count()"
   ]
  },
  {
   "cell_type": "code",
   "execution_count": null,
   "metadata": {},
   "outputs": [],
   "source": [
    "df_resampled_by_hour"
   ]
  },
  {
   "cell_type": "code",
   "execution_count": null,
   "metadata": {},
   "outputs": [],
   "source": [
    "df_resampled_by_hour_summer_2018 = df_resampled_by_hour.loc[(df_resampled_by_hour.index >= \"2018-06-01\")]"
   ]
  },
  {
   "cell_type": "code",
   "execution_count": null,
   "metadata": {},
   "outputs": [],
   "source": [
    "df_resampled_by_hour_summer_2018 = df_resampled_by_hour_summer_2018.loc[(df_resampled_by_hour_summer_2018.index < \"2018-09-01\")]"
   ]
  },
  {
   "cell_type": "code",
   "execution_count": null,
   "metadata": {},
   "outputs": [],
   "source": [
    "df_summer_2018 = pd.DataFrame(df_resampled_by_hour_summer_2018.resample('H').sum())"
   ]
  },
  {
   "cell_type": "code",
   "execution_count": null,
   "metadata": {},
   "outputs": [],
   "source": [
    "df_summer_2018.plot()"
   ]
  },
  {
   "cell_type": "code",
   "execution_count": null,
   "metadata": {},
   "outputs": [],
   "source": [
    "ax = df_summer_2018.groupby(by=[ df_summer_2018.index.hour]).sum().plot(kind=\"bar\", color=\"g\", alpha=0.5,rot=0,figsize=(15, 5))\n",
    "ax.set_xlabel(\"Hour\");\n",
    "ax.set_ylabel(\"Trips\");\n",
    "ax.set_title(\"Trips by Hour (Summer 2018)\");"
   ]
  },
  {
   "cell_type": "code",
   "execution_count": null,
   "metadata": {},
   "outputs": [],
   "source": [
    "df_resampled_by_hour_summer_2019 = df_resampled_by_hour.loc[(df_resampled_by_hour.index >= \"2019-06-01\")]\n",
    "df_resampled_by_hour_summer_2019 = df_resampled_by_hour_summer_2019.loc[(df_resampled_by_hour_summer_2019.index < \"2019-09-01\")]\n",
    "df_summer_2019 = pd.DataFrame(df_resampled_by_hour_summer_2019.resample('H').sum())\n",
    "ax = df_summer_2019.groupby(by=[ df_summer_2019.index.hour]).sum().plot(kind=\"bar\", color=\"b\", alpha=0.5,rot=0,figsize=(15, 5))\n",
    "ax.set_xlabel(\"Hour\");\n",
    "ax.set_ylabel(\"Trips\");\n",
    "ax.set_title(\"Trips by Hour (Summer 2019)\");"
   ]
  },
  {
   "cell_type": "code",
   "execution_count": null,
   "metadata": {},
   "outputs": [],
   "source": [
    "df_resampled_by_hour_summer_2020 = df_resampled_by_hour.loc[(df_resampled_by_hour.index >= \"2020-06-01\")]\n",
    "df_resampled_by_hour_summer_2020 = df_resampled_by_hour_summer_2020.loc[(df_resampled_by_hour_summer_2020.index < \"2020-09-01\")]\n",
    "df_summer_2020 = pd.DataFrame(df_resampled_by_hour_summer_2020.resample('H').sum())\n",
    "ax = df_summer_2020.groupby(by=[ df_summer_2020.index.hour]).sum().plot(kind=\"bar\", color=\"r\", alpha=0.5,rot=0,figsize=(15, 5))\n",
    "ax.set_xlabel(\"Hour\");\n",
    "ax.set_ylabel(\"Trips\");\n",
    "ax.set_title(\"Trips by Hour (Summer 2020)\");"
   ]
  },
  {
   "cell_type": "markdown",
   "metadata": {},
   "source": [
    "<hr style=\"border-top: 3px solid gray;\">"
   ]
  },
  {
   "cell_type": "markdown",
   "metadata": {},
   "source": [
    "* What are the peak hours in which bikes are used during winter months?"
   ]
  },
  {
   "cell_type": "code",
   "execution_count": null,
   "metadata": {},
   "outputs": [],
   "source": [
    "df_resampled_by_hour_winter_2018 = df_resampled_by_hour.loc[(df_resampled_by_hour.index >= \"2018-01-01\")]\n",
    "df_resampled_by_hour_winter_2018 = df_resampled_by_hour_winter_2018.loc[(df_resampled_by_hour_winter_2018.index < \"2018-03-01\")]\n",
    "df_winter_2018 = pd.DataFrame(df_resampled_by_hour_winter_2018.resample('H').sum())\n",
    "ax = df_winter_2018.groupby(by=[ df_winter_2018.index.hour]).sum().plot(kind=\"bar\", color=\"g\", alpha=0.5,rot=0,figsize=(15, 5))\n",
    "ax.set_xlabel(\"Hour\");\n",
    "ax.set_ylabel(\"Trips\");\n",
    "ax.set_title(\"Trips by Hour (Winter 2018)\");"
   ]
  },
  {
   "cell_type": "code",
   "execution_count": null,
   "metadata": {},
   "outputs": [],
   "source": [
    "df_resampled_by_hour_winter_2019 = df_resampled_by_hour.loc[(df_resampled_by_hour.index >= \"2019-01-01\")]\n",
    "df_resampled_by_hour_winter_2019 = df_resampled_by_hour_winter_2019.loc[(df_resampled_by_hour_winter_2019.index < \"2019-03-01\")]\n",
    "df_winter_2019 = pd.DataFrame(df_resampled_by_hour_winter_2019.resample('H').sum())\n",
    "ax = df_winter_2019.groupby(by=[ df_winter_2019.index.hour]).sum().plot(kind=\"bar\", color=\"b\", alpha=0.5,rot=0,figsize=(15, 5))\n",
    "ax.set_xlabel(\"Hour\");\n",
    "ax.set_ylabel(\"Trips\");\n",
    "ax.set_title(\"Trips by Hour (Winter 2019)\");"
   ]
  },
  {
   "cell_type": "code",
   "execution_count": null,
   "metadata": {},
   "outputs": [],
   "source": [
    "df_resampled_by_hour_winter_2020 = df_resampled_by_hour.loc[(df_resampled_by_hour.index >= \"2020-01-01\")]\n",
    "df_resampled_by_hour_winter_2020 = df_resampled_by_hour_winter_2020.loc[(df_resampled_by_hour_winter_2020.index < \"2020-03-01\")]\n",
    "df_winter_2020 = pd.DataFrame(df_resampled_by_hour_winter_2020.resample('H').sum())\n",
    "ax = df_winter_2020.groupby(by=[ df_winter_2020.index.hour]).sum().plot(kind=\"bar\", color=\"r\", alpha=0.5,rot=0,figsize=(15, 5))\n",
    "ax.set_xlabel(\"Hour\");\n",
    "ax.set_ylabel(\"Trips\");\n",
    "ax.set_title(\"Trips by Hour (Winter 2020)\");"
   ]
  },
  {
   "cell_type": "markdown",
   "metadata": {},
   "source": [
    "<hr style=\"border-top: 3px solid gray;\">"
   ]
  },
  {
   "cell_type": "markdown",
   "metadata": {},
   "source": [
    "* Today, what are the top 10 stations in the city for starting a journey? (Based on data, why do you hypothesize these are the top locations?)"
   ]
  },
  {
   "cell_type": "code",
   "execution_count": null,
   "metadata": {},
   "outputs": [],
   "source": [
    "top10_start_stations = df_merged.loc[(df_merged.index >= \"2020-11-01\")].groupby(\"start station name\").count().sort_values(\"tripduration\",ascending=False).head(10)\n",
    "ax = top10_start_stations['tripduration'].plot(kind=\"bar\", color=\"fuchsia\", alpha=1,figsize=(15, 5))\n",
    "ax.set_xlabel(\"\");\n",
    "ax.set_ylabel(\"Trips\");\n",
    "ax.set_title(\"Top 10 Stations For Starting A Journey\");"
   ]
  },
  {
   "cell_type": "markdown",
   "metadata": {},
   "source": [
    "<hr style=\"border-top: 3px solid gray;\">"
   ]
  },
  {
   "cell_type": "markdown",
   "metadata": {},
   "source": [
    "* Today, what are the top 10 stations in the city for ending a journey? (Based on data, why?)"
   ]
  },
  {
   "cell_type": "code",
   "execution_count": null,
   "metadata": {},
   "outputs": [],
   "source": [
    "top10_ending_stations = df_merged.loc[(df_merged.index >= \"2020-11-01\")].groupby(\"end station name\").count().sort_values(\"tripduration\",ascending=False).head(10)\n",
    "ax = top10_ending_stations['tripduration'].plot(kind=\"bar\", color=\"tan\", alpha=1,figsize=(15, 5))\n",
    "ax.set_xlabel(\"\");\n",
    "ax.set_ylabel(\"Trips\");\n",
    "ax.set_title(\"Top 10 Stations For Ending A Journey\");"
   ]
  },
  {
   "cell_type": "markdown",
   "metadata": {},
   "source": [
    "<hr style=\"border-top: 3px solid gray;\">"
   ]
  },
  {
   "cell_type": "markdown",
   "metadata": {},
   "source": [
    "* Today, what are the bottom 10 stations in the city for starting a journey? (Based on data, why?)"
   ]
  },
  {
   "cell_type": "code",
   "execution_count": null,
   "metadata": {},
   "outputs": [],
   "source": [
    "bottom10_start_stations = df_merged.loc[(df_merged.index >= \"2020-11-01\")].groupby(\"start station name\").count().sort_values(\"tripduration\",ascending=True).head(10).sort_values(\"tripduration\",ascending=False)\n",
    "ax = bottom10_start_stations['tripduration'].plot(kind=\"bar\", color=\"sienna\", alpha=1,figsize=(15, 5))\n",
    "ax.set_xlabel(\"\");\n",
    "ax.set_ylabel(\"Trips\");\n",
    "ax.set_title(\"Bottom 10 Stations For Starting A Journey\");"
   ]
  },
  {
   "cell_type": "markdown",
   "metadata": {},
   "source": [
    "<hr style=\"border-top: 3px solid gray;\">"
   ]
  },
  {
   "cell_type": "markdown",
   "metadata": {},
   "source": [
    "* Today, what are the bottom 10 stations in the city for ending a journey (Based on data, why?)"
   ]
  },
  {
   "cell_type": "code",
   "execution_count": null,
   "metadata": {},
   "outputs": [],
   "source": [
    "bottom10_ending_stations = df_merged.loc[(df_merged.index >= \"2020-11-01\")].groupby(\"end station name\").count().sort_values(\"tripduration\",ascending=True).head(10).sort_values(\"tripduration\",ascending=False)\n",
    "ax = bottom10_ending_stations['tripduration'].plot(kind=\"bar\", color=\"teal\", alpha=1,figsize=(15, 5))\n",
    "ax.set_xlabel(\"\");\n",
    "ax.set_ylabel(\"Trips\");\n",
    "ax.set_title(\"Bottom 10 Stations For Ending A Journey\");"
   ]
  },
  {
   "cell_type": "markdown",
   "metadata": {},
   "source": [
    "<hr style=\"border-top: 3px solid gray;\">"
   ]
  },
  {
   "cell_type": "markdown",
   "metadata": {},
   "source": [
    "* Today, what is the gender breakdown of active participants (Male v. Female)?"
   ]
  },
  {
   "cell_type": "code",
   "execution_count": null,
   "metadata": {},
   "outputs": [],
   "source": [
    "gender_breakdown = df_merged.loc[(df_merged.index >= \"2020-11-01\") & (df_merged.gender != 0)].groupby(\"gender\")\n",
    "ax = gender_breakdown['tripduration'].count().plot(kind=\"bar\", rot=0,color=\"violet\", alpha=1,figsize=(15, 5))\n",
    "ax.set_xlabel(\"1=male; 2=female\");\n",
    "ax.set_ylabel(\"Trips\");\n",
    "ax.set_title(\"Gender Breakdown\");"
   ]
  },
  {
   "cell_type": "markdown",
   "metadata": {},
   "source": [
    "<hr style=\"border-top: 3px solid gray;\">"
   ]
  },
  {
   "cell_type": "markdown",
   "metadata": {},
   "source": [
    "* How effective has gender outreach been in increasing female ridership over the timespan?"
   ]
  },
  {
   "cell_type": "code",
   "execution_count": null,
   "metadata": {},
   "outputs": [],
   "source": [
    "female_ridership_by_month = df_merged['tripduration'].loc[(df_merged.gender == 2)].resample(\"M\").count() / df_merged['tripduration'].resample(\"M\").count()\n",
    "ax = female_ridership_by_month.plot(color=\"violet\",marker='*', alpha=1,figsize=(15, 5))\n",
    "ax.set_xlabel(\"\");\n",
    "ax.set_ylabel(\"Trips\");\n",
    "ax.set_title(\"Female Ridership By Month\");"
   ]
  },
  {
   "cell_type": "markdown",
   "metadata": {},
   "source": [
    "<hr style=\"border-top: 3px solid gray;\">"
   ]
  },
  {
   "cell_type": "markdown",
   "metadata": {},
   "source": [
    "* How does the average trip duration change by age?"
   ]
  },
  {
   "cell_type": "code",
   "execution_count": null,
   "metadata": {},
   "outputs": [],
   "source": [
    "df_merged['birth year'].value_counts()"
   ]
  },
  {
   "cell_type": "code",
   "execution_count": null,
   "metadata": {},
   "outputs": [],
   "source": [
    "ax = df_merged['birth year'].hist(bins=50,color=\"b\", alpha=.3,figsize=(15, 5))\n",
    "ax.set_xlabel(\"Birth Year\");\n",
    "ax.set_ylabel(\"Trip Frequency\");\n",
    "ax.set_title(\"Birth Year Distribution By Trip\");"
   ]
  },
  {
   "cell_type": "code",
   "execution_count": null,
   "metadata": {},
   "outputs": [],
   "source": [
    "df_grouped_age = df_merged.groupby(\"birth year\")"
   ]
  },
  {
   "cell_type": "code",
   "execution_count": null,
   "metadata": {},
   "outputs": [],
   "source": [
    "ax = df_grouped_age['tripduration'].mean().plot(kind=\"bar\",color=\"k\", alpha=1,figsize=(18, 5))\n",
    "ax.set_xlabel(\"Year\");\n",
    "ax.set_ylabel(\"Average Trip Duration (s)\");\n",
    "ax.set_title(\"Average Trip Duration By Birth Date\");"
   ]
  },
  {
   "cell_type": "code",
   "execution_count": null,
   "metadata": {},
   "outputs": [],
   "source": [
    "# Show the outlier for Birth Year 1902\n",
    "df_merged.loc[(df_merged['birth year'] == 1902)]"
   ]
  },
  {
   "cell_type": "code",
   "execution_count": null,
   "metadata": {},
   "outputs": [],
   "source": [
    "# Show the outlier for Birth Year 1910\n",
    "df_merged.loc[(df_merged['birth year'] == 1910) & (df_merged['tripduration'] > 5000)]"
   ]
  },
  {
   "cell_type": "code",
   "execution_count": null,
   "metadata": {},
   "outputs": [],
   "source": [
    "df_grouped_age_usertype = df_merged.groupby([\"birth year\",\"usertype\"]).count()"
   ]
  },
  {
   "cell_type": "code",
   "execution_count": null,
   "metadata": {},
   "outputs": [],
   "source": [
    "df_grouped_age_usertype"
   ]
  },
  {
   "cell_type": "code",
   "execution_count": null,
   "metadata": {},
   "outputs": [],
   "source": [
    "# Verifind the outlier for birth year 1969\n",
    "df_merged['usertype'][df_merged['birth year'] == 1969].value_counts()"
   ]
  },
  {
   "cell_type": "code",
   "execution_count": null,
   "metadata": {},
   "outputs": [],
   "source": [
    "df_merged[(df_merged['birth year'] == 1969) & (df_merged['usertype'] == 'Customer')]"
   ]
  },
  {
   "cell_type": "code",
   "execution_count": null,
   "metadata": {},
   "outputs": [],
   "source": [
    "df_merged[['starttime','tripduration']][(df_merged['birth year'] == 1969) & (df_merged['usertype'] == 'Customer')].groupby('starttime').sum()"
   ]
  },
  {
   "cell_type": "markdown",
   "metadata": {},
   "source": [
    "<hr style=\"border-top: 3px solid gray;\">"
   ]
  },
  {
   "cell_type": "markdown",
   "metadata": {},
   "source": [
    "* What is the average distance in miles that a bike is ridden?"
   ]
  },
  {
   "cell_type": "code",
   "execution_count": null,
   "metadata": {},
   "outputs": [],
   "source": [
    "from geopy.distance import geodesic\n",
    "\n",
    "origin = (df_merged['start station latitude'].iloc[0], df_merged['start station longitude'].iloc[0])\n",
    "dist = (df_merged['end station latitude'].iloc[0], df_merged['end station longitude'].iloc[0])\n",
    "print(f\"Distance is {round(100*geodesic(origin, dist).miles)/100} miles\")"
   ]
  },
  {
   "cell_type": "code",
   "execution_count": null,
   "metadata": {},
   "outputs": [],
   "source": [
    "list_distances = []\n",
    "for index in range(len(df_merged.index)):\n",
    "    origin = (df_merged['start station latitude'].iloc[index], df_merged['start station longitude'].iloc[index])\n",
    "    dist = (df_merged['end station latitude'].iloc[index], df_merged['end station longitude'].iloc[index])\n",
    "#     print(f\"Distance is {round(100*geodesic(origin, dist).miles)/100} miles\")\n",
    "    list_distances.append(round(100*geodesic(origin, dist).miles)/100)"
   ]
  },
  {
   "cell_type": "code",
   "execution_count": null,
   "metadata": {},
   "outputs": [],
   "source": [
    "average_distance = sum(list_distances)/len(list_distances)"
   ]
  },
  {
   "cell_type": "code",
   "execution_count": null,
   "metadata": {},
   "outputs": [],
   "source": [
    "average_distance"
   ]
  },
  {
   "cell_type": "code",
   "execution_count": null,
   "metadata": {},
   "outputs": [],
   "source": [
    "pd.DataFrame(list_distances).hist()"
   ]
  },
  {
   "cell_type": "markdown",
   "metadata": {},
   "source": [
    "<hr style=\"border-top: 3px solid gray;\">"
   ]
  },
  {
   "cell_type": "markdown",
   "metadata": {},
   "source": [
    "* Which bikes (by ID) are most likely due for repair or inspection in the timespan?"
   ]
  },
  {
   "cell_type": "code",
   "execution_count": null,
   "metadata": {},
   "outputs": [],
   "source": [
    "df_groupby = df_merged.groupby(\"bikeid\")"
   ]
  },
  {
   "cell_type": "code",
   "execution_count": null,
   "metadata": {},
   "outputs": [],
   "source": [
    "ax = df_groupby['tripduration'].sum().sort_values(ascending=False).head(15).plot(kind=\"bar\", color=\"y\", alpha=1,figsize=(15, 5))\n",
    "ax.set_xlabel(\"bikeid\");\n",
    "ax.set_ylabel(\"Trip Duration (s)\");\n",
    "ax.set_title(\"Top 10 Bikes By Total Trip Time\");"
   ]
  },
  {
   "cell_type": "code",
   "execution_count": null,
   "metadata": {},
   "outputs": [],
   "source": [
    "ax = df_groupby['tripduration'].sum().sort_values(ascending=True).head(15).sort_values(ascending=False).plot(kind=\"bar\", color=\"g\", alpha=1,figsize=(15, 5))\n",
    "ax.set_xlabel(\"bikeid\");\n",
    "ax.set_ylabel(\"Trip Duration (s)\");\n",
    "ax.set_title(\"Bottom 10 Bikes By Total Trip Time\");"
   ]
  },
  {
   "cell_type": "markdown",
   "metadata": {},
   "source": [
    "<hr style=\"border-top: 3px solid gray;\">"
   ]
  },
  {
   "cell_type": "markdown",
   "metadata": {},
   "source": [
    "* How variable is the utilization by bike ID?"
   ]
  },
  {
   "cell_type": "code",
   "execution_count": null,
   "metadata": {},
   "outputs": [],
   "source": [
    "ax = df_groupby['tripduration'].count().plot(color=\"k\", alpha=1,figsize=(15, 5))\n",
    "ax.set_xlabel(\"bikeid\");\n",
    "ax.set_ylabel(\"Trip\");\n",
    "ax.set_title(\"Total Trips by Bike\");"
   ]
  },
  {
   "cell_type": "code",
   "execution_count": null,
   "metadata": {},
   "outputs": [],
   "source": [
    "ax = df_groupby['tripduration'].sum().plot(color=\"r\", alpha=1,figsize=(15, 5))\n",
    "ax.set_xlabel(\"bikeid\");\n",
    "ax.set_ylabel(\"Trip Duration (s)\");\n",
    "ax.set_title(\"Total Trip Duration by Bike\");"
   ]
  },
  {
   "cell_type": "markdown",
   "metadata": {},
   "source": [
    "<hr style=\"border-top: 3px solid gray;\">"
   ]
  },
  {
   "cell_type": "code",
   "execution_count": null,
   "metadata": {},
   "outputs": [],
   "source": []
  }
 ],
 "metadata": {
  "kernelspec": {
   "display_name": "Python 3",
   "language": "python",
   "name": "python3"
  },
  "language_info": {
   "codemirror_mode": {
    "name": "ipython",
    "version": 3
   },
   "file_extension": ".py",
   "mimetype": "text/x-python",
   "name": "python",
   "nbconvert_exporter": "python",
   "pygments_lexer": "ipython3",
   "version": "3.7.9"
  }
 },
 "nbformat": 4,
 "nbformat_minor": 4
}
